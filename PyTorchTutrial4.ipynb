{
  "nbformat": 4,
  "nbformat_minor": 0,
  "metadata": {
    "colab": {
      "name": "PyTorchTutrial4.ipynb",
      "provenance": [],
      "collapsed_sections": [],
      "authorship_tag": "ABX9TyMN7xvAJpEFYjLCu1c99WAQ",
      "include_colab_link": true
    },
    "kernelspec": {
      "name": "python3",
      "display_name": "Python 3"
    },
    "accelerator": "GPU"
  },
  "cells": [
    {
      "cell_type": "markdown",
      "metadata": {
        "id": "view-in-github",
        "colab_type": "text"
      },
      "source": [
        "<a href=\"https://colab.research.google.com/github/perfectpanda-works/machine-learning/blob/master/PyTorchTutrial4.ipynb\" target=\"_parent\"><img src=\"https://colab.research.google.com/assets/colab-badge.svg\" alt=\"Open In Colab\"/></a>"
      ]
    },
    {
      "cell_type": "markdown",
      "metadata": {
        "id": "N36awUYcXT-R",
        "colab_type": "text"
      },
      "source": [
        "#分類問題の訓練"
      ]
    },
    {
      "cell_type": "markdown",
      "metadata": {
        "id": "kk6GtTodSxwe",
        "colab_type": "text"
      },
      "source": [
        "##入力データについて\n",
        "\n",
        "通常、画像、テキストファイル、オーディオファイル、ビデオなどをPythonプログラムで扱うときには、配列としてデータをロードします。これらのデータは、PyTorchのテンソル型に変換することもできます。\n",
        "\n",
        "イメージを扱うときは、PillowやOpenCV\n",
        "\n",
        "オーディオを扱うときはscipyやlibrosa\n",
        "\n",
        "テキストはPythonに組み込まれている関数やCython、NLTKやSpaCy\n",
        "\n",
        "といったライブラリが役に立ちます。\n",
        "\n",
        "PyTorchには、画像処理に対しては「torchvision」というパッケージがあります。これは、一般的なデータセット（MNISTやCIFAR１０など）のローダーを備えていたり、「torchvision.datasets」や「torch.utils.data.DataLoader」といった機能でより便利になっています。"
      ]
    },
    {
      "cell_type": "markdown",
      "metadata": {
        "id": "eC8Txo_DUprv",
        "colab_type": "text"
      },
      "source": [
        "チュートリアルでは、「CIFAR10」といデータセットを利用します。このデータセットは10クラス問題のための画像データを提供してくれます。\n",
        "答えのクラスとして\n",
        "‘airplane’,\n",
        "‘automobile’,\n",
        "‘bird’\n",
        "‘cat’\n",
        "‘deer’\n",
        "‘dog’\n",
        "‘frog’\n",
        "‘horse’\n",
        "‘ship’\n",
        "‘truck’\n",
        "に画像を分類します。\n",
        "画像サイズは3×32×32です。RGBの3チャンネル画像なので３次元の配列形式です。"
      ]
    },
    {
      "cell_type": "markdown",
      "metadata": {
        "id": "YLAe3zFpVMZH",
        "colab_type": "text"
      },
      "source": [
        "#画像分類器の訓練\n",
        "\n",
        "チュートリアルの全体像は次のような感じです。\n",
        "\n",
        "1.CIFAR10データの読み込みとNormalize\n",
        "\n",
        "torchvisionを利用してCIFAR10の訓練データとテストデータを読み込み、データを正規化します。\n",
        "\n",
        "2.畳み込みニューラルネットワークを定義\n",
        "\n",
        "3.損失関数を定義\n",
        "\n",
        "4.訓練データでネットワークを訓練\n",
        "\n",
        "5.テストデータで評価"
      ]
    },
    {
      "cell_type": "markdown",
      "metadata": {
        "id": "TFD_S2cBV4nA",
        "colab_type": "text"
      },
      "source": [
        "##1.CIFAR10データの読み込みとNormalize\n",
        "\n",
        "※標準化、正規化など日本語だとややこしい感じがするので、Normalizeとしています。-1~1の範囲にデータをスケーリングするような処理です。以前、scikit-klearnで勉強した標準化、standardizationとは違う処理です。\n",
        "\n",
        "CIFAR10のデータは、torchvisionを利用するとめちゃくちゃ楽にロードできる、らしいです。"
      ]
    },
    {
      "cell_type": "code",
      "metadata": {
        "id": "moUssS4YXBSY",
        "colab_type": "code",
        "colab": {}
      },
      "source": [
        "import torch\n",
        "import torchvision\n",
        "import torchvision.transforms as transforms"
      ],
      "execution_count": null,
      "outputs": []
    },
    {
      "cell_type": "markdown",
      "metadata": {
        "id": "GiocvMl1YfuN",
        "colab_type": "text"
      },
      "source": [
        "torchvisionからロードするデータは、「0から１」の範囲の値のデータとなっています。テンソル型のデータとして読み込む際に、Normalize、「-1から1」の範囲にNormalize、も同時に行います。"
      ]
    },
    {
      "cell_type": "code",
      "metadata": {
        "id": "iwv35GtrWG6D",
        "colab_type": "code",
        "colab": {}
      },
      "source": [
        "transform = transforms.Compose(\n",
        "    [transforms.ToTensor(),\n",
        "     transforms.Normalize((0.5, 0.5, 0.5), (0.5, 0.5, 0.5))])"
      ],
      "execution_count": null,
      "outputs": []
    },
    {
      "cell_type": "markdown",
      "metadata": {
        "id": "v9viATGhZNE1",
        "colab_type": "text"
      },
      "source": [
        "transformという変換するためのライブラリからComposeを呼び出すことで、いくつかの画像処理をまとめて行うことができます。一つ目は、テンソルに変換「ToTensor」、二つ目が「Normalize」の処理です。\n",
        "Normalizeは、引数に（平均,標準偏差）を与えるのですが、今回RGBの3チャンネルの画像のため、平均が(0.5,0.5,0.5)のようにチャンネル分指定してあります。また、標準偏差も同様に(0.5,0.5,0.5)としてあります。この辺りのNormalizetionについてはもう少し別で調べる必要がありそうですが、今回は0から1のデータを-1から1にスケーリングする用途ということで、このパラメータを定型化できそうなので、ここまでにしておきます。\n",
        "\n",
        "PyTorchのドキュメント\n",
        "\n",
        "https://pytorch.org/docs/stable/torchvision/transforms.html"
      ]
    },
    {
      "cell_type": "markdown",
      "metadata": {
        "id": "mzW-vsDGc1v7",
        "colab_type": "text"
      },
      "source": [
        "まずはCIFAR１０の訓練データセットをダウンロードして、Normalizeなど変換処理をおこなったものをtrainsetに格納です。\n",
        "そして、ついでにバッチ単位にデータを分割しておきます。"
      ]
    },
    {
      "cell_type": "code",
      "metadata": {
        "id": "KOGMvoJ0cSor",
        "colab_type": "code",
        "colab": {
          "base_uri": "https://localhost:8080/",
          "height": 34
        },
        "outputId": "af908cde-883e-493a-cc45-ca227a1f2259"
      },
      "source": [
        "trainset = torchvision.datasets.CIFAR10(root='./data', train=True,\n",
        "                                        download=True, transform=transform)\n",
        "trainloader = torch.utils.data.DataLoader(trainset, batch_size=4,\n",
        "                                          shuffle=True, num_workers=2)"
      ],
      "execution_count": null,
      "outputs": [
        {
          "output_type": "stream",
          "text": [
            "Files already downloaded and verified\n"
          ],
          "name": "stdout"
        }
      ]
    },
    {
      "cell_type": "markdown",
      "metadata": {
        "id": "pCmQujn3d9SA",
        "colab_type": "text"
      },
      "source": [
        "テストデータも同様に読み込んでおきます。"
      ]
    },
    {
      "cell_type": "code",
      "metadata": {
        "id": "O7pgoHLTcVLE",
        "colab_type": "code",
        "colab": {
          "base_uri": "https://localhost:8080/",
          "height": 34
        },
        "outputId": "a7caa226-8957-4ee5-b71c-2cd9125c1a7a"
      },
      "source": [
        "testset = torchvision.datasets.CIFAR10(root='./data', train=False,\n",
        "                                       download=True, transform=transform)\n",
        "testloader = torch.utils.data.DataLoader(testset, batch_size=4,\n",
        "                                         shuffle=False, num_workers=2)"
      ],
      "execution_count": null,
      "outputs": [
        {
          "output_type": "stream",
          "text": [
            "Files already downloaded and verified\n"
          ],
          "name": "stdout"
        }
      ]
    },
    {
      "cell_type": "markdown",
      "metadata": {
        "id": "m_IVzWF_d_2p",
        "colab_type": "text"
      },
      "source": [
        "答えクラスのラベルを次のようにして格納しておきます。"
      ]
    },
    {
      "cell_type": "code",
      "metadata": {
        "id": "eU-zt_0AdGJk",
        "colab_type": "code",
        "colab": {}
      },
      "source": [
        "classes = ('plane', 'car', 'bird', 'cat',\n",
        "           'deer', 'dog', 'frog', 'horse', 'ship', 'truck')"
      ],
      "execution_count": null,
      "outputs": []
    },
    {
      "cell_type": "markdown",
      "metadata": {
        "id": "aN7fuEcCePN4",
        "colab_type": "text"
      },
      "source": [
        "ダウンロードしたCIFAR10データセットのいくつかを表示して確認します。\n",
        "画像の表示には、matplotlibを利用します。"
      ]
    },
    {
      "cell_type": "code",
      "metadata": {
        "id": "xHgjRPfTd8ij",
        "colab_type": "code",
        "colab": {
          "base_uri": "https://localhost:8080/",
          "height": 172
        },
        "outputId": "4c673ac2-be9c-4163-fe72-d81fea1ef098"
      },
      "source": [
        "import matplotlib.pyplot as plt\n",
        "import numpy as np\n",
        "\n",
        "# functions to show an image\n",
        "def imshow(img):\n",
        "    img = img / 2 + 0.5     # unnormalize\n",
        "    npimg = img.numpy()\n",
        "    plt.imshow(np.transpose(npimg, (1, 2, 0)))\n",
        "    plt.show()\n",
        "\n",
        "# get some random training images\n",
        "dataiter = iter(trainloader)\n",
        "print(dataiter)\n",
        "images, labels = dataiter.next()\n",
        "\n",
        "# show images\n",
        "imshow(torchvision.utils.make_grid(images))\n",
        "# print labels\n",
        "print(' '.join('%5s' % classes[labels[j]] for j in range(4)))"
      ],
      "execution_count": null,
      "outputs": [
        {
          "output_type": "stream",
          "text": [
            "<torch.utils.data.dataloader._MultiProcessingDataLoaderIter object at 0x7f80802fb358>\n"
          ],
          "name": "stdout"
        },
        {
          "output_type": "display_data",
          "data": {
            "image/png": "[encoded data removed]",
            "text/plain": [
              "<Figure size 432x288 with 1 Axes>"
            ]
          },
          "metadata": {
            "tags": [],
            "needs_background": "light"
          }
        },
        {
          "output_type": "stream",
          "text": [
            "horse   car horse  frog\n"
          ],
          "name": "stdout"
        }
      ]
    },
    {
      "cell_type": "markdown",
      "metadata": {
        "id": "9wqxNoQVe9DX",
        "colab_type": "text"
      },
      "source": [
        ""
      ]
    },
    {
      "cell_type": "markdown",
      "metadata": {
        "id": "USoH94kLh1_M",
        "colab_type": "text"
      },
      "source": [
        "まずは、imshow関数の定義です。\n",
        "\n",
        "imgのデータはNormalizeされているデータを受け取る予定です。\n",
        "受け取ったデータを、0から1の範囲のデータに戻しています。そして、numpyのデータとして（ndarray型）npimgに格納します。\n",
        "\n",
        "matplotlibのimshowは、引数として最後にチャンネル数を取るため、numpyのtransposeにて「32×32×3」という順番の多次元配列に変換しています。\n",
        "最後にshowで画像表示です。\n",
        "\n",
        "次に、Pythonのiter()「イテレータ」でtrainloaderのバッチを一つ読み込んでいます。１つのバッチには４枚の画像がありますので、nextでたどると４枚の画像とラベルが取り出せるようになってるようです。"
      ]
    },
    {
      "cell_type": "markdown",
      "metadata": {
        "id": "XXArmA0fnT7f",
        "colab_type": "text"
      },
      "source": [
        "CIFAR10のデータの数を確認しておきます。"
      ]
    },
    {
      "cell_type": "code",
      "metadata": {
        "id": "jI3dgQP2mOeb",
        "colab_type": "code",
        "colab": {
          "base_uri": "https://localhost:8080/",
          "height": 85
        },
        "outputId": "6d1af4e9-d40e-4c0e-c5e1-d2d19cc01c92"
      },
      "source": [
        "print(\"訓練データの数\")\n",
        "print(len(trainset))\n",
        "print(\"テストデータの数\")\n",
        "print(len(testset))"
      ],
      "execution_count": null,
      "outputs": [
        {
          "output_type": "stream",
          "text": [
            "訓練データの数\n",
            "50000\n",
            "テストデータの数\n",
            "10000\n"
          ],
          "name": "stdout"
        }
      ]
    },
    {
      "cell_type": "markdown",
      "metadata": {
        "id": "wkhJVP1uASNk",
        "colab_type": "text"
      },
      "source": [
        "##2.畳み込みニューラルネットワークを定義"
      ]
    },
    {
      "cell_type": "markdown",
      "metadata": {
        "id": "_eCS8Gw1Axbe",
        "colab_type": "text"
      },
      "source": [
        "以前チュートリアルで定義したものよりシンプルになっています。"
      ]
    },
    {
      "cell_type": "code",
      "metadata": {
        "id": "JymormeTnLap",
        "colab_type": "code",
        "colab": {}
      },
      "source": [
        "import torch.nn as nn\n",
        "import torch.nn.functional as F\n",
        "\n",
        "class Net(nn.Module):\n",
        "    def __init__(self):\n",
        "        super(Net, self).__init__()\n",
        "        #畳み込み層1の入力画像を3チャンネルに\n",
        "        self.conv1 = nn.Conv2d(3, 6, 5)\n",
        "        #プーリング層として定義する\n",
        "        self.pool = nn.MaxPool2d(2, 2)\n",
        "        self.conv2 = nn.Conv2d(6, 16, 5)\n",
        "        self.fc1 = nn.Linear(16 * 5 * 5, 120)\n",
        "        self.fc2 = nn.Linear(120, 84)\n",
        "        self.fc3 = nn.Linear(84, 10)\n",
        "\n",
        "    def forward(self, x):\n",
        "        #このように畳み込み層とプーリング層を表現することもできる\n",
        "        x = self.pool(F.relu(self.conv1(x)))\n",
        "        x = self.pool(F.relu(self.conv2(x)))\n",
        "        #全結合ニューラルネットワークに入力するためにデータをベクトル化\n",
        "        x = x.view(-1, 16 * 5 * 5)\n",
        "        x = F.relu(self.fc1(x))\n",
        "        x = F.relu(self.fc2(x))\n",
        "        x = self.fc3(x)\n",
        "        return x\n",
        "\n",
        "net = Net()"
      ],
      "execution_count": null,
      "outputs": []
    },
    {
      "cell_type": "markdown",
      "metadata": {
        "id": "rBFRd62OEAPe",
        "colab_type": "text"
      },
      "source": [
        "「Conv1」畳み込み層１の入力を以前は１チャンネルとしていたところを3チャンネルと変更します。今回は1画像に対してRGBの3チャンネルの情報が存在します。\n",
        "\n",
        "「pool」としてプーリング層を定義しています。\n",
        "以前は、max_pool2dメソッドを利用してforwardメソッド内でプーリングを実行していましたが、プーリング層として定義に入れることもできるようです。今回は2×2のフィルタをもつプーリング層を定義しています。\n",
        "\n",
        "また、全結合ニューラルネットワークへ入れるデータは横並びデータ（ベクトル）になっていないといけないので、これをviewメソッドを利用して行っています。\n",
        "\n",
        "畳み込みニューラルネットワークの層の構成自体は同じですが、前回のチュートリアルよりシンプルな書き方となっています。"
      ]
    },
    {
      "cell_type": "markdown",
      "metadata": {
        "id": "ZlDlsTQcQyHp",
        "colab_type": "text"
      },
      "source": [
        "##3.損失関数を定義"
      ]
    },
    {
      "cell_type": "code",
      "metadata": {
        "id": "93Wph6ukRv8X",
        "colab_type": "code",
        "colab": {}
      },
      "source": [
        "import torch.optim as optim\n",
        "\n",
        "criterion = nn.CrossEntropyLoss()\n",
        "optimizer = optim.SGD(net.parameters(), lr=0.001, momentum=0.9)"
      ],
      "execution_count": null,
      "outputs": []
    },
    {
      "cell_type": "markdown",
      "metadata": {
        "id": "z7LSWyceSKhP",
        "colab_type": "text"
      },
      "source": [
        "損失関数を「クロスエントロピー誤差関数」に設定します。\n",
        "\n",
        "クロスエントロピー誤差関数は、過去にも多クラス分類のときによく利用する誤差関数、程度でしか紹介はしていませんが、今回もそのノリで進めさせていただきます。\n",
        "\n",
        "\n",
        "そして、最適化手法を「確率的勾配降下法(SGD)」と設定します。SGDには学習率というハイパーパラメータを与えないといけませんので、lr=0.001として学習率を設定しています。SGDには、MomentumSGDという進化したものがあります。過去の更新した勾配も少しだけ影響させて重みの更新をおこなう、ようなイメージのSGDです。（だと思います、まだ詳しくは調査します。）その過去の勾配の影響具合をmomentumという係数で指定ている模様です。momentumを0にすると普通のSGDになります。"
      ]
    },
    {
      "cell_type": "markdown",
      "metadata": {
        "id": "6k_msxOrVlbO",
        "colab_type": "text"
      },
      "source": [
        "##4.訓練データでネットワークを訓練"
      ]
    },
    {
      "cell_type": "code",
      "metadata": {
        "id": "AXdA-5g8W8Yz",
        "colab_type": "code",
        "colab": {
          "base_uri": "https://localhost:8080/",
          "height": 238
        },
        "outputId": "c043e14a-9fd1-4cc0-eef7-40b0b37adb9f"
      },
      "source": [
        "for epoch in range(2):  #チュートリアルでは2エポック訓練を行う。\n",
        "\n",
        "    running_loss = 0.0\n",
        "    #enumerateでiにリスト番号、dataに内容が入る。\n",
        "    for i, data in enumerate(trainloader, 0):\n",
        "        #data変数は[inputs, labels]のリストデータ。\n",
        "        inputs, labels = data\n",
        "\n",
        "        #勾配のパラメータを初期化\n",
        "        optimizer.zero_grad()\n",
        "\n",
        "        #順伝播し、逆伝播して重みを更新\n",
        "        outputs = net(inputs)\n",
        "        loss = criterion(outputs, labels)\n",
        "        loss.backward()\n",
        "        optimizer.step()\n",
        "\n",
        "        # print statistics\n",
        "        running_loss += loss.item()\n",
        "        if i % 2000 == 1999:    #ミニバッチ2000ごとに状況の表示\n",
        "            print('[%d, %5d] loss: %.3f' %\n",
        "                  (epoch + 1, i + 1, running_loss / 2000))\n",
        "            running_loss = 0.0\n",
        "        \n",
        "print('Finished Training')"
      ],
      "execution_count": null,
      "outputs": [
        {
          "output_type": "stream",
          "text": [
            "[1,  2000] loss: 2.195\n",
            "[1,  4000] loss: 1.919\n",
            "[1,  6000] loss: 1.706\n",
            "[1,  8000] loss: 1.608\n",
            "[1, 10000] loss: 1.552\n",
            "[1, 12000] loss: 1.496\n",
            "[2,  2000] loss: 1.413\n",
            "[2,  4000] loss: 1.384\n",
            "[2,  6000] loss: 1.380\n",
            "[2,  8000] loss: 1.332\n",
            "[2, 10000] loss: 1.321\n",
            "[2, 12000] loss: 1.297\n",
            "Finished Training\n"
          ],
          "name": "stdout"
        }
      ]
    },
    {
      "cell_type": "markdown",
      "metadata": {
        "id": "9DU-O9k7Y0Wf",
        "colab_type": "text"
      },
      "source": [
        "最初の大枠のforループは、エポックのループです。ニューラルネットワークは１エポックで１回全データを使用することになります。内側のforループにてバッチ単位で重みを更新していく処理になります。trainloaderにはバッチ分割されたデータがはいっているので、これを読みだしてループを行います。\n",
        "\n",
        "enumerate()はリストの添え字とデータを同時に取ってきます。第二引数は始まるインデックスNoを指定しますが、今回は0なのでtrainloaderの0番目のデータから取得してきます。\n",
        "\n",
        "running_lossには、2000ミニバッチ分の正解との誤差が累積されていきます。累積された誤差は、2000回のミニバッチの訓練が完了した際に、2000で割ることで2000回のミニバッチ訓練を１セットとした平均的な誤差が出力されます。2000のミニバッチ毎にこれを行うことで、誤差が小さくなってきているのかを確認するために利用しています。\n",
        "\n",
        ".item()メソッドは、テンソル型から一つだけ値を取り出すときに利用するのでした。このような利用方法もあるのですね。\n",
        "\n",
        "もちろん、2000回のミニバッチ完了毎に0にリセットします。"
      ]
    },
    {
      "cell_type": "markdown",
      "metadata": {
        "id": "Yc7NZiahAHPe",
        "colab_type": "text"
      },
      "source": [
        "###訓練モデルの保存\n",
        "PyTorchでは、次のように訓練モデルを保存できます。"
      ]
    },
    {
      "cell_type": "code",
      "metadata": {
        "id": "adT8Zln5AGoM",
        "colab_type": "code",
        "colab": {}
      },
      "source": [
        "PATH = './cifar_net.pth'\n",
        "torch.save(net.state_dict(), PATH)"
      ],
      "execution_count": null,
      "outputs": []
    },
    {
      "cell_type": "markdown",
      "metadata": {
        "id": "Wj5YFyfs_seA",
        "colab_type": "text"
      },
      "source": [
        "##テストデータで評価"
      ]
    },
    {
      "cell_type": "markdown",
      "metadata": {
        "id": "LG0r65vmFIQT",
        "colab_type": "text"
      },
      "source": [
        "テストデータの表示をしてみます。"
      ]
    },
    {
      "cell_type": "code",
      "metadata": {
        "id": "g2HTeXu5FFwJ",
        "colab_type": "code",
        "colab": {
          "base_uri": "https://localhost:8080/",
          "height": 155
        },
        "outputId": "7e6fe921-91f3-4ce9-9181-cc1068476d31"
      },
      "source": [
        "dataiter = iter(testloader)\n",
        "images, labels = dataiter.next()\n",
        "\n",
        "# print images\n",
        "imshow(torchvision.utils.make_grid(images))\n",
        "print('GroundTruth: ', ' '.join('%5s' % classes[labels[j]] for j in range(4)))"
      ],
      "execution_count": null,
      "outputs": [
        {
          "output_type": "display_data",
          "data": {
            "image/png": "[encoded data removed]",
            "text/plain": [
              "<Figure size 432x288 with 1 Axes>"
            ]
          },
          "metadata": {
            "tags": [],
            "needs_background": "light"
          }
        },
        {
          "output_type": "stream",
          "text": [
            "GroundTruth:    cat  ship  ship plane\n"
          ],
          "name": "stdout"
        }
      ]
    },
    {
      "cell_type": "markdown",
      "metadata": {
        "id": "J8nJ8TMFHVy3",
        "colab_type": "text"
      },
      "source": [
        "###訓練モデルのロード"
      ]
    },
    {
      "cell_type": "markdown",
      "metadata": {
        "id": "DT5KU2NkHop-",
        "colab_type": "text"
      },
      "source": [
        "保存したニューラルネットワークの訓練モデルを読み込みます。\n",
        "loadメソッドの引数「Path」は先に指定したディレクトリです。\n",
        "\n",
        "ニューラルネットワークの訓練済みパラメータを呼び出すイメージです。"
      ]
    },
    {
      "cell_type": "code",
      "metadata": {
        "id": "-7SpttWXFGKm",
        "colab_type": "code",
        "colab": {
          "base_uri": "https://localhost:8080/",
          "height": 34
        },
        "outputId": "257c2a2a-47b7-4abf-c454-0e50729f72de"
      },
      "source": [
        "net = Net()\n",
        "net.load_state_dict(torch.load(PATH))"
      ],
      "execution_count": null,
      "outputs": [
        {
          "output_type": "execute_result",
          "data": {
            "text/plain": [
              "<All keys matched successfully>"
            ]
          },
          "metadata": {
            "tags": []
          },
          "execution_count": 39
        }
      ]
    },
    {
      "cell_type": "markdown",
      "metadata": {
        "id": "EfOHppSBH22O",
        "colab_type": "text"
      },
      "source": [
        "###予測"
      ]
    },
    {
      "cell_type": "code",
      "metadata": {
        "id": "bm_Kq61QIdkx",
        "colab_type": "code",
        "colab": {
          "base_uri": "https://localhost:8080/",
          "height": 153
        },
        "outputId": "f5da6824-5bc4-4571-870e-6dd7ef403ce7"
      },
      "source": [
        "outputs = net(images)\n",
        "print(outputs)"
      ],
      "execution_count": null,
      "outputs": [
        {
          "output_type": "stream",
          "text": [
            "tensor([[-2.2456, -3.0535,  0.9128,  2.4592,  2.1587,  2.1558,  2.8599,  0.5596,\n",
            "         -2.9859, -2.6490],\n",
            "        [-2.6678, -3.3542,  1.4564,  3.3314, -0.7947,  5.2420, -0.3214,  2.1732,\n",
            "         -2.1843, -2.5228],\n",
            "        [ 2.5839, -1.2858,  2.6275, -0.7872,  4.8332, -0.4881, -1.2820, -0.2292,\n",
            "         -1.9573, -3.4837],\n",
            "        [-0.0959, -3.2768,  1.0982, -0.0127,  4.6545,  0.6341, -1.4771,  6.0890,\n",
            "         -4.3654, -1.5090]], grad_fn=<AddmmBackward>)\n"
          ],
          "name": "stdout"
        }
      ]
    },
    {
      "cell_type": "markdown",
      "metadata": {
        "id": "R-BeipyMVRUe",
        "colab_type": "text"
      },
      "source": [
        "1枚の画像に対して、10の出力が出てきています。それが1バッチ4枚分の答えがありますので、outputsは4×10の行列になっています。\n",
        "\n",
        "ニューラルネットの答えとしては、行の中でもっとも数値の大きな値のものが予測の回答となりますので、次のようにmaxメソッドで一番大きな値を取り出してあげる必要があります。maxの第二引数の「1」は、行方向に対して最大値を取り出すように指定している１です。0にすると縦方向になってしまうので、今回は1と指定します。"
      ]
    },
    {
      "cell_type": "code",
      "metadata": {
        "id": "Ch2YQBtuId-N",
        "colab_type": "code",
        "colab": {
          "base_uri": "https://localhost:8080/",
          "height": 51
        },
        "outputId": "00c7bb15-8078-4c1c-d2a9-8bb9d1c03df9"
      },
      "source": [
        "_, predicted = torch.max(outputs, 1)\n",
        "\n",
        "print(predicted)\n",
        "\n",
        "print('Predicted: ', ' '.join('%5s' % classes[predicted[j]]\n",
        "                              for j in range(4)))"
      ],
      "execution_count": null,
      "outputs": [
        {
          "output_type": "stream",
          "text": [
            "tensor([3, 8, 0, 0])\n",
            "Predicted:    cat  ship plane plane\n"
          ],
          "name": "stdout"
        }
      ]
    },
    {
      "cell_type": "markdown",
      "metadata": {
        "id": "EPc8i0dsWAwk",
        "colab_type": "text"
      },
      "source": [
        "maxメソッドを通すことで、predictedに4枚の画像のクラスが並んでいます。"
      ]
    },
    {
      "cell_type": "markdown",
      "metadata": {
        "id": "XOG86FEMJDko",
        "colab_type": "text"
      },
      "source": [
        "テストデータ全体としてどれくらいの精度が出るかを見てみます。"
      ]
    },
    {
      "cell_type": "code",
      "metadata": {
        "id": "a6xp68OpIk-m",
        "colab_type": "code",
        "colab": {
          "base_uri": "https://localhost:8080/",
          "height": 34
        },
        "outputId": "2f83531b-fe49-46f3-b202-ed790b74feef"
      },
      "source": [
        "correct = 0\n",
        "total = 0\n",
        "with torch.no_grad():\n",
        "    for data in testloader:\n",
        "        images, labels = data\n",
        "        outputs = net(images)\n",
        "        _, predicted = torch.max(outputs.data, 1)\n",
        "        total += labels.size(0)\n",
        "        correct += (predicted == labels).sum().item()\n",
        "\n",
        "print('Accuracy of the network on the 10000 test images: %d %%' % (\n",
        "    100 * correct / total))"
      ],
      "execution_count": null,
      "outputs": [
        {
          "output_type": "stream",
          "text": [
            "Accuracy of the network on the 10000 test images: 54 %\n"
          ],
          "name": "stdout"
        }
      ]
    },
    {
      "cell_type": "markdown",
      "metadata": {
        "id": "gxTglsH8JreV",
        "colab_type": "text"
      },
      "source": [
        ""
      ]
    },
    {
      "cell_type": "markdown",
      "metadata": {
        "id": "T8gxFCbqJ-ZO",
        "colab_type": "text"
      },
      "source": [
        "#GPUに処理をさせる"
      ]
    },
    {
      "cell_type": "markdown",
      "metadata": {
        "id": "G_n_bBuxKy9-",
        "colab_type": "text"
      },
      "source": [
        "GPUは本来グラフィックの重い処理をCPUに負担をかけず高速に演算できるように利用されていたコンピュータの構成要素になります。最近では、GPUをより汎用的な演算に利用することができるようになってきています。C言語やPythonなどのプログラミング言語からもGPUが気軽に利用できるような仕組み、プラットフォームがNVIDIAのCUDAになります。\n",
        "\n",
        "PyTorchには、CUDAを利用して計算を分散させて、処理を行うことができます。。\n",
        "\n",
        "Macではどうやら結構前にCUDAが排除されているみたいです・・・ということは、本格的にニューラルネットワークを訓練してGPUを拡張する場合は、WindowsやLinuxマシンが良いということでしょうか。PythonなのでどのOSでも良いと思いますが。\n",
        "\n",
        "また、GoogleColaboratoryでは設定を変更することでGPUでの計算が利用でき、CUDAを試すこともできます。"
      ]
    },
    {
      "cell_type": "markdown",
      "metadata": {
        "id": "Ipz1AMvDJW0X",
        "colab_type": "text"
      },
      "source": [
        "Google colaboでGPUを利用するためには、「ランタイム」→「ランタイムのタイプの変更」メニューで、GPUを選択する必要があります。"
      ]
    },
    {
      "cell_type": "markdown",
      "metadata": {
        "id": "539c1YtpNFcU",
        "colab_type": "text"
      },
      "source": [
        "次のようにして、利用できるGPUデバイスを確認して、存在していれば「device」として利用できるようにします。"
      ]
    },
    {
      "cell_type": "code",
      "metadata": {
        "id": "JtMHiqNNJSAG",
        "colab_type": "code",
        "colab": {
          "base_uri": "https://localhost:8080/",
          "height": 34
        },
        "outputId": "50657f75-eff3-4249-ac21-b1c3676ff044"
      },
      "source": [
        "device = torch.device(\"cuda:0\" if torch.cuda.is_available() else \"cpu\")\n",
        "\n",
        "# Assuming that we are on a CUDA machine, this should print a CUDA device:\n",
        "\n",
        "print(device)"
      ],
      "execution_count": null,
      "outputs": [
        {
          "output_type": "stream",
          "text": [
            "cuda:0\n"
          ],
          "name": "stdout"
        }
      ]
    },
    {
      "cell_type": "markdown",
      "metadata": {
        "id": "emtjadGmMwSw",
        "colab_type": "text"
      },
      "source": [
        "作成したニューラルネットワークは、次のようにデバイスを指定してGPUで処理を行うようにできます。"
      ]
    },
    {
      "cell_type": "code",
      "metadata": {
        "id": "3cWfjzRtMuz9",
        "colab_type": "code",
        "colab": {
          "base_uri": "https://localhost:8080/",
          "height": 153
        },
        "outputId": "e12e80fd-e625-4011-b325-84bd90ba0865"
      },
      "source": [
        "net.to(device)"
      ],
      "execution_count": null,
      "outputs": [
        {
          "output_type": "execute_result",
          "data": {
            "text/plain": [
              "Net(\n",
              "  (conv1): Conv2d(3, 6, kernel_size=(5, 5), stride=(1, 1))\n",
              "  (pool): MaxPool2d(kernel_size=2, stride=2, padding=0, dilation=1, ceil_mode=False)\n",
              "  (conv2): Conv2d(6, 16, kernel_size=(5, 5), stride=(1, 1))\n",
              "  (fc1): Linear(in_features=400, out_features=120, bias=True)\n",
              "  (fc2): Linear(in_features=120, out_features=84, bias=True)\n",
              "  (fc3): Linear(in_features=84, out_features=10, bias=True)\n",
              ")"
            ]
          },
          "metadata": {
            "tags": []
          },
          "execution_count": 18
        }
      ]
    },
    {
      "cell_type": "code",
      "metadata": {
        "id": "4Pm5EON_Nrg7",
        "colab_type": "code",
        "colab": {
          "base_uri": "https://localhost:8080/",
          "height": 238
        },
        "outputId": "7881031e-8164-40b8-c487-1d3ec3b2d08b"
      },
      "source": [
        "for epoch in range(2):#エポック\n",
        "\n",
        "    running_loss = 0.0\n",
        "    for i, data in enumerate(trainloader, 0):#ミニバッチ\n",
        "        #ここの行をGPU用に変更する必要がある。\n",
        "        inputs, labels = data[0].to(device), data[1].to(device)\n",
        "\n",
        "        #勾配のパラメータを初期化\n",
        "        optimizer.zero_grad()\n",
        "\n",
        "        #順伝播し、逆伝播して重みを更新\n",
        "        outputs = net(inputs)\n",
        "        loss = criterion(outputs, labels)\n",
        "        loss.backward()\n",
        "        optimizer.step()\n",
        "\n",
        "        # print statistics\n",
        "        running_loss += loss.item()\n",
        "        if i % 2000 == 1999:    #ミニバッチ2000ごとに状況の表示\n",
        "            print('[%d, %5d] loss: %.3f' %\n",
        "                  (epoch + 1, i + 1, running_loss / 2000))\n",
        "            running_loss = 0.0\n",
        "        \n",
        "print('Finished Training')"
      ],
      "execution_count": null,
      "outputs": [
        {
          "output_type": "stream",
          "text": [
            "[1,  2000] loss: 1.235\n",
            "[1,  4000] loss: 1.259\n",
            "[1,  6000] loss: 1.224\n",
            "[1,  8000] loss: 1.262\n",
            "[1, 10000] loss: 1.235\n",
            "[1, 12000] loss: 1.250\n",
            "[2,  2000] loss: 1.248\n",
            "[2,  4000] loss: 1.238\n",
            "[2,  6000] loss: 1.249\n",
            "[2,  8000] loss: 1.247\n",
            "[2, 10000] loss: 1.258\n",
            "[2, 12000] loss: 1.226\n",
            "Finished Training\n"
          ],
          "name": "stdout"
        }
      ]
    },
    {
      "cell_type": "markdown",
      "metadata": {
        "id": "DR2RP6hHJox-",
        "colab_type": "text"
      },
      "source": [
        ""
      ]
    },
    {
      "cell_type": "code",
      "metadata": {
        "id": "sYNC802DT_vk",
        "colab_type": "code",
        "colab": {}
      },
      "source": [
        ""
      ],
      "execution_count": null,
      "outputs": []
    }
  ]
}