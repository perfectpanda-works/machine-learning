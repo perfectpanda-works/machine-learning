{
  "nbformat": 4,
  "nbformat_minor": 0,
  "metadata": {
    "colab": {
      "name": "WHAT IS TORCH.NN REALLY.ipynb",
      "provenance": [],
      "collapsed_sections": [],
      "authorship_tag": "ABX9TyPybtJp7cJ68OkPqPAjtSJ2",
      "include_colab_link": true
    },
    "kernelspec": {
      "name": "python3",
      "display_name": "Python 3"
    },
    "accelerator": "GPU"
  },
  "cells": [
    {
      "cell_type": "markdown",
      "metadata": {
        "id": "view-in-github",
        "colab_type": "text"
      },
      "source": [
        "<a href=\"https://colab.research.google.com/github/perfectpanda-works/machine-learning/blob/master/WHAT_IS_TORCH_NN_REALLY.ipynb\" target=\"_parent\"><img src=\"https://colab.research.google.com/assets/colab-badge.svg\" alt=\"Open In Colab\"/></a>"
      ]
    },
    {
      "cell_type": "markdown",
      "metadata": {
        "id": "4dxDFuVIDL6Z",
        "colab_type": "text"
      },
      "source": [
        "このチュートリアルでは、MNISTデータセットを利用して、基本的なニューラルネットワークを訓練します。最初はPyTorchのテンソルの機能のみで作成していきます。\n",
        "\n",
        "また、このチュートリアルは、テンソルの操作の基本を知っていることが前提となっています。"
      ]
    },
    {
      "cell_type": "markdown",
      "metadata": {
        "id": "KK-rDpO0Cyki",
        "colab_type": "text"
      },
      "source": [
        "##MNISTデータのセットアップ\n",
        "\n",
        "MNISTは機械学習の有名なデータセットで、0～9の手書き数字（白黒画像）のデータです。分類問題として、正しく手書き数字を分類できるネットワークの訓練を目指します。\n",
        "\n",
        "次のプログラム（Python3標準ライブラリのpathlibを利用）で、リクエストを利用して、MNISTデータセットをダウンロードします。\n",
        "\n",
        "GoogleColaboで実行する場合、ファイルの「data/mnist/」に追加されます。"
      ]
    },
    {
      "cell_type": "code",
      "metadata": {
        "id": "_ThF__PKBMWH",
        "colab_type": "code",
        "colab": {}
      },
      "source": [
        "from pathlib import Path\n",
        "import requests\n",
        "\n",
        "DATA_PATH = Path(\"data\")\n",
        "PATH = DATA_PATH / \"mnist\"\n",
        "\n",
        "PATH.mkdir(parents=True, exist_ok=True)\n",
        "\n",
        "URL = \"http://deeplearning.net/data/mnist/\"\n",
        "FILENAME = \"mnist.pkl.gz\"\n",
        "\n",
        "if not (PATH / FILENAME).exists():\n",
        "        content = requests.get(URL + FILENAME).content\n",
        "        (PATH / FILENAME).open(\"wb\").write(content)"
      ],
      "execution_count": 1,
      "outputs": []
    },
    {
      "cell_type": "markdown",
      "metadata": {
        "id": "WIY40_wEE-EA",
        "colab_type": "text"
      },
      "source": [
        "ここでダウンロードしたデータセットはnumpy形式で、python固有のpickelで保存されています。そのため、次のプログラムでデータを取り出します。\n",
        "\n",
        "gzipをopenしたのち、pickel形式のデータを読み込んでいます。"
      ]
    },
    {
      "cell_type": "code",
      "metadata": {
        "id": "E8oI6Gp8ELvU",
        "colab_type": "code",
        "colab": {}
      },
      "source": [
        "import pickle\n",
        "import gzip\n",
        "\n",
        "with gzip.open((PATH / FILENAME).as_posix(), \"rb\") as f:\n",
        "        ((x_train, y_train), (x_valid, y_valid), _) = pickle.load(f, encoding=\"latin-1\")"
      ],
      "execution_count": 2,
      "outputs": []
    },
    {
      "cell_type": "markdown",
      "metadata": {
        "id": "g4GgiXMQGIlP",
        "colab_type": "text"
      },
      "source": [
        "この状態で、各画像は784個のデータの平坦化された行（１次元の配列）として保存されていますので、28×28の画像として変換する必要があります。"
      ]
    },
    {
      "cell_type": "code",
      "metadata": {
        "id": "BRob2UlYGChe",
        "colab_type": "code",
        "colab": {
          "base_uri": "https://localhost:8080/",
          "height": 34
        },
        "outputId": "5e861b81-d7bf-421d-83ef-71a043dcd413"
      },
      "source": [
        "print(x_train[0].shape)"
      ],
      "execution_count": 3,
      "outputs": [
        {
          "output_type": "stream",
          "text": [
            "(784,)\n"
          ],
          "name": "stdout"
        }
      ]
    },
    {
      "cell_type": "markdown",
      "metadata": {
        "id": "QD-IipHEGAZy",
        "colab_type": "text"
      },
      "source": [
        "reshapeメソッドで28×28の行列に変換してmatplotlibで表示してみます。\n",
        "\n",
        "また、x_trainには50000個の手書き文字データが格納されています。"
      ]
    },
    {
      "cell_type": "code",
      "metadata": {
        "id": "XAUA7VhdECWm",
        "colab_type": "code",
        "colab": {
          "base_uri": "https://localhost:8080/",
          "height": 282
        },
        "outputId": "a479f1b5-e752-41d8-8153-19c2a3c809b4"
      },
      "source": [
        "from matplotlib import pyplot\n",
        "import numpy as np\n",
        "\n",
        "pyplot.imshow(x_train[0].reshape((28, 28)), cmap=\"gray\")\n",
        "print(x_train.shape)"
      ],
      "execution_count": 4,
      "outputs": [
        {
          "output_type": "stream",
          "text": [
            "(50000, 784)\n"
          ],
          "name": "stdout"
        },
        {
          "output_type": "display_data",
          "data": {
            "image/png": "[encoded data removed]",
            "text/plain": [
              "<Figure size 432x288 with 1 Axes>"
            ]
          },
          "metadata": {
            "tags": [],
            "needs_background": "light"
          }
        }
      ]
    },
    {
      "cell_type": "markdown",
      "metadata": {
        "id": "ihAyI0MdHMLC",
        "colab_type": "text"
      },
      "source": [
        "PyTorchでデータを利用するためにnumpyから「torch.tensor」に変換します。"
      ]
    },
    {
      "cell_type": "code",
      "metadata": {
        "id": "mP7Uj-8nE7iw",
        "colab_type": "code",
        "colab": {
          "base_uri": "https://localhost:8080/",
          "height": 187
        },
        "outputId": "47a24551-a574-45a3-c345-18c54f94b755"
      },
      "source": [
        "import torch\n",
        "\n",
        "x_train, y_train, x_valid, y_valid = map(\n",
        "    torch.tensor, (x_train, y_train, x_valid, y_valid)\n",
        ")\n",
        "n, c = x_train.shape\n",
        "print(n)\n",
        "x_train, x_train.shape, y_train.min(), y_train.max()\n",
        "print(x_train, y_train)\n",
        "print(x_train.shape)\n",
        "print(y_train.min(), y_train.max())"
      ],
      "execution_count": 5,
      "outputs": [
        {
          "output_type": "stream",
          "text": [
            "50000\n",
            "tensor([[0., 0., 0.,  ..., 0., 0., 0.],\n",
            "        [0., 0., 0.,  ..., 0., 0., 0.],\n",
            "        [0., 0., 0.,  ..., 0., 0., 0.],\n",
            "        ...,\n",
            "        [0., 0., 0.,  ..., 0., 0., 0.],\n",
            "        [0., 0., 0.,  ..., 0., 0., 0.],\n",
            "        [0., 0., 0.,  ..., 0., 0., 0.]]) tensor([5, 0, 4,  ..., 8, 4, 8])\n",
            "torch.Size([50000, 784])\n",
            "tensor(0) tensor(9)\n"
          ],
          "name": "stdout"
        }
      ]
    },
    {
      "cell_type": "markdown",
      "metadata": {
        "id": "cQ4Tbnc_TpaA",
        "colab_type": "text"
      },
      "source": [
        "#スクラッチでニューラルネットワーク(torch.nnを利用しない)\n",
        "\n",
        "このチュートリアルを行う前に、ニューラルネットワークについての基本的な知識があることが前提となっています。\n",
        "\n",
        "まずはニューラルネットワークのパラメータを保持する変数を作成します。\n",
        "\n",
        "PyTorchの提供するメソッドでランダムな値で埋められたテンソルや、ゼロで埋められたテンソルを作成することができます。そして、そのテンソルをシンプルな線形モデルの重みやバイアスといったパラメータにすることができます。また、Tensorのもっとも重要な特徴は、勾配が計算できるという点です。テンソルに行われた計算を保持できるので、勾配を自動的に計算することができます。\n",
        "\n",
        "次のプログラムで、ニューラルネットワークの「重み」と「バイアス」パラメータを作成します。\n",
        "\n",
        "ニューラルネットの「重み」パラメータのためのテンソルは、初期化のすぐ後に「required_grad_()」で計算の追跡する設定にしています。（初期化の計算をした後に追跡開始することで、初期化の計算を含めない点がポイント）\n",
        "\n",
        "また、重みのパラメータは、「Xavier　initialisation」という初期化方法を利用しています。\n",
        "\n",
        "「バイアス」は、ゼロで初期化するとともに、「required_grad」フラグをTrueにしています。"
      ]
    },
    {
      "cell_type": "code",
      "metadata": {
        "id": "G_JAFFs7HKZw",
        "colab_type": "code",
        "colab": {}
      },
      "source": [
        "import math\n",
        "\n",
        "weights = torch.randn(784, 10) / math.sqrt(784)\n",
        "weights.requires_grad_()\n",
        "bias = torch.zeros(10, requires_grad=True)"
      ],
      "execution_count": 6,
      "outputs": []
    },
    {
      "cell_type": "markdown",
      "metadata": {
        "id": "lhZu78UvW_9v",
        "colab_type": "text"
      },
      "source": [
        "PyTorchの自動的に勾配を計算（自動微分）してくれるおかげで、通常のPythonの関数などが利用できます。\n",
        "\n",
        "次に、「活性化関数」を作成します。手動で「log_softmax」を定義しています。これは、Pythonの関数として定義します。\n",
        "\n",
        "そして、「model」では、ニューラルネットワークのモデル自体を定義しています。モデルといっても、今回は、順伝播が行われるような式を定義しているだけになります。重みと入力テンソルを掛け合わせて、バイアスを足したものを活性化関数のlog_softmaxに入れ、出力値をリターンするようなモデルです。"
      ]
    },
    {
      "cell_type": "code",
      "metadata": {
        "id": "uf30za59WlNj",
        "colab_type": "code",
        "colab": {}
      },
      "source": [
        "def log_softmax(x):\n",
        "    return x - x.exp().sum(-1).log().unsqueeze(-1)\n",
        "\n",
        "def model(xb):\n",
        "    return log_softmax(xb @ weights + bias)"
      ],
      "execution_count": 7,
      "outputs": []
    },
    {
      "cell_type": "markdown",
      "metadata": {
        "id": "AKFDAhEwZFrp",
        "colab_type": "text"
      },
      "source": [
        "上のプログラムの「@」は内積演算（行列積）を表しています。\n",
        "\n",
        "そして、モデルには、バッチ単位でデータを渡します。（今回は64枚の画像）「xb」には64枚の画像が入ってくるということです。\n",
        "\n",
        "実際には、xbが（64×784）の行列、そして、weightsは(784×10)の行列となります。"
      ]
    },
    {
      "cell_type": "code",
      "metadata": {
        "id": "MxlfS1-jY_Ct",
        "colab_type": "code",
        "colab": {
          "base_uri": "https://localhost:8080/",
          "height": 51
        },
        "outputId": "2a5ffd61-4aa8-478c-e0fd-647373a29820"
      },
      "source": [
        "bs = 64  # バッチサイズ\n",
        "\n",
        "xb = x_train[0:bs]  # ミニバッチサイズ\n",
        "preds = model(xb)  # 順伝播で予測\n",
        "preds[0], preds.shape\n",
        "print(preds[0], preds.shape)"
      ],
      "execution_count": 8,
      "outputs": [
        {
          "output_type": "stream",
          "text": [
            "tensor([-2.4143, -2.7469, -2.0619, -1.8692, -1.9791, -2.3463, -2.5218, -2.5840,\n",
            "        -2.3050, -2.5834], grad_fn=<SelectBackward>) torch.Size([64, 10])\n"
          ],
          "name": "stdout"
        }
      ]
    },
    {
      "cell_type": "markdown",
      "metadata": {
        "id": "fneUXE_rZ_NX",
        "colab_type": "text"
      },
      "source": [
        "「xb」には、訓練用画像「x_train」から0〜63枚目の画像（計64枚）が格納されます。\n",
        "\n",
        "そして、その「xb」をmodelに入れることで、modelに計算をさせ、予測値をえます。（順伝播）\n",
        "\n",
        "この予測値には、勾配も含まれていることが確認できます。これは後の逆伝播で利用します。\n",
        "\n",
        "それでは、損失関数として「負の対数尤度関数（NLL)」を定義します。これは、Python標準の関数で作成しています。"
      ]
    },
    {
      "cell_type": "code",
      "metadata": {
        "id": "gWIamStPZx9c",
        "colab_type": "code",
        "colab": {}
      },
      "source": [
        "def nll(input, target):\n",
        "    return -input[range(target.shape[0]), target].mean()\n",
        "\n",
        "loss_func = nll"
      ],
      "execution_count": 9,
      "outputs": []
    },
    {
      "cell_type": "markdown",
      "metadata": {
        "id": "L_my_Ja0dqF9",
        "colab_type": "text"
      },
      "source": [
        "それでは、損失を確認してみます。"
      ]
    },
    {
      "cell_type": "code",
      "metadata": {
        "id": "frR1ay5ndnNo",
        "colab_type": "code",
        "colab": {
          "base_uri": "https://localhost:8080/",
          "height": 34
        },
        "outputId": "977c58fc-f2b8-443c-9f14-3967f56f4cf5"
      },
      "source": [
        "yb = y_train[0:bs]\n",
        "print(loss_func(preds, yb))"
      ],
      "execution_count": 10,
      "outputs": [
        {
          "output_type": "stream",
          "text": [
            "tensor(2.3443, grad_fn=<NegBackward>)\n"
          ],
          "name": "stdout"
        }
      ]
    },
    {
      "cell_type": "markdown",
      "metadata": {
        "id": "AjM_K_Ppdy9U",
        "colab_type": "text"
      },
      "source": [
        "同様に、このモデルの精度を確認してみます。\n",
        "\n"
      ]
    },
    {
      "cell_type": "code",
      "metadata": {
        "id": "Qhz0D1tQdvkG",
        "colab_type": "code",
        "colab": {}
      },
      "source": [
        "def accuracy(out, yb):\n",
        "    preds = torch.argmax(out, dim=1)\n",
        "    return (preds == yb).float().mean()"
      ],
      "execution_count": 11,
      "outputs": []
    },
    {
      "cell_type": "code",
      "metadata": {
        "id": "D4h01kxGett3",
        "colab_type": "code",
        "colab": {
          "base_uri": "https://localhost:8080/",
          "height": 34
        },
        "outputId": "e38d02e2-da40-4d26-e6d2-d9e93ce7b5dd"
      },
      "source": [
        "print(accuracy(preds, yb))"
      ],
      "execution_count": 12,
      "outputs": [
        {
          "output_type": "stream",
          "text": [
            "tensor(0.1250)\n"
          ],
          "name": "stdout"
        }
      ]
    },
    {
      "cell_type": "markdown",
      "metadata": {
        "id": "LgnRJrbhqNrX",
        "colab_type": "text"
      },
      "source": [
        "これで、訓練ループを実装できます。それぞれのループでは、次のことを行います。\n",
        "\n",
        "・ミニバッチでデータを選択\n",
        "\n",
        "・モデルで予測\n",
        "\n",
        "・誤差を求める\n",
        "\n",
        "・逆伝播をして勾配を求める\n",
        "\n",
        "・重みを更新する\n",
        "\n",
        "重みを更新する際には、重みの更新の計算を追跡しないようにtorch.no_grad()で囲みます。また、次のループに入る前に勾配をリセットするためにgrad_zero()を呼び出す必要があります。\n",
        "\n",
        "学習率は「lr」、訓練回数は「epochs」で指定します。\n",
        "\n",
        "（Python標準のデバッガも利用できるとのことです。）"
      ]
    },
    {
      "cell_type": "code",
      "metadata": {
        "id": "Z4LAjjENexGV",
        "colab_type": "code",
        "colab": {
          "base_uri": "https://localhost:8080/",
          "height": 119
        },
        "outputId": "6ac987ac-0d4c-4f7f-9fea-3e81e0c78e8e"
      },
      "source": [
        "from IPython.core.debugger import set_trace\n",
        "\n",
        "lr = 0.5  # 学習率\n",
        "epochs = 2  # 訓練のエポック数\n",
        "\n",
        "print(\"n\")\n",
        "print(n)\n",
        "print(\"bs\")\n",
        "print(bs)\n",
        "\n",
        "#エポック回数分繰り返す\n",
        "for epoch in range(epochs):\n",
        "    batch_num=0\n",
        "    #ミニバッチのループ\n",
        "    #//は切り捨て除算\n",
        "    for i in range((n - 1) // bs + 1):#(49999÷64)+1=782.23の切り捨て回数分のミニバッチ\n",
        "        batch_num = batch_num + 1\n",
        "        #         set_trace()\n",
        "        start_i = i * bs\n",
        "        end_i = start_i + bs\n",
        "        xb = x_train[start_i:end_i]\n",
        "        yb = y_train[start_i:end_i]\n",
        "        pred = model(xb)\n",
        "        loss = loss_func(pred, yb)\n",
        "\n",
        "        loss.backward()\n",
        "        #勾配降下法で重みの更新(式を手動で定義)\n",
        "        with torch.no_grad():\n",
        "            weights -= weights.grad * lr\n",
        "            bias -= bias.grad * lr\n",
        "            weights.grad.zero_()\n",
        "            bias.grad.zero_()\n",
        "\n",
        "print(\"mini_batch_num\")\n",
        "print(batch_num)"
      ],
      "execution_count": 13,
      "outputs": [
        {
          "output_type": "stream",
          "text": [
            "n\n",
            "50000\n",
            "bs\n",
            "64\n",
            "mini_batch_num\n",
            "782\n"
          ],
          "name": "stdout"
        }
      ]
    },
    {
      "cell_type": "markdown",
      "metadata": {
        "id": "mTrdzdnArqPm",
        "colab_type": "text"
      },
      "source": [
        "今回は、もっともミニマムなニューラルネットワークを作成しました。これは、ロジスティック回帰であり、隠れ層のないネットワークです。\n",
        "\n",
        "訓練後の損失と精度を確認してみます。"
      ]
    },
    {
      "cell_type": "code",
      "metadata": {
        "id": "AIvqx7ZcrO2R",
        "colab_type": "code",
        "colab": {
          "base_uri": "https://localhost:8080/",
          "height": 34
        },
        "outputId": "5532e3d2-0d71-4c47-f403-a3c3732e1f57"
      },
      "source": [
        "print(loss_func(model(xb), yb), accuracy(model(xb), yb))"
      ],
      "execution_count": 14,
      "outputs": [
        {
          "output_type": "stream",
          "text": [
            "tensor(0.0804, grad_fn=<NegBackward>) tensor(1.)\n"
          ],
          "name": "stdout"
        }
      ]
    },
    {
      "cell_type": "markdown",
      "metadata": {
        "id": "83xDkxET_ZM0",
        "colab_type": "text"
      },
      "source": [
        "#リファクタリング"
      ]
    },
    {
      "cell_type": "markdown",
      "metadata": {
        "id": "4kX1y9m30sa-",
        "colab_type": "text"
      },
      "source": [
        "##torch.nn.functionalを使う\n",
        "\n",
        "\n",
        "これから、スクラッチで作成したプログラムをpytorchのnnクラスを利用してより簡潔で柔軟なプログラムになるようにリファクタリングを行います。\n",
        "\n",
        "ここからのステップでは、プログラムをより短く、理解しやすい形に変更していきます。\n",
        "\n",
        "いちばん簡単なステップとしては、手動で定義していた損失関数を「torch.nn.functional」で置き換えることです。「torch.nn.functional」は一般的に「F」という名前空間でimportされます。\n",
        "\n",
        "（Functionalは、「as F」とするのが一般的のようです。）\n",
        "\n",
        "損失関数として、「負の尤度関数(negative log likelihood)」または「尤度関数(log softmax)」を利用している場合、PyTorchでは「F.cross_entropy」関数でカバーしています。これを利用して、損失関数をモジュールを利用して簡潔に記述することができます。"
      ]
    },
    {
      "cell_type": "code",
      "metadata": {
        "id": "caY5xRX40zRb",
        "colab_type": "code",
        "colab": {}
      },
      "source": [
        "import torch.nn.functional as F\n",
        "\n",
        "loss_func = F.cross_entropy\n",
        "\n",
        "def model(xb):\n",
        "    return xb @ weights + bias"
      ],
      "execution_count": 15,
      "outputs": []
    },
    {
      "cell_type": "markdown",
      "metadata": {
        "id": "2_CowJQV1DvK",
        "colab_type": "text"
      },
      "source": [
        "同じ損失と同じ精度が算出されることを確認しましょう。"
      ]
    },
    {
      "cell_type": "code",
      "metadata": {
        "id": "naYaWxqu1Bys",
        "colab_type": "code",
        "colab": {
          "base_uri": "https://localhost:8080/",
          "height": 34
        },
        "outputId": "cf5ede5e-ee5d-41bd-ced8-4b80ca2c1dde"
      },
      "source": [
        "print(loss_func(model(xb), yb), accuracy(model(xb), yb))"
      ],
      "execution_count": 16,
      "outputs": [
        {
          "output_type": "stream",
          "text": [
            "tensor(0.0804, grad_fn=<NllLossBackward>) tensor(1.)\n"
          ],
          "name": "stdout"
        }
      ]
    },
    {
      "cell_type": "markdown",
      "metadata": {
        "id": "UfoHSPb1_hRm",
        "colab_type": "text"
      },
      "source": [
        "##nn.Moduleでリファクタリング\n",
        "\n",
        "次に、訓練ループを整理するために、「nn.Module」と「nn.Parameter」を利用します。\n",
        "\n",
        "nn.Moduleのサブクラスとしてクラスを定義することで利用します。サブクラスでは、「重み、バイアス」といったネットワークの訓練パラメータを保持し、順伝播をメソッドとして実装していきたいです。nn.Moduleには、このようなサブクラスを作成するための「.Parameter()」や「zero_grad()」といった属性やメソッドが存在します。"
      ]
    },
    {
      "cell_type": "code",
      "metadata": {
        "id": "FhDrbU_1ORtl",
        "colab_type": "code",
        "colab": {}
      },
      "source": [
        "#nnをimport\n",
        "from torch import nn\n",
        "\n",
        "#nn.Moduleを継承したMnistLogisticクラス\n",
        "class Mnist_Logistic(nn.Module):\n",
        "    def __init__(self):\n",
        "        super().__init__()\n",
        "        #コンストラクタで重み、バイアスの初期化\n",
        "        self.weights = nn.Parameter(torch.randn(784, 10) / math.sqrt(784))\n",
        "        self.bias = nn.Parameter(torch.zeros(10))\n",
        "\n",
        "    #forwardメソッドの定義\n",
        "    def forward(self, xb):\n",
        "        return xb @ self.weights + self.bias"
      ],
      "execution_count": 17,
      "outputs": []
    },
    {
      "cell_type": "markdown",
      "metadata": {
        "id": "0HLxokgLPmiA",
        "colab_type": "text"
      },
      "source": [
        "クラスのコンストラクタでXavier　initialisationとバイアスのゼロ初期化を行うようになりました。\n",
        "\n",
        "また、forwardをクラスのメソッドとして定義しました。nn.Moduleのクラスを利用することで、テンソルの追跡も自動的に行われるので、手動で行っていた時のようにRequired_gradを気にする必要もなくなりました。"
      ]
    },
    {
      "cell_type": "markdown",
      "metadata": {
        "id": "XaU3_S9nQW7z",
        "colab_type": "text"
      },
      "source": [
        "定義したモデルをインスタンス化します。"
      ]
    },
    {
      "cell_type": "code",
      "metadata": {
        "id": "fEnmer10QapP",
        "colab_type": "code",
        "colab": {}
      },
      "source": [
        "model = Mnist_Logistic()"
      ],
      "execution_count": 18,
      "outputs": []
    },
    {
      "cell_type": "markdown",
      "metadata": {
        "id": "S0j-oqxhQxr3",
        "colab_type": "text"
      },
      "source": [
        "今までの記載方法と同じ記載で損失を計算することができます。\n",
        "\n",
        "nn.Moduleのオブジェクトは関数のように使用することができます。関数のように呼び出すことで、自動的にforwardメソッドを実行してくれるようになっています。"
      ]
    },
    {
      "cell_type": "code",
      "metadata": {
        "id": "BjgfjYSzQbKp",
        "colab_type": "code",
        "colab": {
          "base_uri": "https://localhost:8080/",
          "height": 34
        },
        "outputId": "53ad235f-f1a4-4042-bbf8-8fce7d853fd3"
      },
      "source": [
        "print(loss_func(model(xb), yb))"
      ],
      "execution_count": 27,
      "outputs": [
        {
          "output_type": "stream",
          "text": [
            "tensor(0.0821, grad_fn=<NllLossBackward>)\n"
          ],
          "name": "stdout"
        }
      ]
    },
    {
      "cell_type": "markdown",
      "metadata": {
        "id": "e0mnMxBgSFZ6",
        "colab_type": "text"
      },
      "source": [
        "以前の訓練方法では、それぞれのパラメータ（重み、バイアス）を変数名で指定して更新を行い、それぞれのパラメータの勾配を明示的に初期化を行わなければいけませんでした。"
      ]
    },
    {
      "cell_type": "code",
      "metadata": {
        "id": "dWhfUaBYQjqx",
        "colab_type": "code",
        "colab": {}
      },
      "source": [
        "#いままでの手動での勾配降下法の実装\n",
        "#with torch.no_grad():\n",
        "#    weights -= weights.grad * lr\n",
        "#    bias -= bias.grad * lr\n",
        "#    weights.grad.zero_()\n",
        "#    bias.grad.zero_()"
      ],
      "execution_count": 20,
      "outputs": []
    },
    {
      "cell_type": "markdown",
      "metadata": {
        "id": "QmFQod4uSjOd",
        "colab_type": "text"
      },
      "source": [
        "nn.Moduleクラスを導入することで、「model.parameters()」でモデル全体のパラメータにアクセスができ、「model.zero_grad() 」でモデル全体のパラメータの勾配を一括で初期化できるようになりました。これは、もっと複雑なネットワークを定義するときにとても役に立ちます。重みの更新忘れなどの人為的ミスも防ぐことになります。"
      ]
    },
    {
      "cell_type": "code",
      "metadata": {
        "id": "ILgRHzdgS992",
        "colab_type": "code",
        "colab": {}
      },
      "source": [
        "#with torch.no_grad():\n",
        "#    for p in model.parameters(): p -= p.grad * lr\n",
        "#    model.zero_grad()"
      ],
      "execution_count": 21,
      "outputs": []
    },
    {
      "cell_type": "markdown",
      "metadata": {
        "id": "1ez8zwpPq45r",
        "colab_type": "text"
      },
      "source": [
        "このparameters()とzero_grad()を使った勾配降下法で訓練関数fit()を作成してみます。"
      ]
    },
    {
      "cell_type": "code",
      "metadata": {
        "id": "kfsuaIwIS-RC",
        "colab_type": "code",
        "colab": {}
      },
      "source": [
        "def fit():\n",
        "    for epoch in range(epochs):\n",
        "        for i in range((n - 1) // bs + 1):\n",
        "            start_i = i * bs\n",
        "            end_i = start_i + bs\n",
        "            xb = x_train[start_i:end_i]\n",
        "            yb = y_train[start_i:end_i]\n",
        "            pred = model(xb)\n",
        "            loss = loss_func(pred, yb)\n",
        "\n",
        "            loss.backward()\n",
        "            with torch.no_grad():\n",
        "                for p in model.parameters():\n",
        "                    p -= p.grad * lr\n",
        "                model.zero_grad()\n",
        "\n",
        "fit()"
      ],
      "execution_count": 22,
      "outputs": []
    },
    {
      "cell_type": "code",
      "metadata": {
        "id": "eCL8TN4ExNLq",
        "colab_type": "code",
        "colab": {
          "base_uri": "https://localhost:8080/",
          "height": 34
        },
        "outputId": "2bda8551-9541-4e1d-adc1-7066b87029de"
      },
      "source": [
        "print(loss_func(model(xb), yb))"
      ],
      "execution_count": 23,
      "outputs": [
        {
          "output_type": "stream",
          "text": [
            "tensor(0.0817, grad_fn=<NllLossBackward>)\n"
          ],
          "name": "stdout"
        }
      ]
    },
    {
      "cell_type": "markdown",
      "metadata": {
        "id": "mcxtQRiolvl0",
        "colab_type": "text"
      },
      "source": [
        "##nn.Linearでリファクタリング\n",
        "\n",
        "次に、モデルの定義の中で、「self.weights」や「self.bias」と行った変数を定義して初期化していました。そして、「xb @ self.weights + self.bias」と順伝播の式を手動で定義していました。\n",
        "\n",
        "中間層が増加すると、「weights」や「bias」と行った変数も中間層分増加することになり、順伝播の式もより複雑になっていきます。\n",
        "\n",
        "今回のような線形な層の場合、nn.Linearを利用して、簡潔に記載することができます。線形の層以外の畳み込み層など一般的に利用されるものもpytorchに存在し、とても早く実装することができるようになります。"
      ]
    },
    {
      "cell_type": "code",
      "metadata": {
        "id": "wwayuGNFnEIr",
        "colab_type": "code",
        "colab": {}
      },
      "source": [
        "class Mnist_Logistic(nn.Module):\n",
        "    def __init__(self):\n",
        "        super().__init__()\n",
        "        #入力が784次元、出力が10次元の線形の層を定義\n",
        "        self.lin = nn.Linear(784, 10)\n",
        "\n",
        "    def forward(self, xb):\n",
        "        return self.lin(xb)"
      ],
      "execution_count": 24,
      "outputs": []
    },
    {
      "cell_type": "markdown",
      "metadata": {
        "id": "6jcNbN3mneN5",
        "colab_type": "text"
      },
      "source": [
        "このクラスは、以前と同様のプログラムでインスタンス化して、損失を計算することができます。"
      ]
    },
    {
      "cell_type": "code",
      "metadata": {
        "id": "Ki1T7vVbnmev",
        "colab_type": "code",
        "colab": {
          "base_uri": "https://localhost:8080/",
          "height": 34
        },
        "outputId": "9dccf5fa-9101-4649-a16e-4a9ee24835f6"
      },
      "source": [
        "model = Mnist_Logistic()\n",
        "print(loss_func(model(xb), yb))"
      ],
      "execution_count": 25,
      "outputs": [
        {
          "output_type": "stream",
          "text": [
            "tensor(2.2910, grad_fn=<NllLossBackward>)\n"
          ],
          "name": "stdout"
        }
      ]
    },
    {
      "cell_type": "markdown",
      "metadata": {
        "id": "OJzkuVcbnsVf",
        "colab_type": "text"
      },
      "source": [
        "先ほどリファクタリングした訓練用の関数であるfitも同様に利用することができます。"
      ]
    },
    {
      "cell_type": "code",
      "metadata": {
        "id": "yt-qIWejnnAj",
        "colab_type": "code",
        "colab": {
          "base_uri": "https://localhost:8080/",
          "height": 34
        },
        "outputId": "227fd81e-56f3-4867-f9fe-c941e49193a8"
      },
      "source": [
        "fit()\n",
        "\n",
        "print(loss_func(model(xb), yb))"
      ],
      "execution_count": 26,
      "outputs": [
        {
          "output_type": "stream",
          "text": [
            "tensor(0.0821, grad_fn=<NllLossBackward>)\n"
          ],
          "name": "stdout"
        }
      ]
    }
  ]
}