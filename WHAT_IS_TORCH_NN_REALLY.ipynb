{
  "nbformat": 4,
  "nbformat_minor": 0,
  "metadata": {
    "colab": {
      "name": "WHAT IS TORCH.NN REALLY.ipynb",
      "provenance": [],
      "collapsed_sections": [],
      "authorship_tag": "ABX9TyMxjz+80QBhMos14Rt2oZGZ",
      "include_colab_link": true
    },
    "kernelspec": {
      "name": "python3",
      "display_name": "Python 3"
    },
    "accelerator": "GPU"
  },
  "cells": [
    {
      "cell_type": "markdown",
      "metadata": {
        "id": "view-in-github",
        "colab_type": "text"
      },
      "source": [
        "<a href=\"https://colab.research.google.com/github/perfectpanda-works/machine-learning/blob/master/WHAT_IS_TORCH_NN_REALLY.ipynb\" target=\"_parent\"><img src=\"https://colab.research.google.com/assets/colab-badge.svg\" alt=\"Open In Colab\"/></a>"
      ]
    },
    {
      "cell_type": "markdown",
      "metadata": {
        "id": "4dxDFuVIDL6Z",
        "colab_type": "text"
      },
      "source": [
        "このチュートリアルでは、MNISTデータセットを利用して、基本的なニューラルネットワークを訓練します。最初はPyTorchのテンソルの機能のみで作成していきます。\n",
        "\n",
        "また、このチュートリアルは、テンソルの操作の基本を知っていることが前提となっています。"
      ]
    },
    {
      "cell_type": "markdown",
      "metadata": {
        "id": "KK-rDpO0Cyki",
        "colab_type": "text"
      },
      "source": [
        "##MNISTデータのセットアップ\n",
        "\n",
        "MNISTは機械学習の有名なデータセットで、0～9の手書き数字（白黒画像）のデータです。分類問題として、正しく手書き数字を分類できるネットワークの訓練を目指します。\n",
        "\n",
        "次のプログラム（Python3標準ライブラリのpathlibを利用）で、リクエストを利用して、MNISTデータセットをダウンロードします。\n",
        "\n",
        "GoogleColaboで実行する場合、ファイルの「data/mnist/」に追加されます。"
      ]
    },
    {
      "cell_type": "code",
      "metadata": {
        "id": "_ThF__PKBMWH",
        "colab_type": "code",
        "colab": {}
      },
      "source": [
        "from pathlib import Path\n",
        "import requests\n",
        "\n",
        "DATA_PATH = Path(\"data\")\n",
        "PATH = DATA_PATH / \"mnist\"\n",
        "\n",
        "PATH.mkdir(parents=True, exist_ok=True)\n",
        "\n",
        "URL = \"http://deeplearning.net/data/mnist/\"\n",
        "FILENAME = \"mnist.pkl.gz\"\n",
        "\n",
        "if not (PATH / FILENAME).exists():\n",
        "        content = requests.get(URL + FILENAME).content\n",
        "        (PATH / FILENAME).open(\"wb\").write(content)"
      ],
      "execution_count": null,
      "outputs": []
    },
    {
      "cell_type": "markdown",
      "metadata": {
        "id": "WIY40_wEE-EA",
        "colab_type": "text"
      },
      "source": [
        "ここでダウンロードしたデータセットはnumpy形式で、python固有のpickelで保存されています。そのため、次のプログラムでデータを取り出します。\n",
        "\n",
        "gzipをopenしたのち、pickel形式のデータを読み込んでいます。"
      ]
    },
    {
      "cell_type": "code",
      "metadata": {
        "id": "E8oI6Gp8ELvU",
        "colab_type": "code",
        "colab": {}
      },
      "source": [
        "import pickle\n",
        "import gzip\n",
        "\n",
        "with gzip.open((PATH / FILENAME).as_posix(), \"rb\") as f:\n",
        "        ((x_train, y_train), (x_valid, y_valid), _) = pickle.load(f, encoding=\"latin-1\")"
      ],
      "execution_count": null,
      "outputs": []
    },
    {
      "cell_type": "markdown",
      "metadata": {
        "id": "g4GgiXMQGIlP",
        "colab_type": "text"
      },
      "source": [
        "この状態で、各画像は784個のデータの平坦化された行（１次元の配列）として保存されていますので、28×28の画像として変換する必要があります。"
      ]
    },
    {
      "cell_type": "code",
      "metadata": {
        "id": "BRob2UlYGChe",
        "colab_type": "code",
        "colab": {
          "base_uri": "https://localhost:8080/",
          "height": 34
        },
        "outputId": "2ae1149b-c708-4941-90df-d6472028c963"
      },
      "source": [
        "print(x_train[0].shape)"
      ],
      "execution_count": null,
      "outputs": [
        {
          "output_type": "stream",
          "text": [
            "(784,)\n"
          ],
          "name": "stdout"
        }
      ]
    },
    {
      "cell_type": "markdown",
      "metadata": {
        "id": "QD-IipHEGAZy",
        "colab_type": "text"
      },
      "source": [
        "reshapeメソッドで28×28の行列に変換してmatplotlibで表示してみます。\n",
        "\n",
        "また、x_trainには50000個の手書き文字データが格納されています。"
      ]
    },
    {
      "cell_type": "code",
      "metadata": {
        "id": "XAUA7VhdECWm",
        "colab_type": "code",
        "colab": {
          "base_uri": "https://localhost:8080/",
          "height": 282
        },
        "outputId": "b5e90841-12f8-49d6-f081-dd9b6ab27fed"
      },
      "source": [
        "from matplotlib import pyplot\n",
        "import numpy as np\n",
        "\n",
        "pyplot.imshow(x_train[0].reshape((28, 28)), cmap=\"gray\")\n",
        "print(x_train.shape)"
      ],
      "execution_count": null,
      "outputs": [
        {
          "output_type": "stream",
          "text": [
            "(50000, 784)\n"
          ],
          "name": "stdout"
        },
        {
          "output_type": "display_data",
          "data": {
            "image/png": "[encoded data removed]",
            "text/plain": [
              "<Figure size 432x288 with 1 Axes>"
            ]
          },
          "metadata": {
            "tags": [],
            "needs_background": "light"
          }
        }
      ]
    },
    {
      "cell_type": "markdown",
      "metadata": {
        "id": "ihAyI0MdHMLC",
        "colab_type": "text"
      },
      "source": [
        "PyTorchでデータを利用するためにnumpyから「torch.tensor」に変換します。"
      ]
    },
    {
      "cell_type": "code",
      "metadata": {
        "id": "mP7Uj-8nE7iw",
        "colab_type": "code",
        "colab": {
          "base_uri": "https://localhost:8080/",
          "height": 187
        },
        "outputId": "12a4033c-08ca-4365-987a-2758a475d449"
      },
      "source": [
        "import torch\n",
        "\n",
        "x_train, y_train, x_valid, y_valid = map(\n",
        "    torch.tensor, (x_train, y_train, x_valid, y_valid)\n",
        ")\n",
        "n, c = x_train.shape\n",
        "print(n)\n",
        "x_train, x_train.shape, y_train.min(), y_train.max()\n",
        "print(x_train, y_train)\n",
        "print(x_train.shape)\n",
        "print(y_train.min(), y_train.max())"
      ],
      "execution_count": null,
      "outputs": [
        {
          "output_type": "stream",
          "text": [
            "50000\n",
            "tensor([[0., 0., 0.,  ..., 0., 0., 0.],\n",
            "        [0., 0., 0.,  ..., 0., 0., 0.],\n",
            "        [0., 0., 0.,  ..., 0., 0., 0.],\n",
            "        ...,\n",
            "        [0., 0., 0.,  ..., 0., 0., 0.],\n",
            "        [0., 0., 0.,  ..., 0., 0., 0.],\n",
            "        [0., 0., 0.,  ..., 0., 0., 0.]]) tensor([5, 0, 4,  ..., 8, 4, 8])\n",
            "torch.Size([50000, 784])\n",
            "tensor(0) tensor(9)\n"
          ],
          "name": "stdout"
        }
      ]
    },
    {
      "cell_type": "markdown",
      "metadata": {
        "id": "cQ4Tbnc_TpaA",
        "colab_type": "text"
      },
      "source": [
        "#スクラッチでニューラルネットワーク(torch.nnを利用しない)\n",
        "\n",
        "このチュートリアルを行う前に、ニューラルネットワークについての基本的な知識があることが前提となっています。\n",
        "\n",
        "まずはニューラルネットワークのパラメータを保持する変数を作成します。\n",
        "\n",
        "PyTorchの提供するメソッドでランダムな値で埋められたテンソルや、ゼロで埋められたテンソルを作成することができます。そして、そのテンソルをシンプルな線形モデルの重みやバイアスといったパラメータにすることができます。また、Tensorのもっとも重要な特徴は、勾配が計算できるという点です。テンソルに行われた計算を保持できるので、勾配を自動的に計算することができます。\n",
        "\n",
        "次のプログラムで、ニューラルネットワークの「重み」と「バイアス」パラメータを作成します。\n",
        "\n",
        "ニューラルネットの「重み」パラメータのためのテンソルは、初期化のすぐ後に「required_grad_()」で計算の追跡する設定にしています。（初期化の計算をした後に追跡開始することで、初期化の計算を含めない点がポイント）\n",
        "\n",
        "また、重みのパラメータは、「Xavier　initialisation」という初期化方法を利用しています。\n",
        "\n",
        "「バイアス」は、ゼロで初期化するとともに、「required_grad」フラグをTrueにしています。"
      ]
    },
    {
      "cell_type": "code",
      "metadata": {
        "id": "G_JAFFs7HKZw",
        "colab_type": "code",
        "colab": {}
      },
      "source": [
        "import math\n",
        "\n",
        "weights = torch.randn(784, 10) / math.sqrt(784)\n",
        "weights.requires_grad_()\n",
        "bias = torch.zeros(10, requires_grad=True)"
      ],
      "execution_count": null,
      "outputs": []
    },
    {
      "cell_type": "markdown",
      "metadata": {
        "id": "lhZu78UvW_9v",
        "colab_type": "text"
      },
      "source": [
        "PyTorchの自動的に勾配を計算（自動微分）してくれるおかげで、通常のPythonの関数などが利用できます。\n",
        "\n",
        "次に、「活性化関数」を作成します。手動で「log_softmax」を定義しています。これは、Pythonの関数として定義します。\n",
        "\n",
        "そして、「model」では、ニューラルネットワークのモデル自体を定義しています。モデルといっても、今回は、順伝播が行われるような式を定義しているだけになります。重みと入力テンソルを掛け合わせて、バイアスを足したものを活性化関数のlog_softmaxに入れ、出力値をリターンするようなモデルです。"
      ]
    },
    {
      "cell_type": "code",
      "metadata": {
        "id": "uf30za59WlNj",
        "colab_type": "code",
        "colab": {}
      },
      "source": [
        "def log_softmax(x):\n",
        "    return x - x.exp().sum(-1).log().unsqueeze(-1)\n",
        "\n",
        "def model(xb):\n",
        "    return log_softmax(xb @ weights + bias)"
      ],
      "execution_count": null,
      "outputs": []
    },
    {
      "cell_type": "markdown",
      "metadata": {
        "id": "AKFDAhEwZFrp",
        "colab_type": "text"
      },
      "source": [
        "上のプログラムの「@」は内積演算（行列積）を表しています。\n",
        "\n",
        "そして、モデルには、バッチ単位でデータを渡します。（今回は64枚の画像）「xb」には64枚の画像が入ってくるということです。\n",
        "\n",
        "実際には、xbが（64×784）の行列、そして、weightsは(784×10)の行列となります。"
      ]
    },
    {
      "cell_type": "code",
      "metadata": {
        "id": "MxlfS1-jY_Ct",
        "colab_type": "code",
        "colab": {
          "base_uri": "https://localhost:8080/",
          "height": 51
        },
        "outputId": "8bf76121-4aea-4cfc-cf7c-02192c7f54a4"
      },
      "source": [
        "bs = 64  # バッチサイズ\n",
        "\n",
        "xb = x_train[0:bs]  # ミニバッチサイズ\n",
        "preds = model(xb)  # 順伝播で予測\n",
        "preds[0], preds.shape\n",
        "print(preds[0], preds.shape)"
      ],
      "execution_count": null,
      "outputs": [
        {
          "output_type": "stream",
          "text": [
            "tensor([-2.3829, -2.5776, -1.7291, -1.9857, -2.5503, -2.5155, -2.2194, -2.5737,\n",
            "        -2.5830, -2.3260], grad_fn=<SelectBackward>) torch.Size([64, 10])\n"
          ],
          "name": "stdout"
        }
      ]
    },
    {
      "cell_type": "markdown",
      "metadata": {
        "id": "fneUXE_rZ_NX",
        "colab_type": "text"
      },
      "source": [
        "「xb」には、訓練用画像「x_train」から0〜63枚目の画像（計64枚）が格納されます。\n",
        "\n",
        "そして、その「xb」をmodelに入れることで、modelに計算をさせ、予測値をえます。（順伝播）\n",
        "\n",
        "この予測値には、勾配も含まれていることが確認できます。これは後の逆伝播で利用します。\n",
        "\n",
        "それでは、損失関数として「負の対数尤度関数（NLL)」を定義します。これは、Python標準の関数で作成しています。"
      ]
    },
    {
      "cell_type": "code",
      "metadata": {
        "id": "gWIamStPZx9c",
        "colab_type": "code",
        "colab": {}
      },
      "source": [
        "def nll(input, target):\n",
        "    return -input[range(target.shape[0]), target].mean()\n",
        "\n",
        "loss_func = nll"
      ],
      "execution_count": null,
      "outputs": []
    },
    {
      "cell_type": "markdown",
      "metadata": {
        "id": "L_my_Ja0dqF9",
        "colab_type": "text"
      },
      "source": [
        "それでは、損失を確認してみます。"
      ]
    },
    {
      "cell_type": "code",
      "metadata": {
        "id": "frR1ay5ndnNo",
        "colab_type": "code",
        "colab": {
          "base_uri": "https://localhost:8080/",
          "height": 34
        },
        "outputId": "ccc58bf9-ccf8-4120-b391-23eaaf752b71"
      },
      "source": [
        "yb = y_train[0:bs]\n",
        "print(loss_func(preds, yb))"
      ],
      "execution_count": null,
      "outputs": [
        {
          "output_type": "stream",
          "text": [
            "tensor(2.3737, grad_fn=<NegBackward>)\n"
          ],
          "name": "stdout"
        }
      ]
    },
    {
      "cell_type": "markdown",
      "metadata": {
        "id": "AjM_K_Ppdy9U",
        "colab_type": "text"
      },
      "source": [
        "同様に、このモデルの精度を確認してみます。\n",
        "\n"
      ]
    },
    {
      "cell_type": "code",
      "metadata": {
        "id": "Qhz0D1tQdvkG",
        "colab_type": "code",
        "colab": {}
      },
      "source": [
        "def accuracy(out, yb):\n",
        "    preds = torch.argmax(out, dim=1)\n",
        "    return (preds == yb).float().mean()"
      ],
      "execution_count": null,
      "outputs": []
    },
    {
      "cell_type": "code",
      "metadata": {
        "id": "D4h01kxGett3",
        "colab_type": "code",
        "colab": {
          "base_uri": "https://localhost:8080/",
          "height": 34
        },
        "outputId": "fd1a09d3-b828-42d9-ec20-6927e2aea999"
      },
      "source": [
        "print(accuracy(preds, yb))"
      ],
      "execution_count": null,
      "outputs": [
        {
          "output_type": "stream",
          "text": [
            "tensor(0.0469)\n"
          ],
          "name": "stdout"
        }
      ]
    },
    {
      "cell_type": "markdown",
      "metadata": {
        "id": "LgnRJrbhqNrX",
        "colab_type": "text"
      },
      "source": [
        "これで、訓練ループを実装できます。それぞれのループでは、次のことを行います。\n",
        "\n",
        "・ミニバッチでデータを選択\n",
        "\n",
        "・モデルで予測\n",
        "\n",
        "・誤差を求める\n",
        "\n",
        "・逆伝播をして勾配を求める\n",
        "\n",
        "・重みを更新する\n",
        "\n",
        "重みを更新する際には、重みの更新の計算を追跡しないようにtorch.no_grad()で囲みます。また、次のループに入る前に勾配をリセットするためにgrad_zero()を呼び出す必要があります。\n",
        "\n",
        "学習率は「lr」、訓練回数は「epochs」で指定します。\n",
        "\n",
        "（Python標準のデバッガも利用できるとのことです。）"
      ]
    },
    {
      "cell_type": "code",
      "metadata": {
        "id": "Z4LAjjENexGV",
        "colab_type": "code",
        "colab": {
          "base_uri": "https://localhost:8080/",
          "height": 119
        },
        "outputId": "44a8b698-97a9-43d6-f0c3-a736fb088d1b"
      },
      "source": [
        "from IPython.core.debugger import set_trace\n",
        "\n",
        "lr = 0.5  # 学習率\n",
        "epochs = 2  # 訓練のエポック数\n",
        "\n",
        "print(\"n\")\n",
        "print(n)\n",
        "print(\"bs\")\n",
        "print(bs)\n",
        "\n",
        "#エポック回数分繰り返す\n",
        "for epoch in range(epochs):\n",
        "    batch_num=0\n",
        "    #ミニバッチのループ\n",
        "    #//は切り捨て除算\n",
        "    for i in range((n - 1) // bs + 1):#(49999÷64)+1=782.23の切り捨て回数分のミニバッチ\n",
        "        batch_num = batch_num + 1\n",
        "        #         set_trace()\n",
        "        start_i = i * bs\n",
        "        end_i = start_i + bs\n",
        "        xb = x_train[start_i:end_i]\n",
        "        yb = y_train[start_i:end_i]\n",
        "        pred = model(xb)\n",
        "        loss = loss_func(pred, yb)\n",
        "\n",
        "        loss.backward()\n",
        "        #勾配降下法で重みの更新(式を手動で定義)\n",
        "        with torch.no_grad():\n",
        "            weights -= weights.grad * lr\n",
        "            bias -= bias.grad * lr\n",
        "            weights.grad.zero_()\n",
        "            bias.grad.zero_()\n",
        "\n",
        "print(\"mini_batch_num\")\n",
        "print(batch_num)"
      ],
      "execution_count": null,
      "outputs": [
        {
          "output_type": "stream",
          "text": [
            "n\n",
            "50000\n",
            "bs\n",
            "64\n",
            "mini_batch_num\n",
            "782\n"
          ],
          "name": "stdout"
        }
      ]
    },
    {
      "cell_type": "markdown",
      "metadata": {
        "id": "mTrdzdnArqPm",
        "colab_type": "text"
      },
      "source": [
        "今回は、もっともミニマムなニューラルネットワークを作成しました。これは、ロジスティック回帰であり、隠れ層のないネットワークです。\n",
        "\n",
        "訓練後の損失と精度を確認してみます。"
      ]
    },
    {
      "cell_type": "code",
      "metadata": {
        "id": "AIvqx7ZcrO2R",
        "colab_type": "code",
        "colab": {
          "base_uri": "https://localhost:8080/",
          "height": 34
        },
        "outputId": "05e3cc57-5144-4e06-b278-a1f0953ce78e"
      },
      "source": [
        "print(loss_func(model(xb), yb), accuracy(model(xb), yb))"
      ],
      "execution_count": null,
      "outputs": [
        {
          "output_type": "stream",
          "text": [
            "tensor(0.0824, grad_fn=<NegBackward>) tensor(1.)\n"
          ],
          "name": "stdout"
        }
      ]
    },
    {
      "cell_type": "markdown",
      "metadata": {
        "id": "83xDkxET_ZM0",
        "colab_type": "text"
      },
      "source": [
        "#リファクタリング"
      ]
    },
    {
      "cell_type": "markdown",
      "metadata": {
        "id": "4kX1y9m30sa-",
        "colab_type": "text"
      },
      "source": [
        "##torch.nn.functionalを使う\n",
        "\n",
        "\n",
        "これから、スクラッチで作成したプログラムをpytorchのnnクラスを利用してより簡潔で柔軟なプログラムになるようにリファクタリングを行います。\n",
        "\n",
        "ここからのステップでは、プログラムをより短く、理解しやすい形に変更していきます。\n",
        "\n",
        "いちばん簡単なステップとしては、手動で定義していた損失関数を「torch.nn.functional」で置き換えることです。「torch.nn.functional」は一般的に「F」という名前空間でimportされます。\n",
        "\n",
        "（Functionalは、「as F」とするのが一般的のようです。）\n",
        "\n",
        "損失関数として、「負の尤度関数(negative log likelihood)」または「尤度関数(log softmax)」を利用している場合、PyTorchでは「F.cross_entropy」関数でカバーしています。これを利用して、損失関数をモジュールを利用して簡潔に記述することができます。"
      ]
    },
    {
      "cell_type": "code",
      "metadata": {
        "id": "caY5xRX40zRb",
        "colab_type": "code",
        "colab": {}
      },
      "source": [
        "import torch.nn.functional as F\n",
        "\n",
        "loss_func = F.cross_entropy\n",
        "\n",
        "def model(xb):\n",
        "    return xb @ weights + bias"
      ],
      "execution_count": null,
      "outputs": []
    },
    {
      "cell_type": "markdown",
      "metadata": {
        "id": "2_CowJQV1DvK",
        "colab_type": "text"
      },
      "source": [
        "同じ損失と同じ精度が算出されることを確認しましょう。"
      ]
    },
    {
      "cell_type": "code",
      "metadata": {
        "id": "naYaWxqu1Bys",
        "colab_type": "code",
        "colab": {
          "base_uri": "https://localhost:8080/",
          "height": 34
        },
        "outputId": "9160942f-c729-41d1-c323-7756e7fd558b"
      },
      "source": [
        "print(loss_func(model(xb), yb), accuracy(model(xb), yb))"
      ],
      "execution_count": null,
      "outputs": [
        {
          "output_type": "stream",
          "text": [
            "tensor(0.0824, grad_fn=<NllLossBackward>) tensor(1.)\n"
          ],
          "name": "stdout"
        }
      ]
    },
    {
      "cell_type": "markdown",
      "metadata": {
        "id": "UfoHSPb1_hRm",
        "colab_type": "text"
      },
      "source": [
        "##nn.Moduleでリファクタリング\n",
        "\n",
        "次に、訓練ループを整理するために、「nn.Module」と「nn.Parameter」を利用します。\n",
        "\n",
        "nn.Moduleのサブクラスとしてクラスを定義することで利用します。サブクラスでは、「重み、バイアス」といったネットワークの訓練パラメータを保持し、順伝播をメソッドとして実装していきたいです。nn.Moduleには、このようなサブクラスを作成するための「.Parameter()」や「zero_grad()」といった属性やメソッドが存在します。"
      ]
    },
    {
      "cell_type": "code",
      "metadata": {
        "id": "FhDrbU_1ORtl",
        "colab_type": "code",
        "colab": {}
      },
      "source": [
        "#nnをimport\n",
        "from torch import nn\n",
        "\n",
        "#nn.Moduleを継承したMnistLogisticクラス\n",
        "class Mnist_Logistic(nn.Module):\n",
        "    def __init__(self):\n",
        "        super().__init__()\n",
        "        #コンストラクタで重み、バイアスの初期化\n",
        "        self.weights = nn.Parameter(torch.randn(784, 10) / math.sqrt(784))\n",
        "        self.bias = nn.Parameter(torch.zeros(10))\n",
        "\n",
        "    #forwardメソッドの定義\n",
        "    def forward(self, xb):\n",
        "        return xb @ self.weights + self.bias"
      ],
      "execution_count": null,
      "outputs": []
    },
    {
      "cell_type": "markdown",
      "metadata": {
        "id": "0HLxokgLPmiA",
        "colab_type": "text"
      },
      "source": [
        "クラスのコンストラクタでXavier　initialisationとバイアスのゼロ初期化を行うようになりました。\n",
        "\n",
        "また、forwardをクラスのメソッドとして定義しました。nn.Moduleのクラスを利用することで、テンソルの追跡も自動的に行われるので、手動で行っていた時のようにRequired_gradを気にする必要もなくなりました。"
      ]
    },
    {
      "cell_type": "markdown",
      "metadata": {
        "id": "XaU3_S9nQW7z",
        "colab_type": "text"
      },
      "source": [
        "定義したモデルをインスタンス化します。"
      ]
    },
    {
      "cell_type": "code",
      "metadata": {
        "id": "fEnmer10QapP",
        "colab_type": "code",
        "colab": {}
      },
      "source": [
        "model = Mnist_Logistic()"
      ],
      "execution_count": null,
      "outputs": []
    },
    {
      "cell_type": "markdown",
      "metadata": {
        "id": "S0j-oqxhQxr3",
        "colab_type": "text"
      },
      "source": [
        "今までの記載方法と同じ記載で損失を計算することができます。\n",
        "\n",
        "nn.Moduleのオブジェクトは関数のように使用することができます。関数のように呼び出すことで、自動的にforwardメソッドを実行してくれるようになっています。"
      ]
    },
    {
      "cell_type": "code",
      "metadata": {
        "id": "BjgfjYSzQbKp",
        "colab_type": "code",
        "colab": {
          "base_uri": "https://localhost:8080/",
          "height": 34
        },
        "outputId": "fc53d635-cdd6-4b26-81ee-66f4ab44f18f"
      },
      "source": [
        "print(loss_func(model(xb), yb))"
      ],
      "execution_count": null,
      "outputs": [
        {
          "output_type": "stream",
          "text": [
            "tensor(2.3372, grad_fn=<NllLossBackward>)\n"
          ],
          "name": "stdout"
        }
      ]
    },
    {
      "cell_type": "markdown",
      "metadata": {
        "id": "e0mnMxBgSFZ6",
        "colab_type": "text"
      },
      "source": [
        "以前の訓練方法では、それぞれのパラメータ（重み、バイアス）を変数名で指定して更新を行い、それぞれのパラメータの勾配を明示的に初期化を行わなければいけませんでした。"
      ]
    },
    {
      "cell_type": "code",
      "metadata": {
        "id": "dWhfUaBYQjqx",
        "colab_type": "code",
        "colab": {}
      },
      "source": [
        "#いままでの手動での勾配降下法の実装\n",
        "#with torch.no_grad():\n",
        "#    weights -= weights.grad * lr\n",
        "#    bias -= bias.grad * lr\n",
        "#    weights.grad.zero_()\n",
        "#    bias.grad.zero_()"
      ],
      "execution_count": null,
      "outputs": []
    },
    {
      "cell_type": "markdown",
      "metadata": {
        "id": "QmFQod4uSjOd",
        "colab_type": "text"
      },
      "source": [
        "nn.Moduleクラスを導入することで、「model.parameters()」でモデル全体のパラメータにアクセスができ、「model.zero_grad() 」でモデル全体のパラメータの勾配を一括で初期化できるようになりました。これは、もっと複雑なネットワークを定義するときにとても役に立ちます。重みの更新忘れなどの人為的ミスも防ぐことになります。"
      ]
    },
    {
      "cell_type": "code",
      "metadata": {
        "id": "ILgRHzdgS992",
        "colab_type": "code",
        "colab": {}
      },
      "source": [
        "#with torch.no_grad():\n",
        "#    for p in model.parameters(): p -= p.grad * lr\n",
        "#    model.zero_grad()"
      ],
      "execution_count": null,
      "outputs": []
    },
    {
      "cell_type": "markdown",
      "metadata": {
        "id": "1ez8zwpPq45r",
        "colab_type": "text"
      },
      "source": [
        "このparameters()とzero_grad()を使った勾配降下法で訓練関数fit()を作成してみます。"
      ]
    },
    {
      "cell_type": "code",
      "metadata": {
        "id": "kfsuaIwIS-RC",
        "colab_type": "code",
        "colab": {}
      },
      "source": [
        "def fit():\n",
        "    for epoch in range(epochs):\n",
        "        for i in range((n - 1) // bs + 1):\n",
        "            start_i = i * bs\n",
        "            end_i = start_i + bs\n",
        "            xb = x_train[start_i:end_i]\n",
        "            yb = y_train[start_i:end_i]\n",
        "            pred = model(xb)\n",
        "            loss = loss_func(pred, yb)\n",
        "\n",
        "            loss.backward()\n",
        "            with torch.no_grad():\n",
        "                for p in model.parameters():\n",
        "                    p -= p.grad * lr\n",
        "                model.zero_grad()\n",
        "\n",
        "fit()"
      ],
      "execution_count": null,
      "outputs": []
    },
    {
      "cell_type": "code",
      "metadata": {
        "id": "eCL8TN4ExNLq",
        "colab_type": "code",
        "colab": {
          "base_uri": "https://localhost:8080/",
          "height": 34
        },
        "outputId": "a4b351f2-b301-4a67-bacb-da41549c1280"
      },
      "source": [
        "print(loss_func(model(xb), yb))"
      ],
      "execution_count": null,
      "outputs": [
        {
          "output_type": "stream",
          "text": [
            "tensor(0.0827, grad_fn=<NllLossBackward>)\n"
          ],
          "name": "stdout"
        }
      ]
    },
    {
      "cell_type": "markdown",
      "metadata": {
        "id": "mcxtQRiolvl0",
        "colab_type": "text"
      },
      "source": [
        "##nn.Linearでリファクタリング\n",
        "\n",
        "次に、モデルの定義の中で、「self.weights」や「self.bias」と行った変数を定義して初期化していました。そして、「xb @ self.weights + self.bias」と順伝播の式を手動で定義していました。\n",
        "\n",
        "中間層が増加すると、「weights」や「bias」と行った変数も中間層分増加することになり、順伝播の式もより複雑になっていきます。\n",
        "\n",
        "今回のような線形な層の場合、nn.Linearを利用して、簡潔に記載することができます。線形の層以外の畳み込み層など一般的に利用されるものもpytorchに存在し、とても早く実装することができるようになります。"
      ]
    },
    {
      "cell_type": "code",
      "metadata": {
        "id": "wwayuGNFnEIr",
        "colab_type": "code",
        "colab": {}
      },
      "source": [
        "class Mnist_Logistic(nn.Module):\n",
        "    def __init__(self):\n",
        "        super().__init__()\n",
        "        #入力が784次元、出力が10次元の線形の層を定義\n",
        "        self.lin = nn.Linear(784, 10)\n",
        "\n",
        "    def forward(self, xb):\n",
        "        return self.lin(xb)"
      ],
      "execution_count": null,
      "outputs": []
    },
    {
      "cell_type": "markdown",
      "metadata": {
        "id": "6jcNbN3mneN5",
        "colab_type": "text"
      },
      "source": [
        "このクラスは、以前と同様のプログラムでインスタンス化して、損失を計算することができます。"
      ]
    },
    {
      "cell_type": "code",
      "metadata": {
        "id": "Ki1T7vVbnmev",
        "colab_type": "code",
        "colab": {
          "base_uri": "https://localhost:8080/",
          "height": 34
        },
        "outputId": "902927ba-19e3-45d6-edf7-50cc212e88c4"
      },
      "source": [
        "model = Mnist_Logistic()\n",
        "print(loss_func(model(xb), yb))"
      ],
      "execution_count": null,
      "outputs": [
        {
          "output_type": "stream",
          "text": [
            "tensor(2.3883, grad_fn=<NllLossBackward>)\n"
          ],
          "name": "stdout"
        }
      ]
    },
    {
      "cell_type": "markdown",
      "metadata": {
        "id": "OJzkuVcbnsVf",
        "colab_type": "text"
      },
      "source": [
        "先ほどリファクタリングした訓練用の関数であるfitも同様に利用することができます。"
      ]
    },
    {
      "cell_type": "code",
      "metadata": {
        "id": "yt-qIWejnnAj",
        "colab_type": "code",
        "colab": {
          "base_uri": "https://localhost:8080/",
          "height": 34
        },
        "outputId": "b59f9140-0655-47e8-8c37-cf2e5680a88c"
      },
      "source": [
        "fit()\n",
        "\n",
        "print(loss_func(model(xb), yb))"
      ],
      "execution_count": null,
      "outputs": [
        {
          "output_type": "stream",
          "text": [
            "tensor(0.0820, grad_fn=<NllLossBackward>)\n"
          ],
          "name": "stdout"
        }
      ]
    },
    {
      "cell_type": "markdown",
      "metadata": {
        "id": "UqHQG7WCPAEr",
        "colab_type": "text"
      },
      "source": [
        "##optimでリファクタリング\n",
        "\n",
        "Pytorchには、さまざまな最適化アルゴリズムを含むパッケージtorch.optimもあります。各パラメーターを手動で更新する代わりに、オプティマイザーのstepメソッドを利用できます。\n",
        "\n",
        "手動でコーディングした最適化手順をそのまま置き換えてみます。"
      ]
    },
    {
      "cell_type": "code",
      "metadata": {
        "id": "GyykGwr8T2Gs",
        "colab_type": "code",
        "colab": {}
      },
      "source": [
        "#以前の手動でのパラメータ更新\n",
        "#with torch.no_grad():\n",
        "#    for p in model.parameters(): p -= p.grad * lr\n",
        "#    model.zero_grad()"
      ],
      "execution_count": null,
      "outputs": []
    },
    {
      "cell_type": "markdown",
      "metadata": {
        "id": "XxgJrr1mUDQq",
        "colab_type": "text"
      },
      "source": [
        "これを単純に次のプログラムに置き換えます。"
      ]
    },
    {
      "cell_type": "code",
      "metadata": {
        "id": "Cry_CGveUvCP",
        "colab_type": "code",
        "colab": {}
      },
      "source": [
        "#opt.step()\n",
        "#opt.zero_grad()"
      ],
      "execution_count": null,
      "outputs": []
    },
    {
      "cell_type": "markdown",
      "metadata": {
        "id": "Z0mo1BeZZrmR",
        "colab_type": "text"
      },
      "source": [
        "実際に修正したプログラムをみてみましょう。"
      ]
    },
    {
      "cell_type": "code",
      "metadata": {
        "id": "BB88JVRmYAcg",
        "colab_type": "code",
        "colab": {}
      },
      "source": [
        "from torch import optim"
      ],
      "execution_count": null,
      "outputs": []
    },
    {
      "cell_type": "markdown",
      "metadata": {
        "id": "VRlep_HqYPBx",
        "colab_type": "text"
      },
      "source": [
        "モデルとオプティマイザを作成するための小さな関数を作成します。"
      ]
    },
    {
      "cell_type": "code",
      "metadata": {
        "id": "_ayzrBTsajuj",
        "colab_type": "code",
        "colab": {
          "base_uri": "https://localhost:8080/",
          "height": 51
        },
        "outputId": "78072bbe-b1d4-4a90-9649-589134d68219"
      },
      "source": [
        "#この関数を呼び出すと、モデルとオプティマイザのインスタンス化ができます。\n",
        "def get_model():\n",
        "    model = Mnist_Logistic()\n",
        "    return model, optim.SGD(model.parameters(), lr=lr)\n",
        "\n",
        "#ここで呼び出します。\n",
        "model, opt = get_model()\n",
        "print(loss_func(model(xb), yb))\n",
        "\n",
        "#fit()という関数にまとめていた訓練部分\n",
        "#今回はとりあえず普通に記載しています。\n",
        "for epoch in range(epochs):\n",
        "    for i in range((n - 1) // bs + 1):\n",
        "        start_i = i * bs\n",
        "        end_i = start_i + bs\n",
        "        xb = x_train[start_i:end_i]\n",
        "        yb = y_train[start_i:end_i]\n",
        "        pred = model(xb)\n",
        "        loss = loss_func(pred, yb)\n",
        "\n",
        "        loss.backward()\n",
        "        #重みの更新がこのように簡潔になる\n",
        "        opt.step()\n",
        "        opt.zero_grad()\n",
        "\n",
        "print(loss_func(model(xb), yb))"
      ],
      "execution_count": null,
      "outputs": [
        {
          "output_type": "stream",
          "text": [
            "tensor(2.2884, grad_fn=<NllLossBackward>)\n",
            "tensor(0.0823, grad_fn=<NllLossBackward>)\n"
          ],
          "name": "stdout"
        }
      ]
    },
    {
      "cell_type": "markdown",
      "metadata": {
        "id": "sVHVQpFjbWdt",
        "colab_type": "text"
      },
      "source": [
        "##Datasetでリファクタリング\n",
        "\n",
        "PyTorchには抽象的なデータクラスがあります。\n",
        "\n",
        "データセットは、``__len__``と``__getitem__``をインデックス付けする方法を持つものであればなんでもOKとのことです。\n",
        "（ここは、カスタムDatasetを作成するチュートリアルが詳しいので、また追加で勉強する必要があります。ここでは、Datasetクラスで``__len__``と``__getitem__``が呼び出せるようになっているという理解で良いかと思います。DatasetのサブクラスとしてカスタムDatasetを作成する方法が`This tutorial <https://pytorch.org/tutorials/beginner/data_loading_tutorial.html>`で確認できます。\n",
        "\n",
        "\n",
        "PyTorchのTensorDatasetは、データセットをラップするテンソルです。これは、インデックス付けの長さと方法を定義することにより、テンソルの最初の次元に沿って反復、インデックス付け、およびスライスする方法も提供します。これにより、トレーニング中に同じ行で独立変数と従属変数の両方にアクセスしやすくなります。\n",
        "\n",
        "ここは、TensorDatasetを利用することで、データと答えの紐付けができて管理しやすくなる、という理解で良いかと思います。\n"
      ]
    },
    {
      "cell_type": "code",
      "metadata": {
        "id": "-EhFFzEKP2PP",
        "colab_type": "code",
        "colab": {}
      },
      "source": [
        "from torch.utils.data import TensorDataset"
      ],
      "execution_count": null,
      "outputs": []
    },
    {
      "cell_type": "markdown",
      "metadata": {
        "id": "Qg84zt5mSohc",
        "colab_type": "text"
      },
      "source": [
        "\n",
        "x_trainとy_trainの両方を1つのTensorDatasetに組み合わせることができます。これにより、繰り返し処理やスライスが容易になります。\n",
        "\n",
        "（チュートリアルの一番最初にpickelで取得したデータです。x_trainには画像データ、y_trainには答えデータが格納されています。）"
      ]
    },
    {
      "cell_type": "code",
      "metadata": {
        "id": "4GNSE9BbSlt_",
        "colab_type": "code",
        "colab": {}
      },
      "source": [
        "#TensorDatasetで画像と答えラベルをまとめる\n",
        "train_ds = TensorDataset(x_train, y_train)"
      ],
      "execution_count": null,
      "outputs": []
    },
    {
      "cell_type": "markdown",
      "metadata": {
        "id": "rmIBwoLFQbnh",
        "colab_type": "text"
      },
      "source": [
        "以前のプログラムでは、ミニバッチで画像データ「x」と答えデータ「y」は別のデータとして紐づけていました。"
      ]
    },
    {
      "cell_type": "code",
      "metadata": {
        "id": "P13LTJzpQGQV",
        "colab_type": "code",
        "colab": {}
      },
      "source": [
        "#以前のミニバッチへデータを読み込むプログラム\n",
        "#xb = x_train[start_i:end_i]\n",
        "#yb = y_train[start_i:end_i]"
      ],
      "execution_count": null,
      "outputs": []
    },
    {
      "cell_type": "code",
      "metadata": {
        "id": "lIT_xLDISZtm",
        "colab_type": "code",
        "colab": {}
      },
      "source": [
        "#xbとxyの読み込みを1行に\n",
        "xb,yb = train_ds[i*bs : i*bs+bs]"
      ],
      "execution_count": null,
      "outputs": []
    },
    {
      "cell_type": "markdown",
      "metadata": {
        "id": "vCxFF_L2bD-Q",
        "colab_type": "text"
      },
      "source": [
        "以下のように、訓練ループに組み込みます。"
      ]
    },
    {
      "cell_type": "code",
      "metadata": {
        "id": "yHyYAJcdSbzv",
        "colab_type": "code",
        "colab": {
          "base_uri": "https://localhost:8080/",
          "height": 34
        },
        "outputId": "e01eb1a7-f667-48a6-bab3-27acc8d764bc"
      },
      "source": [
        "model, opt = get_model()\n",
        "\n",
        "#訓練ループの修正\n",
        "for epoch in range(epochs):\n",
        "    for i in range((n - 1) // bs + 1):\n",
        "        #このように１行で書くことができるように\n",
        "        xb, yb = train_ds[i * bs: i * bs + bs]\n",
        "        pred = model(xb)\n",
        "        loss = loss_func(pred, yb)\n",
        "\n",
        "        loss.backward()\n",
        "        opt.step()\n",
        "        opt.zero_grad()\n",
        "\n",
        "print(loss_func(model(xb), yb))"
      ],
      "execution_count": null,
      "outputs": [
        {
          "output_type": "stream",
          "text": [
            "tensor(0.0814, grad_fn=<NllLossBackward>)\n"
          ],
          "name": "stdout"
        }
      ]
    },
    {
      "cell_type": "markdown",
      "metadata": {
        "id": "8noIZFlhbKzP",
        "colab_type": "text"
      },
      "source": [
        "このDatasetでは、プログラムの記載する分量としては増えているのですが、この後のDataLoaderを利用することでバッチ単位でのデータ管理がとても簡単になります。"
      ]
    },
    {
      "cell_type": "markdown",
      "metadata": {
        "id": "CTIEmZn4Thc6",
        "colab_type": "text"
      },
      "source": [
        "##DataLoaderでリファクタリング\n",
        "\n",
        "PyTorchのDataLoaderはバッチの管理を行います。DataLoaderはDatasetから作ることができます。マニュアルでデータを切り取るようなプログラム「``train_ds[i*bs : i*bs+bs]``」を利用しなくても、DataLoaderが自動的にミニバッチのデータを与えてくれるようになります。"
      ]
    },
    {
      "cell_type": "code",
      "metadata": {
        "id": "44_dBUmkUheP",
        "colab_type": "code",
        "colab": {}
      },
      "source": [
        "from torch.utils.data import DataLoader\n",
        "\n",
        "train_ds = TensorDataset(x_train, y_train)\n",
        "train_dl = DataLoader(train_ds, batch_size=bs)"
      ],
      "execution_count": null,
      "outputs": []
    },
    {
      "cell_type": "markdown",
      "metadata": {
        "id": "cSPigXSvU-ce",
        "colab_type": "text"
      },
      "source": [
        "DataLoaderには、TensorDatasetとバッチサイズを与えるだけになります。\n",
        "\n",
        "以前のプログラムでは以下のようになっていました。"
      ]
    },
    {
      "cell_type": "code",
      "metadata": {
        "id": "7gZkePV7VH1t",
        "colab_type": "code",
        "colab": {}
      },
      "source": [
        "#for i in range((n-1)//bs + 1):\n",
        "#    xb,yb = train_ds[i*bs : i*bs+bs]\n",
        "#    pred = model(xb)"
      ],
      "execution_count": null,
      "outputs": []
    },
    {
      "cell_type": "markdown",
      "metadata": {
        "id": "Gqu5gyVuVMsd",
        "colab_type": "text"
      },
      "source": [
        "forループのバッチサイズ毎に割り算したり、めんどくさいイメージがありました。DataLoaderを利用すると次のようになります。"
      ]
    },
    {
      "cell_type": "code",
      "metadata": {
        "id": "gff77PNVVXZ0",
        "colab_type": "code",
        "colab": {}
      },
      "source": [
        "#for xb,yb in train_dl:\n",
        "#    pred = model(xb)"
      ],
      "execution_count": null,
      "outputs": []
    },
    {
      "cell_type": "markdown",
      "metadata": {
        "id": "tPrItqgXVgH0",
        "colab_type": "text"
      },
      "source": [
        "DataLoaderまでを利用した訓練ループは次のようになります。"
      ]
    },
    {
      "cell_type": "code",
      "metadata": {
        "id": "xGwwekF1VmdT",
        "colab_type": "code",
        "colab": {
          "base_uri": "https://localhost:8080/",
          "height": 34
        },
        "outputId": "9b584b25-5c75-491f-c85f-f4cf426320da"
      },
      "source": [
        "model, opt = get_model()\n",
        "\n",
        "for epoch in range(epochs):\n",
        "    for xb, yb in train_dl:\n",
        "        pred = model(xb)\n",
        "        loss = loss_func(pred, yb)\n",
        "\n",
        "        loss.backward()\n",
        "        opt.step()\n",
        "        opt.zero_grad()\n",
        "\n",
        "print(loss_func(model(xb), yb))"
      ],
      "execution_count": null,
      "outputs": [
        {
          "output_type": "stream",
          "text": [
            "tensor(0.0817, grad_fn=<NllLossBackward>)\n"
          ],
          "name": "stdout"
        }
      ]
    },
    {
      "cell_type": "markdown",
      "metadata": {
        "id": "eL5cDNjEVwXL",
        "colab_type": "text"
      },
      "source": [
        "\n",
        "Pytorchのnn.Module、nn.Parameter、Dataset、DataLoaderのおかげで、トレーニングループが劇的に小さくなり、理解しやすくなりました。"
      ]
    },
    {
      "cell_type": "markdown",
      "metadata": {
        "id": "SKy0HZ3jASec",
        "colab_type": "text"
      },
      "source": [
        "#validationの追加\n",
        "\n",
        "一番最初のpickelデータの読み込みのところで、「x_valid」「y_valid」というデータも読み込んでいましたが、利用していませんでした。検証データという名前でこのセクションから利用することになります。\n",
        "\n",
        "（validationは、検証データと言って、訓練データに利用していないデータでモデルの損失を計算することで、過学習がどうかを見分けることができるようになります。）\n",
        "\n",
        "前のセクションでは、訓練ループのためにデータを使うだけでした。実際には、モデルが過学習していないかを判断するために「Validation set」も作成する必要があります。\n",
        "\n",
        "バッチと過学習の相関関係を防ぐために、データをシャッフルすることも重要です。一方で、検証セット（validation set）のシャッフルをしても、モデルから出力される損失は同じになるので、意味がありません。\n",
        "\n",
        "検証セット（validation set）には、トレーニングセットの2倍のバッチサイズを使用します。これは、検証セットがバックプロパゲーションを必要としないため、メモリ消費が少ないためです（勾配計算を保存する必要はありません）。これを利用して、より大きなバッチサイズを使用し、損失をより迅速に計算します。\n",
        "\n",
        "・訓練データ：データをシャッフル\n",
        "\n",
        "・検証データ：データをシャッフルしない、バッチサイズ２倍、勾配計算なし\n",
        "\n"
      ]
    },
    {
      "cell_type": "code",
      "metadata": {
        "id": "4hgWQQaNCS9S",
        "colab_type": "code",
        "colab": {}
      },
      "source": [
        "#訓練データ\n",
        "train_ds = TensorDataset(x_train, y_train)\n",
        "train_dl = DataLoader(train_ds, batch_size=bs, shuffle=True)\n",
        "\n",
        "#検証データ\n",
        "valid_ds = TensorDataset(x_valid, y_valid)\n",
        "valid_dl = DataLoader(valid_ds, batch_size=bs * 2)"
      ],
      "execution_count": null,
      "outputs": []
    },
    {
      "cell_type": "markdown",
      "metadata": {
        "id": "Hc6XSZ4IDtyk",
        "colab_type": "text"
      },
      "source": [
        "各エポックの終わりに検証データでの損失を計算し、表示します。\n",
        "\n",
        "トレーニングの前に常にmodel.train（）を呼び出し、推論の前にmodel.eval（）を呼び出すことに注意してください。これらはnn.BatchNorm2dやnn.Dropoutなどのレイヤーによって使用され、これらの異なるフェーズに対する適切な動作を保証します。"
      ]
    },
    {
      "cell_type": "code",
      "metadata": {
        "id": "pjdS1ry9D-5l",
        "colab_type": "code",
        "colab": {
          "base_uri": "https://localhost:8080/",
          "height": 85
        },
        "outputId": "9017445c-1b74-4808-a5df-53548e36f026"
      },
      "source": [
        "model, opt = get_model()\n",
        "\n",
        "#現在２エポックで検証中\n",
        "for epoch in range(epochs):\n",
        "    #モデルを訓練モードに\n",
        "    model.train()\n",
        "    for xb, yb in train_dl:\n",
        "        pred = model(xb)\n",
        "        loss = loss_func(pred, yb)\n",
        "\n",
        "        loss.backward()\n",
        "        opt.step()\n",
        "        opt.zero_grad()\n",
        "\n",
        "    #モデルを検証モードに\n",
        "    model.eval()\n",
        "    #検証データで損失を求めます。\n",
        "    with torch.no_grad():\n",
        "        valid_loss = sum(loss_func(model(xb), yb) for xb, yb in valid_dl)\n",
        "\n",
        "    #検証データでの損失の表示\n",
        "    print(str(epoch + 1) + \"エポック目\")\n",
        "    print(\"Loss：{:.4f}\" .format(valid_loss.item() / len(valid_dl)))"
      ],
      "execution_count": null,
      "outputs": [
        {
          "output_type": "stream",
          "text": [
            "1エポック目\n",
            "Loss：0.2950\n",
            "2エポック目\n",
            "Loss：0.2785\n"
          ],
          "name": "stdout"
        }
      ]
    },
    {
      "cell_type": "markdown",
      "metadata": {
        "id": "mFQCPBfaGvXe",
        "colab_type": "text"
      },
      "source": [
        "#Create fit()とget_data()"
      ]
    },
    {
      "cell_type": "markdown",
      "metadata": {
        "id": "QWGgtf_gGlVv",
        "colab_type": "text"
      },
      "source": [
        "損失計算という観点から、訓練データと検証データで２回同じことをしているので「loss_batch」という関数を作成してまとめます。"
      ]
    },
    {
      "cell_type": "code",
      "metadata": {
        "id": "ccd9PBFYEAmG",
        "colab_type": "code",
        "colab": {}
      },
      "source": [
        "def loss_batch(model, loss_func, xb, yb, opt=None):\n",
        "    loss = loss_func(model(xb), yb)\n",
        "\n",
        "    if opt is not None:\n",
        "        loss.backward()\n",
        "        opt.step()\n",
        "        opt.zero_grad()\n",
        "\n",
        "    return loss.item(), len(xb)"
      ],
      "execution_count": null,
      "outputs": []
    },
    {
      "cell_type": "markdown",
      "metadata": {
        "id": "EHzcYWMWHZ5_",
        "colab_type": "text"
      },
      "source": [
        "「opt」という引数がポイントで、トレーニングデータの損失を計算するときは、optにオプティマイザを渡します。それによって、訓練データの場合には、そのまま逆伝播、重みの更新、初期化と処理が続きますが、検証データの場合はモデルの損失計算のみを行うような関数となっています。"
      ]
    },
    {
      "cell_type": "markdown",
      "metadata": {
        "id": "PJutrk7nIBAA",
        "colab_type": "text"
      },
      "source": [
        "ここで、訓練の関数を「fit」としてまとめます。検証データで損失を計算する機能も入りました。"
      ]
    },
    {
      "cell_type": "code",
      "metadata": {
        "id": "vliY-hh6HZRq",
        "colab_type": "code",
        "colab": {}
      },
      "source": [
        "import numpy as np\n",
        "\n",
        "def fit(epochs, model, loss_func, opt, train_dl, valid_dl):\n",
        "    for epoch in range(epochs):\n",
        "        #訓練データ\n",
        "        model.train()\n",
        "        for xb, yb in train_dl:\n",
        "            #ここでloss_batch\n",
        "            loss_batch(model, loss_func, xb, yb, opt)\n",
        "\n",
        "        #検証データ\n",
        "        model.eval()\n",
        "        with torch.no_grad():\n",
        "            losses, nums = zip(\n",
        "                #ここでloss_batch\n",
        "                #アスタリスク：unpack リスト内包表記：[式 for in]\n",
        "                *[loss_batch(model, loss_func, xb, yb) for xb, yb in valid_dl]\n",
        "            )\n",
        "        val_loss = np.sum(np.multiply(losses, nums)) / np.sum(nums)\n",
        "\n",
        "        print(str(epoch + 1) + \"エポック目\")\n",
        "        print(\"Loss：{:.4f}\" .format(val_loss))"
      ],
      "execution_count": null,
      "outputs": []
    },
    {
      "cell_type": "markdown",
      "metadata": {
        "id": "fWs5stDDJvLz",
        "colab_type": "text"
      },
      "source": [
        "検証データの損失計算部分はわかりにくいです。まずは、loss_batch周りがどのようなデータを吐き出しているかを確認してみます。ここでは、Python3の「リスト内包表記」という方法でloss_batchを回しています。リスト内包表記では、式　＋　forループという書き方をします。そこで、最終的に以下のプログラムで表示するデータが得られます。リストの中に、loss_batchの返り値２つが並んでいる形です。\n",
        "\n",
        "リスト形式で保存されているので、値としてloss_batchの答えを1組づつを取り出すため、アスタリスクでアンパックを行います。そして最後にzip関数で1組ごとに取り出してlossesには損失値を、numsにはデータ数を入れていきます。"
      ]
    },
    {
      "cell_type": "code",
      "metadata": {
        "id": "cC37sG-pJgZ9",
        "colab_type": "code",
        "colab": {
          "base_uri": "https://localhost:8080/",
          "height": 88
        },
        "outputId": "21f34a91-431a-43ee-d2fa-3ea2bf02c938"
      },
      "source": [
        "#リスト内包表記で出力されるデータ\n",
        "print([loss_batch(model, loss_func, xb, yb) for xb, yb in valid_dl])\n",
        "\n",
        "losses_test, nums_test = zip(\n",
        "                *[loss_batch(model, loss_func, xb, yb) for xb, yb in valid_dl]\n",
        "            )\n",
        "\n",
        "#lossesに格納されるデータ\n",
        "print(losses_test)\n",
        "#numsに格納されるデータ\n",
        "print(nums_test)"
      ],
      "execution_count": null,
      "outputs": [
        {
          "output_type": "stream",
          "text": [
            "[(0.30248913168907166, 128), (0.4359905421733856, 128), (0.46118608117103577, 128), (0.43608739972114563, 128), (0.5143918991088867, 128), (0.2649153172969818, 128), (0.23582731187343597, 128), (0.14742805063724518, 128), (0.1691281646490097, 128), (0.3396688401699066, 128), (0.2540515065193176, 128), (0.22108709812164307, 128), (0.2086421400308609, 128), (0.3128027021884918, 128), (0.17792898416519165, 128), (0.4050435423851013, 128), (0.5714041590690613, 128), (0.33601051568984985, 128), (0.37412694096565247, 128), (0.18012578785419464, 128), (0.31404775381088257, 128), (0.4030842185020447, 128), (0.6009613871574402, 128), (0.5017997622489929, 128), (0.26975366473197937, 128), (0.24492301046848297, 128), (0.06712604314088821, 128), (0.41023939847946167, 128), (0.3157550096511841, 128), (0.2340921014547348, 128), (0.3482358157634735, 128), (0.44842538237571716, 128), (0.30860665440559387, 128), (0.1631796658039093, 128), (0.30612605810165405, 128), (0.4038170278072357, 128), (0.15194150805473328, 128), (0.2542230486869812, 128), (0.5178765654563904, 128), (0.266936331987381, 128), (0.28455913066864014, 128), (0.31769633293151855, 128), (0.20526111125946045, 128), (0.2394813597202301, 128), (0.28271484375, 128), (0.241848886013031, 128), (0.2264915406703949, 128), (0.1847507804632187, 128), (0.287993848323822, 128), (0.25236284732818604, 128), (0.3865123689174652, 128), (0.2805025279521942, 128), (0.15396322309970856, 128), (0.19009165465831757, 128), (0.2520873546600342, 128), (0.22703677415847778, 128), (0.21483181416988373, 128), (0.2690582871437073, 128), (0.2842126488685608, 128), (0.37891003489494324, 128), (0.36828291416168213, 128), (0.20321397483348846, 128), (0.2007851004600525, 128), (0.18567119538784027, 128), (0.14979901909828186, 128), (0.14839328825473785, 128), (0.13199414312839508, 128), (0.18243643641471863, 128), (0.20757266879081726, 128), (0.1476956158876419, 128), (0.07064082473516464, 128), (0.07772151380777359, 128), (0.30831247568130493, 128), (0.4474236071109772, 128), (0.08905694633722305, 128), (0.43974769115448, 128), (0.29917988181114197, 128), (0.22917717695236206, 128), (0.07141268253326416, 16)]\n",
            "(0.30248913168907166, 0.4359905421733856, 0.46118608117103577, 0.43608739972114563, 0.5143918991088867, 0.2649153172969818, 0.23582731187343597, 0.14742805063724518, 0.1691281646490097, 0.3396688401699066, 0.2540515065193176, 0.22108709812164307, 0.2086421400308609, 0.3128027021884918, 0.17792898416519165, 0.4050435423851013, 0.5714041590690613, 0.33601051568984985, 0.37412694096565247, 0.18012578785419464, 0.31404775381088257, 0.4030842185020447, 0.6009613871574402, 0.5017997622489929, 0.26975366473197937, 0.24492301046848297, 0.06712604314088821, 0.41023939847946167, 0.3157550096511841, 0.2340921014547348, 0.3482358157634735, 0.44842538237571716, 0.30860665440559387, 0.1631796658039093, 0.30612605810165405, 0.4038170278072357, 0.15194150805473328, 0.2542230486869812, 0.5178765654563904, 0.266936331987381, 0.28455913066864014, 0.31769633293151855, 0.20526111125946045, 0.2394813597202301, 0.28271484375, 0.241848886013031, 0.2264915406703949, 0.1847507804632187, 0.287993848323822, 0.25236284732818604, 0.3865123689174652, 0.2805025279521942, 0.15396322309970856, 0.19009165465831757, 0.2520873546600342, 0.22703677415847778, 0.21483181416988373, 0.2690582871437073, 0.2842126488685608, 0.37891003489494324, 0.36828291416168213, 0.20321397483348846, 0.2007851004600525, 0.18567119538784027, 0.14979901909828186, 0.14839328825473785, 0.13199414312839508, 0.18243643641471863, 0.20757266879081726, 0.1476956158876419, 0.07064082473516464, 0.07772151380777359, 0.30831247568130493, 0.4474236071109772, 0.08905694633722305, 0.43974769115448, 0.29917988181114197, 0.22917717695236206, 0.07141268253326416)\n",
            "(128, 128, 128, 128, 128, 128, 128, 128, 128, 128, 128, 128, 128, 128, 128, 128, 128, 128, 128, 128, 128, 128, 128, 128, 128, 128, 128, 128, 128, 128, 128, 128, 128, 128, 128, 128, 128, 128, 128, 128, 128, 128, 128, 128, 128, 128, 128, 128, 128, 128, 128, 128, 128, 128, 128, 128, 128, 128, 128, 128, 128, 128, 128, 128, 128, 128, 128, 128, 128, 128, 128, 128, 128, 128, 128, 128, 128, 128, 16)\n"
          ],
          "name": "stdout"
        }
      ]
    },
    {
      "cell_type": "markdown",
      "metadata": {
        "id": "6MWq1bVcME6c",
        "colab_type": "text"
      },
      "source": [
        "トレーニングセットと検証セットのデータローダーをまとめて返す「get_data」関数も定義します。"
      ]
    },
    {
      "cell_type": "code",
      "metadata": {
        "id": "C9DsUwsXJl87",
        "colab_type": "code",
        "colab": {}
      },
      "source": [
        "def get_data(train_ds, valid_ds, bs):\n",
        "    return (\n",
        "        DataLoader(train_ds, batch_size=bs, shuffle=True),\n",
        "        DataLoader(valid_ds, batch_size=bs * 2),\n",
        "    )"
      ],
      "execution_count": null,
      "outputs": []
    },
    {
      "cell_type": "markdown",
      "metadata": {
        "id": "cYhx0WXPNGdr",
        "colab_type": "text"
      },
      "source": [
        "これで、データローダーを取得して、モデルを訓練させる流れを３行で記載できるようになりました。"
      ]
    },
    {
      "cell_type": "code",
      "metadata": {
        "id": "nQteiybENBb-",
        "colab_type": "code",
        "colab": {
          "base_uri": "https://localhost:8080/",
          "height": 85
        },
        "outputId": "664e97c3-7b37-4f95-c9ee-f3f874f496a8"
      },
      "source": [
        "train_dl, valid_dl = get_data(train_ds, valid_ds, bs)\n",
        "model, opt = get_model()\n",
        "fit(epochs, model, loss_func, opt, train_dl, valid_dl)"
      ],
      "execution_count": null,
      "outputs": [
        {
          "output_type": "stream",
          "text": [
            "1エポック目\n",
            "Loss：0.3395\n",
            "2エポック目\n",
            "Loss：0.2940\n"
          ],
          "name": "stdout"
        }
      ]
    },
    {
      "cell_type": "markdown",
      "metadata": {
        "id": "VM-a4hCUN81U",
        "colab_type": "text"
      },
      "source": [
        "#CNNへの切り替え"
      ]
    },
    {
      "cell_type": "markdown",
      "metadata": {
        "id": "wEPz9CmdXit4",
        "colab_type": "text"
      },
      "source": [
        "次に、３つの畳み込み層をもつニューラルネットワークを作成します。\n",
        "\n",
        "畳み込み層としてPyTorchにあらかじめ定義してある「Conv2d」クラスを利用します。これから作成する畳み込み層は３層とします。それぞれの畳み込み層は、活性化関数「ReLU」を通ります。そして、最後に「アベレージプーリング」を行います。（PyTorchの「view」はnumpyでいう「reshape」メソッドです。"
      ]
    },
    {
      "cell_type": "code",
      "metadata": {
        "id": "eHeAHYQKNRMd",
        "colab_type": "code",
        "colab": {}
      },
      "source": [
        "#畳み込みニューラルネットワークのモデル定義\n",
        "class Mnist_CNN(nn.Module):\n",
        "    def __init__(self):\n",
        "        super().__init__()\n",
        "        self.conv1 = nn.Conv2d(1, 16, kernel_size=3, stride=2, padding=1)\n",
        "        self.conv2 = nn.Conv2d(16, 16, kernel_size=3, stride=2, padding=1)\n",
        "        self.conv3 = nn.Conv2d(16, 10, kernel_size=3, stride=2, padding=1)\n",
        "\n",
        "    def forward(self, xb):\n",
        "        xb = xb.view(-1, 1, 28, 28)\n",
        "        xb = F.relu(self.conv1(xb))\n",
        "        xb = F.relu(self.conv2(xb))\n",
        "        xb = F.relu(self.conv3(xb))\n",
        "        xb = F.avg_pool2d(xb, 4)\n",
        "        #print(xb.shape) →[64,10,1,1]\n",
        "        return xb.view(-1, xb.size(1))#print(xb.view(-1, xb.size(1)).shape)→[64,10]\n",
        "\n",
        "#学習率を変数「lr」に格納\n",
        "lr = 0.1"
      ],
      "execution_count": null,
      "outputs": []
    },
    {
      "cell_type": "markdown",
      "metadata": {
        "id": "zCaAUAkhZffL",
        "colab_type": "text"
      },
      "source": [
        "次に、モデルをインスタンス化して、オプティマイザを作成、訓練のfit関数を実行します。\n",
        "\n",
        "勾配降下法（SGD）の「momentum」パラメータを設定しています。このパラメータを設定すると、前回の重みに「momentum」倍して加算するというMomentumSGDと呼ばれる方法になります。一般的に、訓練が早くなるようです。今回のチュートリアルでは「momentum」を0.9としたSGDを利用するようです。"
      ]
    },
    {
      "cell_type": "code",
      "metadata": {
        "id": "q4I_ABWHZe-1",
        "colab_type": "code",
        "colab": {
          "base_uri": "https://localhost:8080/",
          "height": 85
        },
        "outputId": "11282d8d-7c54-41b7-8f30-ffddd236a07e"
      },
      "source": [
        "model = Mnist_CNN()\n",
        "opt = optim.SGD(model.parameters(), lr=lr, momentum=0.9)\n",
        "\n",
        "fit(epochs, model, loss_func, opt, train_dl, valid_dl)"
      ],
      "execution_count": null,
      "outputs": [
        {
          "output_type": "stream",
          "text": [
            "1エポック目\n",
            "Loss：0.3743\n",
            "2エポック目\n",
            "Loss：0.2369\n"
          ],
          "name": "stdout"
        }
      ]
    },
    {
      "cell_type": "markdown",
      "metadata": {
        "id": "Hg8z5HY-bHdK",
        "colab_type": "text"
      },
      "source": [
        "#nn.Sequential\n",
        "\n",
        "\n",
        "torch.nnには、コードを単純化するために使用できる「sequential」という便利なクラスがあります。\n",
        "Sequentialオブジェクトは、その中に含まれる各モジュールを順次実行します。\n",
        "これは、ニューラルネットワークを記述する最も簡単な方法です。\n",
        "\n",
        "また、特定の関数からカスタムレイヤーを簡単に定義できます。\n",
        "たとえば、PyTorchにはビューレイヤーがないため、ネットワーク用にビューレイヤーを作成する必要があります。 Lambdaは、Sequentialでネットワークを定義するときに使用できるレイヤーを作成します。\n",
        "（Lambdaクラスを利用して次のようにSequentialでのオリジナルの層が定義できます。）"
      ]
    },
    {
      "cell_type": "code",
      "metadata": {
        "id": "dPQptz2zhZBu",
        "colab_type": "code",
        "colab": {}
      },
      "source": [
        "#LambdaでSequentialに与える空の層を定義する。\n",
        "class Lambda(nn.Module):\n",
        "    def __init__(self, func):\n",
        "        super().__init__()\n",
        "        self.func = func\n",
        "\n",
        "    def forward(self, x):\n",
        "        return self.func(x)\n",
        "\n",
        "#実際に層の中で行う動作を関数として記載、Lambdaクラスの入力となる。\n",
        "def preprocess(x):\n",
        "    return x.view(-1, 1, 28, 28)"
      ],
      "execution_count": null,
      "outputs": []
    },
    {
      "cell_type": "markdown",
      "metadata": {
        "id": "tRmIsPNphf11",
        "colab_type": "text"
      },
      "source": [
        "ビューレイヤー、データを「view」で変換するような層をnn.Moduleを継承したLambdaというクラスで作成しています。また、「preprocess」という関数でviewメソッドを呼び出し、画像データの形式へと変換を行なっています。（ここでは４階のテンソルの形式に変換）"
      ]
    },
    {
      "cell_type": "code",
      "metadata": {
        "id": "K1mk1ROQheKF",
        "colab_type": "code",
        "colab": {
          "base_uri": "https://localhost:8080/",
          "height": 85
        },
        "outputId": "0a865097-fa05-4c3b-ef89-b9d82f7165d5"
      },
      "source": [
        "#Sequentialで畳み込みニューラルネットワークモデルを定義\n",
        "model = nn.Sequential(\n",
        "    #先ほど定義したLambdaクラスにpreprocessメソッドで入力することで層のように振る舞う\n",
        "    #Lambda①\n",
        "    Lambda(preprocess),\n",
        "    nn.Conv2d(1, 16, kernel_size=3, stride=2, padding=1),\n",
        "    nn.ReLU(),\n",
        "    nn.Conv2d(16, 16, kernel_size=3, stride=2, padding=1),\n",
        "    nn.ReLU(),\n",
        "    nn.Conv2d(16, 10, kernel_size=3, stride=2, padding=1),\n",
        "    nn.ReLU(),\n",
        "    nn.AvgPool2d(4),\n",
        "    #Lambda②\n",
        "    Lambda(lambda x: x.view(x.size(0), -1)),\n",
        ")\n",
        "\n",
        "opt = optim.SGD(model.parameters(), lr=lr, momentum=0.9)\n",
        "\n",
        "fit(epochs, model, loss_func, opt, train_dl, valid_dl)"
      ],
      "execution_count": null,
      "outputs": [
        {
          "output_type": "stream",
          "text": [
            "1エポック目\n",
            "Loss：0.3142\n",
            "2エポック目\n",
            "Loss：0.2261\n"
          ],
          "name": "stdout"
        }
      ]
    },
    {
      "cell_type": "markdown",
      "metadata": {
        "id": "oJ0jhYM0i4om",
        "colab_type": "text"
      },
      "source": [
        "Sequentialは、層の流れと処理の流れがそのまま記載されているので直感的に理解しやすい形になっています。\n",
        "\n",
        "Lambdaについてもう少し考えてみます。\n",
        "\n",
        "定義したLambdaクラスはSequentialでモデルを定義する際に、先のプログラムのように利用します。Sequentialの一番最初のデータ変換として利用しています(Lambda①)。また、出力時にテンソルの形状を変更するのにも利用しています（Lambda②）。\n",
        "\n",
        "Lambda②のように関数として定義していなくても、Pythonの関数である「lambda関数」を利用してLambdaクラスの引数として入力することも可能です。\n",
        "\n",
        "Lambdaクラスで層を作成するイメージは、\n",
        "\n",
        "①Sequentialに層として与えるための空の層をLambdaクラスで作成\n",
        "\n",
        "②Lambdaクラスに引数として関数を与えることでオリジナルの動作をする\n",
        "\n",
        "といった感じでしょうか。\n",
        "\n",
        "Sequentialの項目というよりは、SequentialでのLambdaクラスの使い方といった内容になりました。"
      ]
    },
    {
      "cell_type": "markdown",
      "metadata": {
        "id": "x1Fp-SWJshsZ",
        "colab_type": "text"
      },
      "source": [
        "#DataLoaderのラッピング\n",
        "\n",
        "今まで作成してきたCNNは簡潔にできていますが、MNISTデータでのみうまく機能します。\n",
        "その原因としては\n",
        "\n",
        "・入力を28×28のデータであると想定\n",
        "\n",
        "・最後の「Average Pooling」のカーネルサイズが4×4である\n",
        "\n",
        "これらを仮定しているため、MNIST画像データに特化しているといえます。\n",
        "\n",
        "このような仮定を取り除き、１チャンネルの２次元画像で機能するようなモデルに変更していきます。\n",
        "\n",
        "まずは、最初のLambdaレイヤーを取り除き、ここで行っていたデータの前処理を「ジェネレータ」\n",
        "\n"
      ]
    },
    {
      "cell_type": "code",
      "metadata": {
        "id": "LBV5rToD0HZY",
        "colab_type": "code",
        "colab": {}
      },
      "source": [
        "def preprocess(x, y):\n",
        "    return x.view(-1, 1, 28, 28), y\n",
        "\n",
        "\n",
        "class WrappedDataLoader:\n",
        "    def __init__(self, dl, func):\n",
        "        self.dl = dl\n",
        "        self.func = func\n",
        "\n",
        "    def __len__(self):\n",
        "        return len(self.dl)\n",
        "\n",
        "    def __iter__(self):\n",
        "        batches = iter(self.dl)\n",
        "        for b in batches:\n",
        "            yield (self.func(*b))\n",
        "\n",
        "train_dl, valid_dl = get_data(train_ds, valid_ds, bs)\n",
        "train_dl = WrappedDataLoader(train_dl, preprocess)\n",
        "valid_dl = WrappedDataLoader(valid_dl, preprocess)"
      ],
      "execution_count": null,
      "outputs": []
    },
    {
      "cell_type": "markdown",
      "metadata": {
        "id": "T4wmIuXF02OR",
        "colab_type": "text"
      },
      "source": [
        "次に、nn.AvgPool2dをnn.AdaptiveAvgPool2dで置き換えます。これにより、入力テンソルではなく、必要な出力テンソルのサイズを定義できます。その結果、モデルは任意のサイズの入力で機能します。"
      ]
    },
    {
      "cell_type": "code",
      "metadata": {
        "id": "o3MeQhDi1equ",
        "colab_type": "code",
        "colab": {}
      },
      "source": [
        "model = nn.Sequential(\n",
        "    nn.Conv2d(1, 16, kernel_size=3, stride=2, padding=1),\n",
        "    nn.ReLU(),\n",
        "    nn.Conv2d(16, 16, kernel_size=3, stride=2, padding=1),\n",
        "    nn.ReLU(),\n",
        "    nn.Conv2d(16, 10, kernel_size=3, stride=2, padding=1),\n",
        "    nn.ReLU(),\n",
        "    nn.AdaptiveAvgPool2d(1),\n",
        "    Lambda(lambda x: x.view(x.size(0), -1)),\n",
        ")\n",
        "\n",
        "opt = optim.SGD(model.parameters(), lr=lr, momentum=0.9)"
      ],
      "execution_count": null,
      "outputs": []
    },
    {
      "cell_type": "markdown",
      "metadata": {
        "id": "QqtTSeY-OkQA",
        "colab_type": "text"
      },
      "source": [
        ""
      ]
    },
    {
      "cell_type": "code",
      "metadata": {
        "id": "_eSejugD1e_g",
        "colab_type": "code",
        "colab": {
          "base_uri": "https://localhost:8080/",
          "height": 85
        },
        "outputId": "2698cd90-440f-47b0-c2ef-c253d9c21589"
      },
      "source": [
        "fit(epochs, model, loss_func, opt, train_dl, valid_dl)"
      ],
      "execution_count": null,
      "outputs": [
        {
          "output_type": "stream",
          "text": [
            "1エポック目\n",
            "Loss：0.1890\n",
            "2エポック目\n",
            "Loss：0.1732\n"
          ],
          "name": "stdout"
        }
      ]
    },
    {
      "cell_type": "markdown",
      "metadata": {
        "id": "0bIXbZ90RYd3",
        "colab_type": "text"
      },
      "source": [
        "#GPUを使う"
      ]
    },
    {
      "cell_type": "markdown",
      "metadata": {
        "id": "U3K6Vj1XRs2n",
        "colab_type": "text"
      },
      "source": [
        "CUDA対応のGPUが利用できる環境であれば、GPUを利用して、より早く演算ができるようになります。\n",
        "まずは、CUDAが利用できるかを確認します。\n",
        "\n",
        "Google Colaboの場合は、「ランタイム」->「ランタイムのタイプの変更」->「ハードウェアアクセラレータ」をGPUに変更しておきます。"
      ]
    },
    {
      "cell_type": "code",
      "metadata": {
        "id": "Op3BvH3I1hcV",
        "colab_type": "code",
        "colab": {
          "base_uri": "https://localhost:8080/",
          "height": 34
        },
        "outputId": "84faa44a-073c-49d8-d078-5558184ce287"
      },
      "source": [
        "print(torch.cuda.is_available())"
      ],
      "execution_count": null,
      "outputs": [
        {
          "output_type": "stream",
          "text": [
            "True\n"
          ],
          "name": "stdout"
        }
      ]
    },
    {
      "cell_type": "markdown",
      "metadata": {
        "id": "prTIAJ3LR_Ld",
        "colab_type": "text"
      },
      "source": [
        "次に、「デバイスオブジェクト」を作成します。"
      ]
    },
    {
      "cell_type": "code",
      "metadata": {
        "id": "soTh3bb6Rc7O",
        "colab_type": "code",
        "colab": {}
      },
      "source": [
        "dev = torch.device(\n",
        "    \"cuda\") if torch.cuda.is_available() else torch.device(\"cpu\")"
      ],
      "execution_count": null,
      "outputs": []
    },
    {
      "cell_type": "markdown",
      "metadata": {
        "id": "iOqVO_-mSYKd",
        "colab_type": "text"
      },
      "source": [
        "次に、バッチのデータをGPUへ移動させるため、「preprocess」関数でデータをGPUへ移動させるように書き換えます。"
      ]
    },
    {
      "cell_type": "code",
      "metadata": {
        "id": "venulWI4SRLX",
        "colab_type": "code",
        "colab": {}
      },
      "source": [
        "def preprocess(x, y):\n",
        "    return x.view(-1, 1, 28, 28).to(dev), y.to(dev)\n",
        "\n",
        "\n",
        "train_dl, valid_dl = get_data(train_ds, valid_ds, bs)\n",
        "train_dl = WrappedDataLoader(train_dl, preprocess)\n",
        "valid_dl = WrappedDataLoader(valid_dl, preprocess)"
      ],
      "execution_count": null,
      "outputs": []
    },
    {
      "cell_type": "markdown",
      "metadata": {
        "id": "5vfiOObYSqjH",
        "colab_type": "text"
      },
      "source": [
        "モデルもGPUを指定しておきます。これで、GPUで動作させる準備が整いました。"
      ]
    },
    {
      "cell_type": "code",
      "metadata": {
        "id": "dWDd_kyQSmh3",
        "colab_type": "code",
        "colab": {}
      },
      "source": [
        "model.to(dev)\n",
        "opt = optim.SGD(model.parameters(), lr=lr, momentum=0.9)"
      ],
      "execution_count": null,
      "outputs": []
    },
    {
      "cell_type": "markdown",
      "metadata": {
        "id": "E3Hrer2DS9dH",
        "colab_type": "text"
      },
      "source": [
        "訓練を実行してみると、前より早く訓練が行われるのがわかります。"
      ]
    },
    {
      "cell_type": "code",
      "metadata": {
        "id": "DO5FdzBCSzwd",
        "colab_type": "code",
        "colab": {
          "base_uri": "https://localhost:8080/",
          "height": 85
        },
        "outputId": "328063f6-dc86-445c-925f-a020eedeaf0e"
      },
      "source": [
        "fit(epochs, model, loss_func, opt, train_dl, valid_dl)"
      ],
      "execution_count": null,
      "outputs": [
        {
          "output_type": "stream",
          "text": [
            "1エポック目\n",
            "Loss：0.1591\n",
            "2エポック目\n",
            "Loss：0.1912\n"
          ],
          "name": "stdout"
        }
      ]
    },
    {
      "cell_type": "markdown",
      "metadata": {
        "id": "l2FDeKMATcE_",
        "colab_type": "text"
      },
      "source": [
        "#まとめ\n",
        "\n",
        "これで、Pytorchを使用して多くのタイプのモデルをトレーニングするために使用できる一般的なデータパイプラインとトレーニングループができました。\n",
        "\n",
        "チュートリアルでは、基本的な内容のみで、さらに「データ拡張、ハイパーパラメータ調整、モニタリングト​​レーニング、転移学習」など、追加したいことがたくさんあります。これらの機能はfastaiライブラリで利用できます。\n",
        "\n",
        "torch.nn\n",
        " Modules：関数のように動作する呼び出し可能オブジェクトを作成し、状態（ニューラルネットの層の重みなどを含めることもできます。重みの勾配を０にしたり、パラメータの更新のためのループしたりできます。\n",
        " \n",
        " Parameter:バックプロップ中に更新が必要な重みがあることをモジュールに通知するテンソルのラッパー。 require_grad属性が設定されたテンソルのみが更新されます。\n",
        "\n",
        " Functional：活性化関数、損失関数など、および畳み込み層や線形層などの非ステートフルバージョンの層を含むモジュールです。通常は慣例によりF名前空間にインポートされます。\n",
        "\n",
        "torch.optim：SGDなどのオプティマイザーが含まれ、バックワードステップ中にパラメーターの重みを更新します\n",
        "\n",
        "\n",
        "Dataset：TensorDatasetなどのPytorchで提供されるクラスを含む、__ len__および__getitem__を持つオブジェクトの抽象インターフェースです。\n",
        "\n",
        "\n",
        "DataLoader：任意のデータセットを受け取り、データのバッチを返すイテレータを作成します。\n"
      ]
    }
  ]
}