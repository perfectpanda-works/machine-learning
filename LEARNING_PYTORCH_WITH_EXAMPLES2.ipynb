{
  "nbformat": 4,
  "nbformat_minor": 0,
  "metadata": {
    "colab": {
      "name": "LEARNING PYTORCH WITH EXAMPLES2.ipynb",
      "provenance": [],
      "collapsed_sections": [],
      "authorship_tag": "ABX9TyMBoeoz8L9n2A67hP8v+kdP",
      "include_colab_link": true
    },
    "kernelspec": {
      "name": "python3",
      "display_name": "Python 3"
    },
    "accelerator": "GPU"
  },
  "cells": [
    {
      "cell_type": "markdown",
      "metadata": {
        "id": "view-in-github",
        "colab_type": "text"
      },
      "source": [
        "<a href=\"https://colab.research.google.com/github/perfectpanda-works/machine-learning/blob/master/LEARNING_PYTORCH_WITH_EXAMPLES2.ipynb\" target=\"_parent\"><img src=\"https://colab.research.google.com/assets/colab-badge.svg\" alt=\"Open In Colab\"/></a>"
      ]
    },
    {
      "cell_type": "code",
      "metadata": {
        "id": "6mc_RCydS1FM",
        "colab_type": "code",
        "colab": {
          "base_uri": "https://localhost:8080/",
          "height": 34
        },
        "outputId": "1a63e6b3-d51b-40dd-8798-57a6045e1312"
      },
      "source": [
        "# -*- coding: utf-8 -*-\n",
        "import torch\n",
        "\n",
        "dtype = torch.float\n",
        "#device = torch.device(\"cpu\")\n",
        "#ColaboでGPUを利用する場合、「ランタイム」->「ランタイムのタイプの変更」->「ハードウェアアクセラレータ」をGPUに変更\n",
        "device = torch.device(\"cuda:0\") # Uncomment this to run on GPU\n",
        "\n",
        "#ここで「cuda:0」とでるとGPU利用、「CPU」とでるとCPUで動作している。\n",
        "print(device)"
      ],
      "execution_count": null,
      "outputs": [
        {
          "output_type": "stream",
          "text": [
            "cuda:0\n"
          ],
          "name": "stdout"
        }
      ]
    },
    {
      "cell_type": "code",
      "metadata": {
        "id": "AlCcf89xMuCK",
        "colab_type": "code",
        "colab": {
          "base_uri": "https://localhost:8080/",
          "height": 102
        },
        "outputId": "6975e289-ee7c-4ebb-eb8d-0e9b7b3cfc9b"
      },
      "source": [
        "# N  　：バッチサイズ\n",
        "# D_in ：入力次元数\n",
        "# H　　：隠れ層の次元数\n",
        "# D_out：出力次元数\n",
        "N, D_in, H, D_out = 64, 1000, 100, 10\n",
        "\n",
        "# ランダムな入力データと出力データの作成\n",
        "x = torch.randn(N, D_in, device=device, dtype=dtype)\n",
        "y = torch.randn(N, D_out, device=device, dtype=dtype)\n",
        "\n",
        "# 重みをランダムに初期化\n",
        "w1 = torch.randn(D_in, H, device=device, dtype=dtype)\n",
        "w2 = torch.randn(H, D_out, device=device, dtype=dtype)\n",
        "\n",
        "#損失記録用のリスト\n",
        "loss_list = []\n",
        "\n",
        "#学習率 0.000001\n",
        "learning_rate = 1e-6\n",
        "for t in range(500):\n",
        "    #①順伝播（yを予測するフェーズ）\n",
        "    #重みw1とxの掛け算（行列の掛け算）\n",
        "    h = x.mm(w1)\n",
        "    #活性化関数reluを適用\n",
        "    h_relu = h.clamp(min=0)\n",
        "    #中間層の出力にw2の重みを掛け算して予測出力を得る\n",
        "    y_pred = h_relu.mm(w2)\n",
        "\n",
        "    #二乗誤差の計算と、誤差の表示\n",
        "    loss = (y_pred - y).pow(2).sum().item()\n",
        "    loss_list.append(loss)\n",
        "    if t % 100 == 99:\n",
        "        print(t, loss)\n",
        "\n",
        "    #逆伝播：w2とw1の勾配を計算する。\n",
        "    grad_y_pred = 2.0 * (y_pred - y)\n",
        "    grad_w2 = h_relu.t().mm(grad_y_pred)\n",
        "    grad_h_relu = grad_y_pred.mm(w2.t())\n",
        "    grad_h = grad_h_relu.clone()\n",
        "    grad_h[h < 0] = 0\n",
        "    grad_w1 = x.t().mm(grad_h)\n",
        "\n",
        "    #重みの更新(確率的勾配効果法)\n",
        "    w1 -= learning_rate * grad_w1\n",
        "    w2 -= learning_rate * grad_w2"
      ],
      "execution_count": null,
      "outputs": [
        {
          "output_type": "stream",
          "text": [
            "99 593.8939208984375\n",
            "199 3.438877582550049\n",
            "299 0.034401785582304\n",
            "399 0.000703345809597522\n",
            "499 8.761504432186484e-05\n"
          ],
          "name": "stdout"
        }
      ]
    },
    {
      "cell_type": "code",
      "metadata": {
        "id": "godhHowbSnkx",
        "colab_type": "code",
        "colab": {
          "base_uri": "https://localhost:8080/",
          "height": 307
        },
        "outputId": "17072635-ba23-4ce7-fc6a-1195641a3ae8"
      },
      "source": [
        "import matplotlib.pyplot as plt\n",
        "\n",
        "plt.xlabel(\"train num\")\n",
        "plt.ylabel(\"loss\")\n",
        "plt.plot(range(500),loss_list)"
      ],
      "execution_count": null,
      "outputs": [
        {
          "output_type": "execute_result",
          "data": {
            "text/plain": [
              "[<matplotlib.lines.Line2D at 0x7fc848b50198>]"
            ]
          },
          "metadata": {
            "tags": []
          },
          "execution_count": 7
        },
        {
          "output_type": "display_data",
          "data": {
            "image/png": "[encoded data removed]",
            "text/plain": [
              "<Figure size 432x288 with 1 Axes>"
            ]
          },
          "metadata": {
            "tags": [],
            "needs_background": "light"
          }
        }
      ]
    },
    {
      "cell_type": "code",
      "metadata": {
        "id": "XVsf5mlfUWro",
        "colab_type": "code",
        "colab": {}
      },
      "source": [
        ""
      ],
      "execution_count": null,
      "outputs": []
    }
  ]
}