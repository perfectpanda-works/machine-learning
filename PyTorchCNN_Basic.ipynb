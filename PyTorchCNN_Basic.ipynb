{
  "nbformat": 4,
  "nbformat_minor": 0,
  "metadata": {
    "colab": {
      "name": "PyTorchCNN_Basic.ipynb",
      "provenance": [],
      "collapsed_sections": [],
      "authorship_tag": "ABX9TyMp/sxv2J1mThAhdviY+5Pl",
      "include_colab_link": true
    },
    "kernelspec": {
      "name": "python3",
      "display_name": "Python 3"
    },
    "accelerator": "GPU"
  },
  "cells": [
    {
      "cell_type": "markdown",
      "metadata": {
        "id": "view-in-github",
        "colab_type": "text"
      },
      "source": [
        "<a href=\"https://colab.research.google.com/github/perfectpanda-works/machine-learning/blob/master/PyTorchCNN_Basic.ipynb\" target=\"_parent\"><img src=\"https://colab.research.google.com/assets/colab-badge.svg\" alt=\"Open In Colab\"/></a>"
      ]
    },
    {
      "cell_type": "code",
      "metadata": {
        "id": "-P-kx9v6PcJV",
        "colab_type": "code",
        "colab": {
          "base_uri": "https://localhost:8080/",
          "height": 119
        },
        "outputId": "0911ce99-5410-4d7d-a037-e8ac75b6e30b"
      },
      "source": [
        "#CIFAR10の読みこみ\n",
        "import torch\n",
        "import torchvision\n",
        "import torchvision.transforms as transforms\n",
        "\n",
        "transform = transforms.Compose(\n",
        "    [transforms.ToTensor(),\n",
        "     transforms.Normalize((0.5, 0.5, 0.5), (0.5, 0.5, 0.5))])\n",
        "\n",
        "trainset = torchvision.datasets.CIFAR10(root='./data', train=True,\n",
        "                                        download=True, transform=transform)\n",
        "trainloader = torch.utils.data.DataLoader(trainset, batch_size=4,\n",
        "                                          shuffle=True, num_workers=2)\n",
        "\n",
        "testset = torchvision.datasets.CIFAR10(root='./data', train=False,\n",
        "                                       download=True, transform=transform)\n",
        "testloader = torch.utils.data.DataLoader(testset, batch_size=4,\n",
        "                                         shuffle=False, num_workers=2)\n",
        "\n",
        "classes = ('plane', 'car', 'bird', 'cat',\n",
        "           'deer', 'dog', 'frog', 'horse', 'ship', 'truck')"
      ],
      "execution_count": 4,
      "outputs": [
        {
          "output_type": "stream",
          "text": [
            "Files already downloaded and verified\n",
            "Files already downloaded and verified\n",
            "訓練データの数\n",
            "50000\n",
            "テストデータの数\n",
            "10000\n"
          ],
          "name": "stdout"
        }
      ]
    },
    {
      "cell_type": "code",
      "metadata": {
        "id": "ctMtxDWvP2ez",
        "colab_type": "code",
        "colab": {}
      },
      "source": [
        "#畳み込みニューラルネットワークの定義\n",
        "import torch.nn as nn\n",
        "import torch.nn.functional as F\n",
        "\n",
        "class Net(nn.Module):\n",
        "    def __init__(self):\n",
        "        super(Net, self).__init__()\n",
        "        self.conv1 = nn.Conv2d(3, 6, 5)\n",
        "        self.pool = nn.MaxPool2d(2, 2)\n",
        "        self.conv2 = nn.Conv2d(6, 16, 5)\n",
        "        self.fc1 = nn.Linear(16 * 5 * 5, 120)\n",
        "        self.fc2 = nn.Linear(120, 84)\n",
        "        self.fc3 = nn.Linear(84, 10)\n",
        "\n",
        "    def forward(self, x):\n",
        "        x = self.pool(F.relu(self.conv1(x)))\n",
        "        x = self.pool(F.relu(self.conv2(x)))\n",
        "        x = x.view(-1, 16 * 5 * 5)\n",
        "        x = F.relu(self.fc1(x))\n",
        "        x = F.relu(self.fc2(x))\n",
        "        x = self.fc3(x)\n",
        "        return x\n",
        "\n",
        "net = Net()"
      ],
      "execution_count": 8,
      "outputs": []
    },
    {
      "cell_type": "code",
      "metadata": {
        "id": "pumvHCeAQBQs",
        "colab_type": "code",
        "colab": {}
      },
      "source": [
        "#損失関数の定義\n",
        "import torch.optim as optim\n",
        "\n",
        "criterion = nn.CrossEntropyLoss()\n",
        "#optimizer = optim.SGD(net.parameters(), lr=0.001, momentum=0.9)\n",
        "optimizer = optim.Adam(net.parameters(), lr=0.001)"
      ],
      "execution_count": 9,
      "outputs": []
    },
    {
      "cell_type": "code",
      "metadata": {
        "id": "hzZz5GzOQkoq",
        "colab_type": "code",
        "colab": {
          "base_uri": "https://localhost:8080/",
          "height": 170
        },
        "outputId": "80018b4c-60e2-4319-d752-ea46065f7820"
      },
      "source": [
        "#GPU化するためにはこのブロックを実行\n",
        "#ColaboのハードウェアアクセラレータもGPUに変更\n",
        "device = torch.device(\"cuda:0\" if torch.cuda.is_available() else \"cpu\")\n",
        "print(device)\n",
        "net.to(device)"
      ],
      "execution_count": 10,
      "outputs": [
        {
          "output_type": "stream",
          "text": [
            "cuda:0\n"
          ],
          "name": "stdout"
        },
        {
          "output_type": "execute_result",
          "data": {
            "text/plain": [
              "Net(\n",
              "  (conv1): Conv2d(3, 6, kernel_size=(5, 5), stride=(1, 1))\n",
              "  (pool): MaxPool2d(kernel_size=2, stride=2, padding=0, dilation=1, ceil_mode=False)\n",
              "  (conv2): Conv2d(6, 16, kernel_size=(5, 5), stride=(1, 1))\n",
              "  (fc1): Linear(in_features=400, out_features=120, bias=True)\n",
              "  (fc2): Linear(in_features=120, out_features=84, bias=True)\n",
              "  (fc3): Linear(in_features=84, out_features=10, bias=True)\n",
              ")"
            ]
          },
          "metadata": {
            "tags": []
          },
          "execution_count": 10
        }
      ]
    },
    {
      "cell_type": "code",
      "metadata": {
        "id": "9_B2QaKHQIEI",
        "colab_type": "code",
        "colab": {
          "base_uri": "https://localhost:8080/",
          "height": 1000
        },
        "outputId": "5a8fd94b-cdf1-43b3-e4c1-f96a3e183304"
      },
      "source": [
        "#訓練\n",
        "for epoch in range(2):  #チュートリアルでは2エポック訓練を行う。\n",
        "\n",
        "    running_loss = 0.0\n",
        "    #enumerateでiにリスト番号、dataに内容が入る。\n",
        "    for i, data in enumerate(trainloader, 0):\n",
        "        #data変数は[inputs, labels]のリストデータ。\n",
        "        #inputs, labels = data #CPUのとき\n",
        "        inputs, labels = data[0].to(device), data[1].to(device) #GPU\n",
        "\n",
        "        #勾配のパラメータを初期化\n",
        "        optimizer.zero_grad()\n",
        "\n",
        "        #順伝播し、逆伝播して重みを更新\n",
        "        outputs = net(inputs)\n",
        "        loss = criterion(outputs, labels)\n",
        "        loss.backward()\n",
        "        optimizer.step()\n",
        "\n",
        "        # print statistics\n",
        "        running_loss += loss.item()\n",
        "        if i % 2000 == 1999:    #ミニバッチ2000ごとに状況の表示\n",
        "            print('[%d, %5d] loss: %.3f' %\n",
        "                  (epoch + 1, i + 1, running_loss / 2000))\n",
        "            running_loss = 0.0\n",
        "        \n",
        "print('Finished Training')"
      ],
      "execution_count": 15,
      "outputs": [
        {
          "output_type": "stream",
          "text": [
            "[1,  2000] loss: 0.942\n",
            "[1,  4000] loss: 0.943\n",
            "[1,  6000] loss: 0.967\n",
            "[1,  8000] loss: 0.947\n",
            "[1, 10000] loss: 0.971\n",
            "[1, 12000] loss: 1.001\n",
            "[2,  2000] loss: 0.911\n",
            "[2,  4000] loss: 0.927\n",
            "[2,  6000] loss: 0.951\n",
            "[2,  8000] loss: 0.926\n",
            "[2, 10000] loss: 0.970\n",
            "[2, 12000] loss: 0.965\n",
            "[3,  2000] loss: 0.868\n",
            "[3,  4000] loss: 0.897\n",
            "[3,  6000] loss: 0.929\n",
            "[3,  8000] loss: 0.927\n",
            "[3, 10000] loss: 0.940\n",
            "[3, 12000] loss: 0.962\n",
            "[4,  2000] loss: 0.890\n",
            "[4,  4000] loss: 0.880\n",
            "[4,  6000] loss: 0.897\n",
            "[4,  8000] loss: 0.889\n",
            "[4, 10000] loss: 0.934\n",
            "[4, 12000] loss: 0.941\n",
            "[5,  2000] loss: 0.847\n",
            "[5,  4000] loss: 0.857\n",
            "[5,  6000] loss: 0.890\n",
            "[5,  8000] loss: 0.907\n",
            "[5, 10000] loss: 0.900\n",
            "[5, 12000] loss: 0.929\n",
            "[6,  2000] loss: 0.850\n",
            "[6,  4000] loss: 0.848\n",
            "[6,  6000] loss: 0.874\n",
            "[6,  8000] loss: 0.890\n",
            "[6, 10000] loss: 0.901\n",
            "[6, 12000] loss: 0.919\n",
            "[7,  2000] loss: 0.812\n",
            "[7,  4000] loss: 0.842\n",
            "[7,  6000] loss: 0.873\n",
            "[7,  8000] loss: 0.888\n",
            "[7, 10000] loss: 0.917\n",
            "[7, 12000] loss: 0.892\n",
            "[8,  2000] loss: 0.821\n",
            "[8,  4000] loss: 0.835\n",
            "[8,  6000] loss: 0.839\n",
            "[8,  8000] loss: 0.906\n",
            "[8, 10000] loss: 0.885\n",
            "[8, 12000] loss: 0.875\n",
            "[9,  2000] loss: 0.785\n",
            "[9,  4000] loss: 0.842\n",
            "[9,  6000] loss: 0.846\n",
            "[9,  8000] loss: 0.879\n",
            "[9, 10000] loss: 0.849\n",
            "[9, 12000] loss: 0.860\n",
            "[10,  2000] loss: 0.782\n",
            "[10,  4000] loss: 0.826\n",
            "[10,  6000] loss: 0.823\n",
            "[10,  8000] loss: 0.851\n",
            "[10, 10000] loss: 0.835\n",
            "[10, 12000] loss: 0.877\n",
            "Finished Training\n"
          ],
          "name": "stdout"
        }
      ]
    },
    {
      "cell_type": "code",
      "metadata": {
        "id": "LEWt_oZRRBip",
        "colab_type": "code",
        "colab": {
          "base_uri": "https://localhost:8080/",
          "height": 34
        },
        "outputId": "a25d2208-29ad-4877-cdd0-a5a5cd665549"
      },
      "source": [
        "correct = 0\n",
        "total = 0\n",
        "with torch.no_grad():\n",
        "    for data in testloader:\n",
        "        #images, labels = data #CPU\n",
        "        images, labels = data[0].to(device), data[1].to(device) #GPU\n",
        "        outputs = net(images)\n",
        "        _, predicted = torch.max(outputs.data, 1)\n",
        "        total += labels.size(0)\n",
        "        correct += (predicted == labels).sum().item()\n",
        "\n",
        "print('Accuracy of the network on the 10000 test images: %d %%' % (\n",
        "    100 * correct / total))"
      ],
      "execution_count": 18,
      "outputs": [
        {
          "output_type": "stream",
          "text": [
            "Accuracy of the network on the 10000 test images: 61 %\n"
          ],
          "name": "stdout"
        }
      ]
    },
    {
      "cell_type": "code",
      "metadata": {
        "id": "TQ12FFieQMs7",
        "colab_type": "code",
        "colab": {}
      },
      "source": [
        "#モデルの保存\n",
        "PATH = './cifar_net.pth'\n",
        "torch.save(net.state_dict(), PATH)"
      ],
      "execution_count": 19,
      "outputs": []
    }
  ]
}