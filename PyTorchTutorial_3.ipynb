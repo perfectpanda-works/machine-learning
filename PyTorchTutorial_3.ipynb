{
  "nbformat": 4,
  "nbformat_minor": 0,
  "metadata": {
    "colab": {
      "name": "PyTorchTutorial_3.ipynb",
      "provenance": [],
      "collapsed_sections": [],
      "authorship_tag": "ABX9TyNxNXo/RW+7BQdIhbrxbr2C",
      "include_colab_link": true
    },
    "kernelspec": {
      "name": "python3",
      "display_name": "Python 3"
    }
  },
  "cells": [
    {
      "cell_type": "markdown",
      "metadata": {
        "id": "view-in-github",
        "colab_type": "text"
      },
      "source": [
        "<a href=\"https://colab.research.google.com/github/perfectpanda-works/machine-learning/blob/master/PyTorchTutorial_3.ipynb\" target=\"_parent\"><img src=\"https://colab.research.google.com/assets/colab-badge.svg\" alt=\"Open In Colab\"/></a>"
      ]
    },
    {
      "cell_type": "markdown",
      "metadata": {
        "id": "sFzBkG2zGbLN",
        "colab_type": "text"
      },
      "source": [
        ""
      ]
    },
    {
      "cell_type": "markdown",
      "metadata": {
        "id": "A1HA1TIDub6a",
        "colab_type": "text"
      },
      "source": [
        "#PyTorchの畳み込みニューラルネットワークのチュートリアル"
      ]
    },
    {
      "cell_type": "markdown",
      "metadata": {
        "id": "yWJRmXLzIp0-",
        "colab_type": "text"
      },
      "source": [
        "#Pythonのクラスの復習"
      ]
    },
    {
      "cell_type": "code",
      "metadata": {
        "id": "ZYBBsU2cGblC",
        "colab_type": "code",
        "colab": {}
      },
      "source": [
        "# class test\n",
        "class parent_class:\n",
        "  #コンストラクタ\n",
        "  def __init__(self):\n",
        "    print(\"Initialize_parent\")\n",
        "\n",
        "  def func1(self,num):\n",
        "    print(\"parent\")\n",
        "    print(num)\n",
        "\n",
        "class child_class(parent_class):\n",
        "  #コンストラクタ\n",
        "  #インスタンス生成時に一度だけ呼び出される\n",
        "  def __init__(self):\n",
        "    super().__init__()\n",
        "    print(\"Initialize_child\")\n",
        "\n",
        "  def fnc2(self,num):\n",
        "    super().func1(num)\n",
        "    print(\"child\")\n",
        "    print(num)"
      ],
      "execution_count": null,
      "outputs": []
    },
    {
      "cell_type": "code",
      "metadata": {
        "id": "W9Sx0HxaGpU6",
        "colab_type": "code",
        "colab": {
          "base_uri": "https://localhost:8080/",
          "height": 85
        },
        "outputId": "ccbc4d5b-7fb9-4c4f-f4ff-174023333df9"
      },
      "source": [
        "#child_classのインスタンスを作成\n",
        "t_instance = child_class()\n",
        "t_instance2 = child_class()"
      ],
      "execution_count": null,
      "outputs": [
        {
          "output_type": "stream",
          "text": [
            "Initialize_parent\n",
            "Initialize_child\n",
            "Initialize_parent\n",
            "Initialize_child\n"
          ],
          "name": "stdout"
        }
      ]
    },
    {
      "cell_type": "code",
      "metadata": {
        "id": "khZ0s3SvG5BL",
        "colab_type": "code",
        "colab": {
          "base_uri": "https://localhost:8080/",
          "height": 85
        },
        "outputId": "3e03f4ef-6362-4069-a370-818c3ac0d330"
      },
      "source": [
        "#メソッドにアクセス\n",
        "t_instance.fnc2(1)"
      ],
      "execution_count": null,
      "outputs": [
        {
          "output_type": "stream",
          "text": [
            "parent\n",
            "1\n",
            "child\n",
            "1\n"
          ],
          "name": "stdout"
        }
      ]
    },
    {
      "cell_type": "markdown",
      "metadata": {
        "id": "HI2Xlh9QcZQ_",
        "colab_type": "text"
      },
      "source": [
        "#畳み込みニューラルネットワーク\n",
        "PyTorchでニューラルネットワークを作成するために必要なimportです。\n"
      ]
    },
    {
      "cell_type": "code",
      "metadata": {
        "id": "dVq6i7O1Fu0p",
        "colab_type": "code",
        "colab": {}
      },
      "source": [
        "import torch\n",
        "import torch.nn as nn\n",
        "import torch.nn.functional as F"
      ],
      "execution_count": null,
      "outputs": []
    },
    {
      "cell_type": "markdown",
      "metadata": {
        "id": "8_R2POWlNkiG",
        "colab_type": "text"
      },
      "source": [
        "クラスでニューラルネットワークを定義していきます。"
      ]
    },
    {
      "cell_type": "code",
      "metadata": {
        "id": "5bifWjL2cSpb",
        "colab_type": "code",
        "colab": {}
      },
      "source": [
        "class Net(nn.Module):\n",
        "\n",
        "    def __init__(self):\n",
        "        super(Net, self).__init__()\n",
        "        # 1 input image channel, 6 output channels, 3x3 square convolution\n",
        "        # kernel\n",
        "        self.conv1 = nn.Conv2d(1, 6, 3)\n",
        "        self.conv2 = nn.Conv2d(6, 16, 3)\n",
        "        # an affine operation: y = Wx + b\n",
        "        self.fc1 = nn.Linear(16 * 6 * 6, 120)  # 6*6 from image dimension\n",
        "        self.fc2 = nn.Linear(120, 84)\n",
        "        self.fc3 = nn.Linear(84, 10)\n",
        "\n",
        "    def forward(self, x):\n",
        "        # Max pooling over a (2, 2) window\n",
        "        x = F.max_pool2d(F.relu(self.conv1(x)), (2, 2))\n",
        "        # If the size is a square you can only specify a single number\n",
        "        x = F.max_pool2d(F.relu(self.conv2(x)), 2)\n",
        "        x = x.view(-1, self.num_flat_features(x))\n",
        "        x = F.relu(self.fc1(x))\n",
        "        x = F.relu(self.fc2(x))\n",
        "        x = self.fc3(x)\n",
        "        return x\n",
        "\n",
        "    def num_flat_features(self, x):\n",
        "        size = x.size()[1:]  # all dimensions except the batch dimension\n",
        "        num_features = 1\n",
        "        for s in size:\n",
        "            num_features *= s\n",
        "        return num_features"
      ],
      "execution_count": null,
      "outputs": []
    },
    {
      "cell_type": "code",
      "metadata": {
        "id": "nmg7ETWlNeug",
        "colab_type": "code",
        "colab": {
          "base_uri": "https://localhost:8080/",
          "height": 136
        },
        "outputId": "382ba080-fe46-465a-96c2-f7daea2cfc13"
      },
      "source": [
        "net = Net()\n",
        "print(net)"
      ],
      "execution_count": null,
      "outputs": [
        {
          "output_type": "stream",
          "text": [
            "Net(\n",
            "  (conv1): Conv2d(1, 6, kernel_size=(3, 3), stride=(1, 1))\n",
            "  (conv2): Conv2d(6, 16, kernel_size=(3, 3), stride=(1, 1))\n",
            "  (fc1): Linear(in_features=576, out_features=120, bias=True)\n",
            "  (fc2): Linear(in_features=120, out_features=84, bias=True)\n",
            "  (fc3): Linear(in_features=84, out_features=10, bias=True)\n",
            ")\n"
          ],
          "name": "stdout"
        }
      ]
    },
    {
      "cell_type": "markdown",
      "metadata": {
        "id": "nExWzs-ivm2g",
        "colab_type": "text"
      },
      "source": [
        "#パラメータの確認"
      ]
    },
    {
      "cell_type": "code",
      "metadata": {
        "id": "Y9rjUGD1Nuff",
        "colab_type": "code",
        "colab": {
          "base_uri": "https://localhost:8080/",
          "height": 204
        },
        "outputId": "80f72f0f-081f-4e05-c5fc-4174123b52ff"
      },
      "source": [
        "params = list(net.parameters())\n",
        "print(len(params))\n",
        "#print(params[0].size())  # conv1's .weight\n",
        "for i in range(0,10):\n",
        "  print(params[i].size())"
      ],
      "execution_count": null,
      "outputs": [
        {
          "output_type": "stream",
          "text": [
            "10\n",
            "torch.Size([6, 1, 3, 3])\n",
            "torch.Size([6])\n",
            "torch.Size([16, 6, 3, 3])\n",
            "torch.Size([16])\n",
            "torch.Size([120, 576])\n",
            "torch.Size([120])\n",
            "torch.Size([84, 120])\n",
            "torch.Size([84])\n",
            "torch.Size([10, 84])\n",
            "torch.Size([10])\n"
          ],
          "name": "stdout"
        }
      ]
    },
    {
      "cell_type": "markdown",
      "metadata": {
        "id": "veGIVmw4wQEf",
        "colab_type": "text"
      },
      "source": [
        "次のようにして、Conv1層のパラメータの中身を確認してみます。\n",
        "Conv1層のパラメータとして３×３のフィルターが６個あるのがわかります。"
      ]
    },
    {
      "cell_type": "code",
      "metadata": {
        "id": "6Hs8qffbufKY",
        "colab_type": "code",
        "colab": {
          "base_uri": "https://localhost:8080/",
          "height": 561
        },
        "outputId": "ea861e78-f765-47ad-8dbe-a672e9004bcf"
      },
      "source": [
        "print(params[0])\n",
        "print(params[1])"
      ],
      "execution_count": null,
      "outputs": [
        {
          "output_type": "stream",
          "text": [
            "Parameter containing:\n",
            "tensor([[[[-0.0933,  0.2394, -0.0573],\n",
            "          [-0.3326,  0.2173, -0.2807],\n",
            "          [-0.2363, -0.1357, -0.3250]]],\n",
            "\n",
            "\n",
            "        [[[ 0.0865,  0.2505, -0.0520],\n",
            "          [-0.3266,  0.0914,  0.0318],\n",
            "          [-0.0620, -0.0419, -0.1124]]],\n",
            "\n",
            "\n",
            "        [[[-0.0704,  0.0988,  0.0958],\n",
            "          [ 0.1062,  0.2237, -0.1996],\n",
            "          [-0.2870,  0.1163,  0.2503]]],\n",
            "\n",
            "\n",
            "        [[[ 0.2017,  0.2823,  0.3023],\n",
            "          [-0.2970, -0.1573,  0.0235],\n",
            "          [ 0.3097, -0.1511,  0.0654]]],\n",
            "\n",
            "\n",
            "        [[[-0.2015, -0.1036, -0.1227],\n",
            "          [-0.2294, -0.2890,  0.2507],\n",
            "          [-0.2039, -0.1032, -0.0261]]],\n",
            "\n",
            "\n",
            "        [[[ 0.2552,  0.2075,  0.2799],\n",
            "          [ 0.0709, -0.2208,  0.2277],\n",
            "          [-0.1452, -0.1961,  0.1781]]]], requires_grad=True)\n",
            "Parameter containing:\n",
            "tensor([ 0.0031,  0.3142, -0.2670,  0.2170, -0.2200,  0.2434],\n",
            "       requires_grad=True)\n"
          ],
          "name": "stdout"
        }
      ]
    },
    {
      "cell_type": "markdown",
      "metadata": {
        "id": "aloQA-daVLte",
        "colab_type": "text"
      },
      "source": [
        "不明点：\n",
        "\n",
        "①畳み込み１で28×28になる計算（どのように調べて計算しても30×30になってしまう）\n",
        "\n",
        "②畳み込み２層目、入力が６チャンネルで、出力が１６チャンネルだと、それぞれチャンネルが均等な枚数のフィルターではない？\n",
        "\n",
        "解決：\n",
        "\n",
        "どうやら画像とチュートリアルの内容は違うようで、畳み込み層１は30×30のサイズの画像が出力される模様。昔は5×5のフィルターだった？"
      ]
    },
    {
      "cell_type": "markdown",
      "metadata": {
        "id": "u-umbhsmWEw9",
        "colab_type": "text"
      },
      "source": [
        "#画像を入力してみる\n",
        "ランダムな32×32の行列を入力してみる（画像を見立てた入力）\n",
        "\n",
        "入力のデータ形式は、バッチサイズ、チャンネル数、画像縦サイズ、画像横サイズという形式の４階のテンソルで表現\n",
        "\n",
        "通常のカラー画像を入力するさいは、バッチサイズ（まとまった枚数）の画像をRGBという３チャンネルで入力するため、このようなテンソルを入力としている。\n",
        "\n",
        "今回の入力データは、32×32の1チャンネル（グレースケール、白黒データのみの１チャンネル画像）1枚のみなので、バッチサイズ１の1チャンネル、32×32という形のテンソルを作成する。"
      ]
    },
    {
      "cell_type": "code",
      "metadata": {
        "id": "f65I3EZ4wO8J",
        "colab_type": "code",
        "colab": {
          "base_uri": "https://localhost:8080/",
          "height": 136
        },
        "outputId": "e4407132-3b7b-486d-84c6-15052fd64eaa"
      },
      "source": [
        "input = torch.randn(1, 1, 32, 32)\n",
        "#(バッチサイズ,チャンネル,画像縦,画像横)\n",
        "print(input)"
      ],
      "execution_count": null,
      "outputs": [
        {
          "output_type": "stream",
          "text": [
            "tensor([[[[-1.1831,  0.5253,  0.0705,  ..., -0.5904, -0.1145, -0.7488],\n",
            "          [-0.9510,  0.2303, -0.6416,  ...,  0.7960,  1.6276,  0.3620],\n",
            "          [-0.1249,  0.4901, -0.0790,  ..., -0.8723, -0.2881,  0.4356],\n",
            "          ...,\n",
            "          [ 0.6352,  0.3252, -0.0446,  ..., -1.8833, -0.0868, -0.2000],\n",
            "          [ 0.9172,  0.4551,  0.8795,  ...,  0.1327, -0.9136, -0.0452],\n",
            "          [-0.2299,  0.1815, -1.2079,  ..., -1.3954,  1.2479,  1.0279]]]])\n"
          ],
          "name": "stdout"
        }
      ]
    },
    {
      "cell_type": "markdown",
      "metadata": {
        "id": "30njpBqWCmob",
        "colab_type": "text"
      },
      "source": [
        "画像をネットワークに入力。\n",
        "\n",
        "outに10個の値が出力される。10分類問題の場合、これが一番大きい数値がネットワークが予測する答えとなる。"
      ]
    },
    {
      "cell_type": "code",
      "metadata": {
        "id": "AbufGW02WgTF",
        "colab_type": "code",
        "colab": {
          "base_uri": "https://localhost:8080/",
          "height": 51
        },
        "outputId": "a81a608d-dda8-400e-9497-14cf6201b15a"
      },
      "source": [
        "out = net(input)\n",
        "print(out)"
      ],
      "execution_count": null,
      "outputs": [
        {
          "output_type": "stream",
          "text": [
            "tensor([[ 0.0197,  0.0280, -0.0223, -0.0835, -0.0448,  0.1229, -0.0594, -0.1072,\n",
            "          0.0999, -0.0607]], grad_fn=<AddmmBackward>)\n"
          ],
          "name": "stdout"
        }
      ]
    },
    {
      "cell_type": "markdown",
      "metadata": {
        "id": "9fTq3aljAs9l",
        "colab_type": "text"
      },
      "source": [
        "#勾配を求める\n",
        "\n",
        "ニューラルネットワークの勾配はゼロで初期化する。\n",
        "\n",
        "\n",
        "出力が1×10の形なので、backwordには次のようなテンソル(ベクトル)を指定する。今回は、randnで生成したランダムな勾配(10個の値が入ったベクトル)を逆伝播する。"
      ]
    },
    {
      "cell_type": "code",
      "metadata": {
        "id": "e2Y_BR3zXEtp",
        "colab_type": "code",
        "colab": {}
      },
      "source": [
        "#勾配の初期化\n",
        "net.zero_grad()\n",
        "#backwordメソッドで勾配を求める\n",
        "out.backward(torch.randn(1, 10))"
      ],
      "execution_count": null,
      "outputs": []
    },
    {
      "cell_type": "markdown",
      "metadata": {
        "id": "RmePxG6_AiSm",
        "colab_type": "text"
      },
      "source": [
        "#損失関数\n",
        "損失関数は、(出力,正解)という引数を与えて、モデルから出力された回答がどれだけ正解から遠いかを表現してくれるものです。\n",
        "\n",
        "\n",
        "PyTorchのnnパッケージには、いくつかの損失関数が実装されていますが、チュートリアルでは、一番シンプルな「nn.MSELoss」を利用します。\n",
        "\n",
        "\n",
        "これは、平均二乗誤差などと呼ばれる誤差関数になります。"
      ]
    },
    {
      "cell_type": "code",
      "metadata": {
        "id": "4H-EXGKbcO3A",
        "colab_type": "code",
        "colab": {
          "base_uri": "https://localhost:8080/",
          "height": 34
        },
        "outputId": "6bd33ad0-6544-41a4-c79c-0b38db2642d9"
      },
      "source": [
        "output = net(input)\n",
        "target = torch.randn(10)  # a dummy target, for example\n",
        "target = target.view(1, -1)  # make it the same shape as output\n",
        "criterion = nn.MSELoss()\n",
        "\n",
        "loss = criterion(output, target)\n",
        "print(loss)"
      ],
      "execution_count": null,
      "outputs": [
        {
          "output_type": "stream",
          "text": [
            "tensor(0.6772, grad_fn=<MseLossBackward>)\n"
          ],
          "name": "stdout"
        }
      ]
    },
    {
      "cell_type": "markdown",
      "metadata": {
        "id": "7lonsJOLCv1e",
        "colab_type": "text"
      },
      "source": [
        "outputには、randnで作成したランダムな出力を与えます。\n",
        "\n",
        "\n",
        "target変数には、ランダムな正解を与えます。\n",
        "\n",
        "\n",
        "nn.MSELossとしてcriterion変数に誤差関数をインスタンス化します。\n",
        "\n",
        "criterion(output,target)とすることで、モデルの出力した値と正解を誤差関数で比較します。"
      ]
    },
    {
      "cell_type": "code",
      "metadata": {
        "id": "yl6MME7DtnBe",
        "colab_type": "code",
        "colab": {}
      },
      "source": [
        ""
      ],
      "execution_count": null,
      "outputs": []
    },
    {
      "cell_type": "markdown",
      "metadata": {
        "id": "PPf42QnuGgAA",
        "colab_type": "text"
      },
      "source": [
        "#バックプロパゲーション\n",
        "先の勾配を求めるというところで行なった操作と同じになります。勾配の初期化→勾配を求める、という流れになります。\n",
        "\n",
        "誤差関数で求めた誤差に対して、微分操作(backword)を行うことで、ニューラルネットワークの各パラメータの勾配を求めることができます。"
      ]
    },
    {
      "cell_type": "code",
      "metadata": {
        "id": "NYaQST1ZGU76",
        "colab_type": "code",
        "colab": {
          "base_uri": "https://localhost:8080/",
          "height": 85
        },
        "outputId": "e5a2cb98-0fe8-4583-adc1-55e47d3c866a"
      },
      "source": [
        "net.zero_grad()     # zeroes the gradient buffers of all parameters\n",
        "\n",
        "print('conv1.bias.grad before backward')\n",
        "print(net.conv1.bias.grad)\n",
        "\n",
        "loss.backward()\n",
        "\n",
        "print('conv1.bias.grad after backward')\n",
        "print(net.conv1.bias.grad)"
      ],
      "execution_count": null,
      "outputs": [
        {
          "output_type": "stream",
          "text": [
            "conv1.bias.grad before backward\n",
            "tensor([0., 0., 0., 0., 0., 0.])\n",
            "conv1.bias.grad after backward\n",
            "tensor([-0.0014,  0.0065,  0.0212, -0.0037, -0.0007, -0.0094])\n"
          ],
          "name": "stdout"
        }
      ]
    },
    {
      "cell_type": "markdown",
      "metadata": {
        "id": "9Tq4Jjy2GrFI",
        "colab_type": "text"
      },
      "source": [
        "バックプロパゲーションを行う前に、勾配を初期化します。\n",
        "\n",
        "チュートリアルでは、畳み込み層１のバイアスパラメータ（６個の重みがある）がどのように変化するか、確認をしています。"
      ]
    },
    {
      "cell_type": "markdown",
      "metadata": {
        "id": "rXxqFaEOIWwc",
        "colab_type": "text"
      },
      "source": [
        "#重みの更新を行う\n",
        "ニューラルネットワークのもっともシンプルな重み（パラメータ）の更新方法は「確率的勾配降下法(SDG)」という方法で行われます。\n",
        "\n",
        "・確率的勾配降下法\n",
        "\n",
        "更新後の重み　= 現在の重み - 学習率　×　勾配\n",
        "\n",
        "このような式で一回の訓練（１エポック終了後）に重みを更新することになります。\n",
        "\n",
        "先ほどのbackwordの流れですでに勾配を求めていますので、あとは学習率と掛け合わせて現在の重みから引き算し、その結果を新しい重みとして反映するだけです。\n",
        "\n",
        "SDGの実装例としては次のようなプログラムになります。\n"
      ]
    },
    {
      "cell_type": "code",
      "metadata": {
        "id": "FsuoCeGcGe-q",
        "colab_type": "code",
        "colab": {}
      },
      "source": [
        "learning_rate = 0.01\n",
        "for f in net.parameters():\n",
        "    f.data.sub_(f.grad.data * learning_rate)"
      ],
      "execution_count": null,
      "outputs": []
    },
    {
      "cell_type": "markdown",
      "metadata": {
        "id": "eQToJOlYJxdW",
        "colab_type": "text"
      },
      "source": [
        "学習率は、手動で設定する「ハイパーパラメータ」です。この値が大きいほど、早く重みが最適な値に収束するのですが、値が大きいと最適な重みを飛び越してしまう可能性もあります。逆に値が小さすぎると計算量が増えてしまうという点があります。\n",
        "\n",
        "全てのパラメータに対してfor文でシンプルに計算をしています。"
      ]
    },
    {
      "cell_type": "markdown",
      "metadata": {
        "id": "xBuaYboKKcOG",
        "colab_type": "text"
      },
      "source": [
        "この重みの更新アルゴリズムは現状ではAdamというより改良されたものが一般的に利用されるようです。学習率を訓練が進むに連れて小さくしたりして、より最適な重みを効率よく見つけられるようになっているとのことでした。scikit-learnのMLPでもデフォルトでAdamが選択されます。"
      ]
    },
    {
      "cell_type": "markdown",
      "metadata": {
        "id": "3l-zm1kyLGNQ",
        "colab_type": "text"
      },
      "source": [
        "また、このようにシンプルな確率的勾配降下法出会っても、PyTorchにすでに実装されているものを利用した方がみやすいプログラムとすることができます。"
      ]
    },
    {
      "cell_type": "code",
      "metadata": {
        "id": "qUktyY4SG5Gb",
        "colab_type": "code",
        "colab": {}
      },
      "source": [
        "import torch.optim as optim\n",
        "\n",
        "# create your optimizer\n",
        "optimizer = optim.SGD(net.parameters(), lr=0.01)"
      ],
      "execution_count": null,
      "outputs": []
    },
    {
      "cell_type": "markdown",
      "metadata": {
        "id": "PQmZc1trLV53",
        "colab_type": "text"
      },
      "source": [
        "torch.optimを呼び出すことで、様々な最適化アルゴリズムを利用することができます。"
      ]
    },
    {
      "cell_type": "markdown",
      "metadata": {
        "id": "uZNiYSVALeOp",
        "colab_type": "text"
      },
      "source": [
        "#訓練\n",
        "今まで個別にみてきた\n",
        "\n",
        "・データをネットワークに入力\n",
        "\n",
        "・勾配を求める\n",
        "\n",
        "・バックプロパゲーションをする\n",
        "\n",
        "という個別の動作を組み合わせて訓練の処理を作ることができます。"
      ]
    },
    {
      "cell_type": "code",
      "metadata": {
        "id": "rylFoeCELUAH",
        "colab_type": "code",
        "colab": {}
      },
      "source": [
        "#訓練ループ\n",
        "optimizer.zero_grad()\n",
        "output = net(input)\n",
        "loss = criterion(output, target)\n",
        "loss.backward()\n",
        "optimizer.step()    # Does the update"
      ],
      "execution_count": null,
      "outputs": []
    }
  ]
}