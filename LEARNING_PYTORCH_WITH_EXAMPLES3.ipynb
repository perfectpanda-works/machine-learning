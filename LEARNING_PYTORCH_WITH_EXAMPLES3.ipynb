{
  "nbformat": 4,
  "nbformat_minor": 0,
  "metadata": {
    "colab": {
      "name": "LEARNING PYTORCH WITH EXAMPLES3.ipynb",
      "provenance": [],
      "collapsed_sections": [],
      "authorship_tag": "ABX9TyMQU9CdIK4ZesnpQbOmjX4r",
      "include_colab_link": true
    },
    "kernelspec": {
      "name": "python3",
      "display_name": "Python 3"
    },
    "accelerator": "GPU"
  },
  "cells": [
    {
      "cell_type": "markdown",
      "metadata": {
        "id": "view-in-github",
        "colab_type": "text"
      },
      "source": [
        "<a href=\"https://colab.research.google.com/github/perfectpanda-works/machine-learning/blob/master/LEARNING_PYTORCH_WITH_EXAMPLES3.ipynb\" target=\"_parent\"><img src=\"https://colab.research.google.com/assets/colab-badge.svg\" alt=\"Open In Colab\"/></a>"
      ]
    },
    {
      "cell_type": "markdown",
      "metadata": {
        "id": "27kEKx6RSaYD",
        "colab_type": "text"
      },
      "source": [
        "#Autograd"
      ]
    },
    {
      "cell_type": "code",
      "metadata": {
        "id": "oq5vXHVwFMlr",
        "colab_type": "code",
        "colab": {
          "base_uri": "https://localhost:8080/",
          "height": 34
        },
        "outputId": "c917ff53-2430-4470-d1be-a8a84d432b6b"
      },
      "source": [
        "# -*- coding: utf-8 -*-\n",
        "import torch\n",
        "\n",
        "dtype = torch.float\n",
        "#device = torch.device(\"cpu\")\n",
        "device = torch.device(\"cuda:0\") # Uncomment this to run on GPU\n",
        "\n",
        "print(device)"
      ],
      "execution_count": null,
      "outputs": [
        {
          "output_type": "stream",
          "text": [
            "cuda:0\n"
          ],
          "name": "stdout"
        }
      ]
    },
    {
      "cell_type": "code",
      "metadata": {
        "id": "37EwPnU9Fwmr",
        "colab_type": "code",
        "colab": {}
      },
      "source": [
        "# N  　：バッチサイズ\n",
        "# D_in ：入力次元数\n",
        "# H　　：隠れ層の次元数\n",
        "# D_out：出力次元数\n",
        "N, D_in, H, D_out = 64, 1000, 100, 10\n",
        "\n",
        "# ランダムな入力データと出力データの作成\n",
        "x = torch.randn(N, D_in, device=device, dtype=dtype)\n",
        "y = torch.randn(N, D_out, device=device, dtype=dtype)\n",
        "\n",
        "# 重みをランダムに初期化\n",
        "# 勾配を計算したいテンソルなので、「requires_grad=True」を指定しておく。\n",
        "w1 = torch.randn(D_in, H, device=device, dtype=dtype, requires_grad=True)\n",
        "w2 = torch.randn(H, D_out, device=device, dtype=dtype, requires_grad=True)"
      ],
      "execution_count": null,
      "outputs": []
    },
    {
      "cell_type": "code",
      "metadata": {
        "id": "B1lz9qaibET1",
        "colab_type": "code",
        "colab": {
          "base_uri": "https://localhost:8080/",
          "height": 102
        },
        "outputId": "f6b5d7a2-bdde-4760-cb0a-250ae563a5a9"
      },
      "source": [
        "#学習率\n",
        "learning_rate = 1e-6\n",
        "\n",
        "for t in range(500):\n",
        "    # ①順伝播: 1行で表記\n",
        "    # 手動の逆伝播で計算途中の結果を保持する必要がなくなった。\n",
        "    y_pred = x.mm(w1).clamp(min=0).mm(w2)\n",
        "\n",
        "    # 損失\n",
        "    loss = (y_pred - y).pow(2).sum()\n",
        "    if t % 100 == 99:\n",
        "        print(t, loss.item())\n",
        "\n",
        "    # ②「autograd」機能を利用して逆伝播を行い勾配を計算します。\n",
        "    #  backward実行後に「w1.grad」と「w2.grad」に勾配が入ります。\n",
        "    loss.backward()\n",
        "\n",
        "    # ③重みの更新時の計算は、「autograd」で追跡する必要がないので\n",
        "    # 「autograd」を停止するため、「torch.no_grad()」で処理を囲みます。\n",
        "    # 「torch.optim.SGD」を利用しても同じことができます。\n",
        "    with torch.no_grad():\n",
        "        w1 -= learning_rate * w1.grad\n",
        "        w2 -= learning_rate * w2.grad\n",
        "\n",
        "        # 手動で「grad」を初期化します。\n",
        "        w1.grad.zero_()\n",
        "        w2.grad.zero_()"
      ],
      "execution_count": null,
      "outputs": [
        {
          "output_type": "stream",
          "text": [
            "99 368.0965270996094\n",
            "199 1.209576964378357\n",
            "299 0.005984519608318806\n",
            "399 0.00016405261703766882\n",
            "499 3.48710673279129e-05\n"
          ],
          "name": "stdout"
        }
      ]
    },
    {
      "cell_type": "markdown",
      "metadata": {
        "id": "EL8psA3hSWiD",
        "colab_type": "text"
      },
      "source": [
        "#autogradをカスタマイズ"
      ]
    },
    {
      "cell_type": "code",
      "metadata": {
        "id": "J_OFHR6WBA8f",
        "colab_type": "code",
        "colab": {
          "base_uri": "https://localhost:8080/",
          "height": 102
        },
        "outputId": "0d70de2b-e63f-46bf-a483-11676f26f045"
      },
      "source": [
        "# -*- coding: utf-8 -*-\n",
        "import torch\n",
        "\n",
        "class MyReLU(torch.autograd.Function):\n",
        "    \"\"\"\n",
        "    サブクラス化することで、独自のカスタムautograd関数を実装できます。\n",
        "    torch.autograd.Functionを継承\n",
        "    \"\"\"\n",
        "\n",
        "    @staticmethod\n",
        "    def forward(ctx, input):\n",
        "        \"\"\"\n",
        "        順伝播では、「ctx」と「input」を受け取ります。\n",
        "        「ctx」は逆伝播のために情報を保持しておくコンテキストオブジェクトです。\n",
        "        \"\"\"\n",
        "        ctx.save_for_backward(input)\n",
        "        return input.clamp(min=0)\n",
        "\n",
        "    @staticmethod\n",
        "    def backward(ctx, grad_output):\n",
        "        \"\"\"\n",
        "        逆伝播では、出力側からの損失の勾配を含むTensorを受け取ります\n",
        "        そして私たちは入力側からの損失の勾配を計算する必要があります\n",
        "        \"\"\"\n",
        "        input, = ctx.saved_tensors\n",
        "        grad_input = grad_output.clone()\n",
        "        grad_input[input < 0] = 0\n",
        "        return grad_input\n",
        "\n",
        "\n",
        "dtype = torch.float\n",
        "device = torch.device(\"cuda:0\") # Uncomment this to run on GPU\n",
        "N, D_in, H, D_out = 64, 1000, 100, 10\n",
        "\n",
        "x = torch.randn(N, D_in, device=device, dtype=dtype)\n",
        "y = torch.randn(N, D_out, device=device, dtype=dtype)\n",
        "\n",
        "w1 = torch.randn(D_in, H, device=device, dtype=dtype, requires_grad=True)\n",
        "w2 = torch.randn(H, D_out, device=device, dtype=dtype, requires_grad=True)\n",
        "\n",
        "learning_rate = 1e-6\n",
        "for t in range(500):\n",
        "    #定義したautogradを利用するために、「apply」を行います。\n",
        "    relu = MyReLU.apply\n",
        "\n",
        "    # 順伝播：定義したforwardの処理を利用\n",
        "    y_pred = relu(x.mm(w1)).mm(w2)\n",
        "\n",
        "    # 損失\n",
        "    loss = (y_pred - y).pow(2).sum()\n",
        "    if t % 100 == 99:\n",
        "        print(t, loss.item())\n",
        "\n",
        "    # 逆伝播\n",
        "    loss.backward()\n",
        "\n",
        "    # 重みの更新：勾配降下法\n",
        "    with torch.no_grad():\n",
        "        w1 -= learning_rate * w1.grad\n",
        "        w2 -= learning_rate * w2.grad\n",
        "        w1.grad.zero_()\n",
        "        w2.grad.zero_()"
      ],
      "execution_count": null,
      "outputs": [
        {
          "output_type": "stream",
          "text": [
            "99 337.72589111328125\n",
            "199 1.0916001796722412\n",
            "299 0.006575985811650753\n",
            "399 0.00017215670959558338\n",
            "499 3.354191721882671e-05\n"
          ],
          "name": "stdout"
        }
      ]
    },
    {
      "cell_type": "code",
      "metadata": {
        "id": "7ch4HV_7BFTU",
        "colab_type": "code",
        "colab": {}
      },
      "source": [
        ""
      ],
      "execution_count": null,
      "outputs": []
    }
  ]
}