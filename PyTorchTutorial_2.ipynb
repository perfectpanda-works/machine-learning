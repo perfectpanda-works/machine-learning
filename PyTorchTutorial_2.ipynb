{
  "nbformat": 4,
  "nbformat_minor": 0,
  "metadata": {
    "colab": {
      "name": "PyTorchTutorial_2.ipynb",
      "provenance": [],
      "authorship_tag": "ABX9TyNFtR7yNKemZatF8xTcKuV9",
      "include_colab_link": true
    },
    "kernelspec": {
      "name": "python3",
      "display_name": "Python 3"
    }
  },
  "cells": [
    {
      "cell_type": "markdown",
      "metadata": {
        "id": "view-in-github",
        "colab_type": "text"
      },
      "source": [
        "<a href=\"https://colab.research.google.com/github/perfectpanda-works/machine-learning/blob/master/PyTorchTutorial_2.ipynb\" target=\"_parent\"><img src=\"https://colab.research.google.com/assets/colab-badge.svg\" alt=\"Open In Colab\"/></a>"
      ]
    },
    {
      "cell_type": "markdown",
      "metadata": {
        "id": "nUsmPW19D_C5",
        "colab_type": "text"
      },
      "source": [
        "#自動微分\n",
        "PyTorchのautogradパッケージを利用するチュートリアル"
      ]
    },
    {
      "cell_type": "code",
      "metadata": {
        "id": "IivhxaRhD8Kr",
        "colab_type": "code",
        "colab": {}
      },
      "source": [
        "import torch"
      ],
      "execution_count": null,
      "outputs": []
    },
    {
      "cell_type": "markdown",
      "metadata": {
        "id": "c7sAsl86SEvN",
        "colab_type": "text"
      },
      "source": [
        "requires_grad=Trueとしてtensorを作成することで、計算を追跡するようになります。計算を追跡とは、計算を記録していくということになります。"
      ]
    },
    {
      "cell_type": "code",
      "metadata": {
        "id": "mJ9gjv6AIk-S",
        "colab_type": "code",
        "colab": {
          "base_uri": "https://localhost:8080/",
          "height": 51
        },
        "outputId": "404a6ea1-d77c-4bd0-b7fa-5ddca21c2592"
      },
      "source": [
        "x = torch.ones(2, 2, requires_grad=True)\n",
        "print(x)"
      ],
      "execution_count": null,
      "outputs": [
        {
          "output_type": "stream",
          "text": [
            "tensor([[1., 1.],\n",
            "        [1., 1.]], requires_grad=True)\n"
          ],
          "name": "stdout"
        }
      ]
    },
    {
      "cell_type": "markdown",
      "metadata": {
        "id": "yGftt2g8Qzou",
        "colab_type": "text"
      },
      "source": [
        "PyTorchでは、tensorが基本になるので、普通の数値計算の場合もスカラーとしてtensorで作成します。"
      ]
    },
    {
      "cell_type": "code",
      "metadata": {
        "id": "QSZMe3s9IoYP",
        "colab_type": "code",
        "colab": {
          "base_uri": "https://localhost:8080/",
          "height": 34
        },
        "outputId": "58e08bc0-05c9-46f3-d385-1e48fedaccaf"
      },
      "source": [
        "x_scalar = torch.tensor(3.0 , requires_grad=True)\n",
        "print(x_scalar)"
      ],
      "execution_count": null,
      "outputs": [
        {
          "output_type": "stream",
          "text": [
            "tensor(3., requires_grad=True)\n"
          ],
          "name": "stdout"
        }
      ]
    },
    {
      "cell_type": "markdown",
      "metadata": {
        "id": "F476yuaeSk_r",
        "colab_type": "text"
      },
      "source": [
        "チュートリアルでは次に、テンソルxを元に演算を行っていきます。"
      ]
    },
    {
      "cell_type": "code",
      "metadata": {
        "id": "BR5bQR2rSdN-",
        "colab_type": "code",
        "colab": {
          "base_uri": "https://localhost:8080/",
          "height": 51
        },
        "outputId": "f736c4ac-eb64-4c4d-95ce-e5048c1f1b89"
      },
      "source": [
        "y = x + 2\n",
        "print(y)"
      ],
      "execution_count": null,
      "outputs": [
        {
          "output_type": "stream",
          "text": [
            "tensor([[3., 3.],\n",
            "        [3., 3.]], grad_fn=<AddBackward0>)\n"
          ],
          "name": "stdout"
        }
      ]
    },
    {
      "cell_type": "markdown",
      "metadata": {
        "id": "CNhbYmDeUQzL",
        "colab_type": "text"
      },
      "source": [
        "計算はgrad_fnに記録されていくようです。"
      ]
    },
    {
      "cell_type": "code",
      "metadata": {
        "id": "ViQS7QFcToB8",
        "colab_type": "code",
        "colab": {
          "base_uri": "https://localhost:8080/",
          "height": 34
        },
        "outputId": "6f72b915-ff91-4136-ff64-150ca59bdf75"
      },
      "source": [
        "print(y.grad_fn)"
      ],
      "execution_count": null,
      "outputs": [
        {
          "output_type": "stream",
          "text": [
            "<AddBackward0 object at 0x7f339d8252b0>\n"
          ],
          "name": "stdout"
        }
      ]
    },
    {
      "cell_type": "markdown",
      "metadata": {
        "id": "h3cEtHDaUfJc",
        "colab_type": "text"
      },
      "source": [
        "さらにyから計算を進めています。zという新しい変数と、outという新しい変数が出てきます。"
      ]
    },
    {
      "cell_type": "code",
      "metadata": {
        "id": "ImK5UlWOUPsr",
        "colab_type": "code",
        "colab": {
          "base_uri": "https://localhost:8080/",
          "height": 68
        },
        "outputId": "0c175b73-5d1c-4c0d-d71b-cd0d0d0fca11"
      },
      "source": [
        "z = y * y * 3\n",
        "out = z.mean()\n",
        "\n",
        "print(z)\n",
        "print(out)"
      ],
      "execution_count": null,
      "outputs": [
        {
          "output_type": "stream",
          "text": [
            "tensor([[27., 27.],\n",
            "        [27., 27.]], grad_fn=<MulBackward0>)\n",
            "tensor(27., grad_fn=<MeanBackward0>)\n"
          ],
          "name": "stdout"
        }
      ]
    },
    {
      "cell_type": "markdown",
      "metadata": {
        "id": "1pekiGFwU_tz",
        "colab_type": "text"
      },
      "source": [
        "zのgrad_fn、outのgrad_fnにそれぞれ計算が記録されていきました。\n"
      ]
    },
    {
      "cell_type": "markdown",
      "metadata": {
        "id": "kNpduteW7n5f",
        "colab_type": "text"
      },
      "source": [
        "自分でtensorを作成するときに、「requires_grad=True」を指定しておかないと、計算が記録されていないことになります。\n",
        "\n",
        "プログラムの途中でrequired_gradをtrueにするには、「a.required_grad_(True)」のようにメソッドで指定することで変更できます。"
      ]
    },
    {
      "cell_type": "code",
      "metadata": {
        "id": "h3iMHAgtUeBz",
        "colab_type": "code",
        "colab": {
          "base_uri": "https://localhost:8080/",
          "height": 68
        },
        "outputId": "fd9ed577-9912-4b61-cee4-e2fc26157e96"
      },
      "source": [
        "a = torch.randn(2, 2)\n",
        "a = ((a * 3) / (a - 1))\n",
        "print(a.requires_grad)\n",
        "a.requires_grad_(True)\n",
        "print(a.requires_grad)\n",
        "b = (a * a).sum()\n",
        "print(b.grad_fn)"
      ],
      "execution_count": null,
      "outputs": [
        {
          "output_type": "stream",
          "text": [
            "False\n",
            "True\n",
            "<SumBackward0 object at 0x7f339e8fb860>\n"
          ],
          "name": "stdout"
        }
      ]
    },
    {
      "cell_type": "markdown",
      "metadata": {
        "id": "K0KyzSCulWZD",
        "colab_type": "text"
      },
      "source": [
        "#勾配を求める\n",
        "計算グラフでいう、出力「out」からバックワード微分を行うのが「.backword()」"
      ]
    },
    {
      "cell_type": "code",
      "metadata": {
        "id": "8iu2twKX6GzI",
        "colab_type": "code",
        "colab": {}
      },
      "source": [
        "out.backward()"
      ],
      "execution_count": null,
      "outputs": []
    },
    {
      "cell_type": "markdown",
      "metadata": {
        "id": "z9JmPTdAsIcH",
        "colab_type": "text"
      },
      "source": [
        "計算の勾配が求められたので、次のようにして、確認したい勾配を出力できます。\n",
        "xのoutに対する勾配「∂out/∂x」は「x.grad」のように確認できます。"
      ]
    },
    {
      "cell_type": "code",
      "metadata": {
        "id": "Obc_8e9NlhVk",
        "colab_type": "code",
        "colab": {
          "base_uri": "https://localhost:8080/",
          "height": 51
        },
        "outputId": "a656c032-840d-44f4-e62c-24a3989201a9"
      },
      "source": [
        "print(x.grad)"
      ],
      "execution_count": null,
      "outputs": [
        {
          "output_type": "stream",
          "text": [
            "tensor([[4.5000, 4.5000],\n",
            "        [4.5000, 4.5000]])\n"
          ],
          "name": "stdout"
        }
      ]
    },
    {
      "cell_type": "markdown",
      "metadata": {
        "id": "_L959KrJuHcK",
        "colab_type": "text"
      },
      "source": [
        "このようにして、outに対するxの勾配を素早く計算することができます。バックプロパゲーションでは、このように求めた勾配に学習係数をかけたもので重みを変化させて、勾配が最小の値となるような重みを探します。"
      ]
    },
    {
      "cell_type": "code",
      "metadata": {
        "id": "mvx31FNqspQR",
        "colab_type": "code",
        "colab": {}
      },
      "source": [
        ""
      ],
      "execution_count": null,
      "outputs": []
    }
  ]
}