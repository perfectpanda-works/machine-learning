{
  "nbformat": 4,
  "nbformat_minor": 0,
  "metadata": {
    "colab": {
      "name": "PyTorchTutorial.ipynb",
      "provenance": [],
      "authorship_tag": "ABX9TyPQTFIq9bb1iLbYGh6Fw9mv",
      "include_colab_link": true
    },
    "kernelspec": {
      "name": "python3",
      "display_name": "Python 3"
    }
  },
  "cells": [
    {
      "cell_type": "markdown",
      "metadata": {
        "id": "view-in-github",
        "colab_type": "text"
      },
      "source": [
        "<a href=\"https://colab.research.google.com/github/perfectpanda-works/machine-learning/blob/master/PyTorchTutorial.ipynb\" target=\"_parent\"><img src=\"https://colab.research.google.com/assets/colab-badge.svg\" alt=\"Open In Colab\"/></a>"
      ]
    },
    {
      "cell_type": "markdown",
      "metadata": {
        "id": "JNILyAuJoA9S",
        "colab_type": "text"
      },
      "source": [
        "#PyTorch Tutorial"
      ]
    },
    {
      "cell_type": "markdown",
      "metadata": {
        "id": "D8rYy-dvoVSx",
        "colab_type": "text"
      },
      "source": [
        "PyTorchの基本的な機能のTensorを利用する"
      ]
    },
    {
      "cell_type": "code",
      "metadata": {
        "id": "v6zkCS4kn_IL",
        "colab_type": "code",
        "colab": {}
      },
      "source": [
        "from __future__ import print_function\n",
        "import torch"
      ],
      "execution_count": null,
      "outputs": []
    },
    {
      "cell_type": "markdown",
      "metadata": {
        "id": "l3RjUdm7ouBa",
        "colab_type": "text"
      },
      "source": [
        "初期化なしでテンソルを作成するemptyメソッド。\n",
        "\n",
        "2階テンソル（行列）の作成。5行3列"
      ]
    },
    {
      "cell_type": "code",
      "metadata": {
        "id": "l2bb3-qXoSfV",
        "colab_type": "code",
        "colab": {
          "base_uri": "https://localhost:8080/",
          "height": 102
        },
        "outputId": "a6e232b2-a603-40fa-8b43-058e37c3b22e"
      },
      "source": [
        "x = torch.empty(5, 3)\n",
        "print(x)"
      ],
      "execution_count": null,
      "outputs": [
        {
          "output_type": "stream",
          "text": [
            "tensor([[3.9094e-36, 0.0000e+00, 5.0447e-44],\n",
            "        [0.0000e+00,        nan, 0.0000e+00],\n",
            "        [1.3788e-14, 1.8369e+28, 1.9433e-19],\n",
            "        [3.3738e-12, 7.4086e+28, 6.9397e+22],\n",
            "        [1.7260e+25, 2.2856e+20, 5.0948e-14]])\n"
          ],
          "name": "stdout"
        }
      ]
    },
    {
      "cell_type": "markdown",
      "metadata": {
        "id": "T-O6j4z7o96u",
        "colab_type": "text"
      },
      "source": [
        "ランダムに初期化した値を入れたテンソルの作成。randメソッド。"
      ]
    },
    {
      "cell_type": "code",
      "metadata": {
        "id": "A8FJotKGohxj",
        "colab_type": "code",
        "colab": {
          "base_uri": "https://localhost:8080/",
          "height": 102
        },
        "outputId": "4c64043e-fb8c-404e-d777-88d08fd9a2e1"
      },
      "source": [
        "x = torch.rand(5, 3)\n",
        "print(x)"
      ],
      "execution_count": null,
      "outputs": [
        {
          "output_type": "stream",
          "text": [
            "tensor([[0.3082, 0.5270, 0.3674],\n",
            "        [0.4574, 0.6412, 0.5187],\n",
            "        [0.0847, 0.1587, 0.5561],\n",
            "        [0.0908, 0.5013, 0.0632],\n",
            "        [0.5202, 0.0063, 0.1726]])\n"
          ],
          "name": "stdout"
        }
      ]
    },
    {
      "cell_type": "markdown",
      "metadata": {
        "id": "CNUETvLOpSLO",
        "colab_type": "text"
      },
      "source": [
        "0で初期化したテンソルを作成するzerosメソッド。\n",
        "dtypeに0の型を指定できる。"
      ]
    },
    {
      "cell_type": "code",
      "metadata": {
        "id": "sIS4t2XQo9ZZ",
        "colab_type": "code",
        "colab": {
          "base_uri": "https://localhost:8080/",
          "height": 102
        },
        "outputId": "e8e4f8c1-6709-4cb8-cf02-007f7255423d"
      },
      "source": [
        "x = torch.zeros(5, 3, dtype=torch.long)\n",
        "print(x)"
      ],
      "execution_count": null,
      "outputs": [
        {
          "output_type": "stream",
          "text": [
            "tensor([[0, 0, 0],\n",
            "        [0, 0, 0],\n",
            "        [0, 0, 0],\n",
            "        [0, 0, 0],\n",
            "        [0, 0, 0]])\n"
          ],
          "name": "stdout"
        }
      ]
    },
    {
      "cell_type": "markdown",
      "metadata": {
        "id": "sus3Chwppoq1",
        "colab_type": "text"
      },
      "source": [
        "自分で初期値を指定してテンソルを作成するtensorメソッド。\n",
        "1階のテンソル（ベクトル）を作成。"
      ]
    },
    {
      "cell_type": "code",
      "metadata": {
        "id": "BiUccCG8pf0H",
        "colab_type": "code",
        "colab": {
          "base_uri": "https://localhost:8080/",
          "height": 34
        },
        "outputId": "63a67996-bfb1-411c-d32e-8a62ff9c1c0b"
      },
      "source": [
        "x = torch.tensor([5.5, 3])\n",
        "print(x)"
      ],
      "execution_count": null,
      "outputs": [
        {
          "output_type": "stream",
          "text": [
            "tensor([5.5000, 3.0000])\n"
          ],
          "name": "stdout"
        }
      ]
    },
    {
      "cell_type": "markdown",
      "metadata": {
        "id": "ZcLF83T0qAUl",
        "colab_type": "text"
      },
      "source": [
        "２階のテンソル（行列）を作成。\n",
        "行の間にカンマを忘れがち・・・"
      ]
    },
    {
      "cell_type": "code",
      "metadata": {
        "id": "xQhY7OONpx_n",
        "colab_type": "code",
        "colab": {
          "base_uri": "https://localhost:8080/",
          "height": 51
        },
        "outputId": "42f350aa-33ce-4d38-d870-59822a808f89"
      },
      "source": [
        "x = torch.tensor([[5.5, 3],\n",
        "                  [6.5, 4]])\n",
        "print(x)"
      ],
      "execution_count": null,
      "outputs": [
        {
          "output_type": "stream",
          "text": [
            "tensor([[5.5000, 3.0000],\n",
            "        [6.5000, 4.0000]])\n"
          ],
          "name": "stdout"
        }
      ]
    },
    {
      "cell_type": "markdown",
      "metadata": {
        "id": "neeeMxlKqa3U",
        "colab_type": "text"
      },
      "source": [
        "すでに作成したテンソルを再度定義し直す事もできます。\n",
        "その時、指定していないパラメータは以前のものを引き継ぎます。\n",
        "new_onesは1で埋めるメソッド。\n",
        "xを5×3の行列と定義して、1で埋めます。そして、それぞれのデータはdouble型(float64型)とx自身のメソッドで定義し直すことができます。"
      ]
    },
    {
      "cell_type": "code",
      "metadata": {
        "id": "hvf_bLBDp4rX",
        "colab_type": "code",
        "colab": {
          "base_uri": "https://localhost:8080/",
          "height": 102
        },
        "outputId": "2428f4f3-b433-4d92-e35e-9f25171665e3"
      },
      "source": [
        "x = x.new_ones(5, 3, dtype=torch.double) \n",
        "print(x)"
      ],
      "execution_count": null,
      "outputs": [
        {
          "output_type": "stream",
          "text": [
            "tensor([[1., 1., 1.],\n",
            "        [1., 1., 1.],\n",
            "        [1., 1., 1.],\n",
            "        [1., 1., 1.],\n",
            "        [1., 1., 1.]], dtype=torch.float64)\n"
          ],
          "name": "stdout"
        }
      ]
    },
    {
      "cell_type": "markdown",
      "metadata": {
        "id": "XkOnHGE2yShd",
        "colab_type": "text"
      },
      "source": [
        "テンソルをランダムな値で埋めて、データの型をfloat型に変更します。\n",
        "テンソルのサイズは指定されていないので、xの5×3がそのまま引き継がれます。"
      ]
    },
    {
      "cell_type": "code",
      "metadata": {
        "id": "dCbldjG_qmq3",
        "colab_type": "code",
        "colab": {
          "base_uri": "https://localhost:8080/",
          "height": 102
        },
        "outputId": "32faa0c4-021f-49e3-f3e5-cd3a4dc7c327"
      },
      "source": [
        "x = torch.randn_like(x, dtype=torch.float)\n",
        "print(x)  "
      ],
      "execution_count": null,
      "outputs": [
        {
          "output_type": "stream",
          "text": [
            "tensor([[ 0.2749, -0.7095, -1.1419],\n",
            "        [ 0.7068,  0.0535, -1.1837],\n",
            "        [ 0.4491, -0.9849, -1.7568],\n",
            "        [ 0.3122,  0.1760,  0.8036],\n",
            "        [ 1.1279,  1.2446, -1.9494]])\n"
          ],
          "name": "stdout"
        }
      ]
    },
    {
      "cell_type": "markdown",
      "metadata": {
        "id": "NGBRneG4ymu8",
        "colab_type": "text"
      },
      "source": [
        "numpyでいう「.shape」は、sizeメソッドになります。"
      ]
    },
    {
      "cell_type": "code",
      "metadata": {
        "id": "eCXIwo2wrLBX",
        "colab_type": "code",
        "colab": {
          "base_uri": "https://localhost:8080/",
          "height": 34
        },
        "outputId": "dcdb1ae7-9f9e-42f2-ebb1-4312369d7096"
      },
      "source": [
        "print(x.size())"
      ],
      "execution_count": null,
      "outputs": [
        {
          "output_type": "stream",
          "text": [
            "torch.Size([5, 3])\n"
          ],
          "name": "stdout"
        }
      ]
    },
    {
      "cell_type": "markdown",
      "metadata": {
        "id": "iRsluv8bzasy",
        "colab_type": "text"
      },
      "source": [
        "#テンソルの計算\n",
        "慣れないベクトル（テンソル）の計算・・・"
      ]
    },
    {
      "cell_type": "markdown",
      "metadata": {
        "id": "KbRu3yCX2LkN",
        "colab_type": "text"
      },
      "source": [
        "##足し算と引き算\n",
        "###スカラー ＋ ベクトル"
      ]
    },
    {
      "cell_type": "code",
      "metadata": {
        "id": "Ax8txgJjyroz",
        "colab_type": "code",
        "colab": {
          "base_uri": "https://localhost:8080/",
          "height": 51
        },
        "outputId": "54c77082-7ff6-4d57-d6c9-f74197522f00"
      },
      "source": [
        "x = 1\n",
        "y = torch.tensor([4,5])\n",
        "\n",
        "print(x)\n",
        "print(y)"
      ],
      "execution_count": null,
      "outputs": [
        {
          "output_type": "stream",
          "text": [
            "1\n",
            "tensor([4, 5])\n"
          ],
          "name": "stdout"
        }
      ]
    },
    {
      "cell_type": "markdown",
      "metadata": {
        "id": "QavYDTYW3y-P",
        "colab_type": "text"
      },
      "source": [
        "それぞれの要素にスカラーが足し合わされる。"
      ]
    },
    {
      "cell_type": "code",
      "metadata": {
        "id": "-rV6hFcGzfVc",
        "colab_type": "code",
        "colab": {
          "base_uri": "https://localhost:8080/",
          "height": 34
        },
        "outputId": "beec592d-7663-4277-eb71-30ec0963dd1c"
      },
      "source": [
        "print(x + y)"
      ],
      "execution_count": null,
      "outputs": [
        {
          "output_type": "stream",
          "text": [
            "tensor([5, 6])\n"
          ],
          "name": "stdout"
        }
      ]
    },
    {
      "cell_type": "markdown",
      "metadata": {
        "id": "RHsgH-Dw5DTa",
        "colab_type": "text"
      },
      "source": [
        "同じように、addメソッドでも足すことができます。"
      ]
    },
    {
      "cell_type": "code",
      "metadata": {
        "id": "c72h2X5R4_pE",
        "colab_type": "code",
        "colab": {
          "base_uri": "https://localhost:8080/",
          "height": 34
        },
        "outputId": "13c83841-40db-4b3d-9755-bd0fe1b01fa5"
      },
      "source": [
        "print(torch.add(x, y))"
      ],
      "execution_count": null,
      "outputs": [
        {
          "output_type": "stream",
          "text": [
            "tensor([5, 6])\n"
          ],
          "name": "stdout"
        }
      ]
    },
    {
      "cell_type": "markdown",
      "metadata": {
        "id": "bO9bA8pd5M-s",
        "colab_type": "text"
      },
      "source": [
        "「torch.add」では次のように出力を指定してテンソル同士を足し合わせる事もできます。"
      ]
    },
    {
      "cell_type": "code",
      "metadata": {
        "id": "s9yqZj4p5YSp",
        "colab_type": "code",
        "colab": {
          "base_uri": "https://localhost:8080/",
          "height": 34
        },
        "outputId": "74d2eb19-721b-478a-d886-64a08a75b063"
      },
      "source": [
        "result = torch.empty(1,2)\n",
        "torch.add(x, y, out=result)\n",
        "print(result)"
      ],
      "execution_count": null,
      "outputs": [
        {
          "output_type": "stream",
          "text": [
            "tensor([5., 6.])\n"
          ],
          "name": "stdout"
        }
      ]
    },
    {
      "cell_type": "markdown",
      "metadata": {
        "id": "MH0wPdSE5fZT",
        "colab_type": "text"
      },
      "source": [
        "同様に引き算です。"
      ]
    },
    {
      "cell_type": "code",
      "metadata": {
        "id": "QpnY13_k351s",
        "colab_type": "code",
        "colab": {
          "base_uri": "https://localhost:8080/",
          "height": 34
        },
        "outputId": "4f79d06d-fdb2-498e-f14d-48876058c600"
      },
      "source": [
        "print(x - y)"
      ],
      "execution_count": null,
      "outputs": [
        {
          "output_type": "stream",
          "text": [
            "tensor([-3, -4])\n"
          ],
          "name": "stdout"
        }
      ]
    },
    {
      "cell_type": "markdown",
      "metadata": {
        "id": "YLXsHiI735Zf",
        "colab_type": "text"
      },
      "source": [
        ""
      ]
    },
    {
      "cell_type": "markdown",
      "metadata": {
        "id": "7VHhTsro3ikh",
        "colab_type": "text"
      },
      "source": [
        "###ベクトル+ベクトル\n",
        "ベクトル同士の足し算、引き算は、同じサイズ同士である必要がある。"
      ]
    },
    {
      "cell_type": "code",
      "metadata": {
        "id": "PyeDw76fzliM",
        "colab_type": "code",
        "colab": {
          "base_uri": "https://localhost:8080/",
          "height": 51
        },
        "outputId": "e64261f1-2a19-4c02-e402-b257d4e8ecf2"
      },
      "source": [
        "x2 = torch.tensor([1,2,3])\n",
        "y2 = torch.tensor([4,5,6])\n",
        "\n",
        "print(x2)\n",
        "print(y2)"
      ],
      "execution_count": null,
      "outputs": [
        {
          "output_type": "stream",
          "text": [
            "tensor([1, 2, 3])\n",
            "tensor([4, 5, 6])\n"
          ],
          "name": "stdout"
        }
      ]
    },
    {
      "cell_type": "code",
      "metadata": {
        "id": "jX1GE8VB3p2X",
        "colab_type": "code",
        "colab": {
          "base_uri": "https://localhost:8080/",
          "height": 34
        },
        "outputId": "2932211c-2805-4f8b-ccd6-acbadbbbc4ed"
      },
      "source": [
        "print(x2 + y2)"
      ],
      "execution_count": null,
      "outputs": [
        {
          "output_type": "stream",
          "text": [
            "tensor([5, 7, 9])\n"
          ],
          "name": "stdout"
        }
      ]
    },
    {
      "cell_type": "code",
      "metadata": {
        "id": "0z7MYpMH3qzT",
        "colab_type": "code",
        "colab": {
          "base_uri": "https://localhost:8080/",
          "height": 34
        },
        "outputId": "ddd9c559-879f-44d4-a1b7-652f738abef1"
      },
      "source": [
        "print(x2 - y2)"
      ],
      "execution_count": null,
      "outputs": [
        {
          "output_type": "stream",
          "text": [
            "tensor([-3, -3, -3])\n"
          ],
          "name": "stdout"
        }
      ]
    },
    {
      "cell_type": "markdown",
      "metadata": {
        "id": "tVEpBWk54eH_",
        "colab_type": "text"
      },
      "source": [
        "サイズが違う場合エラー"
      ]
    },
    {
      "cell_type": "code",
      "metadata": {
        "id": "-4Ehb2BD4Y6h",
        "colab_type": "code",
        "colab": {
          "base_uri": "https://localhost:8080/",
          "height": 51
        },
        "outputId": "fab2a834-acb2-4f07-bd62-75d054bf2a5c"
      },
      "source": [
        "x2 = torch.tensor([1,2])\n",
        "y2 = torch.tensor([4,5,6])\n",
        "\n",
        "print(x2)\n",
        "print(y2)"
      ],
      "execution_count": null,
      "outputs": [
        {
          "output_type": "stream",
          "text": [
            "tensor([1, 2])\n",
            "tensor([4, 5, 6])\n"
          ],
          "name": "stdout"
        }
      ]
    },
    {
      "cell_type": "code",
      "metadata": {
        "id": "e27GFXhe4ibf",
        "colab_type": "code",
        "colab": {
          "base_uri": "https://localhost:8080/",
          "height": 168
        },
        "outputId": "296f16cc-4f33-4f99-9332-f3d2d375d492"
      },
      "source": [
        "print(x2 + y2)"
      ],
      "execution_count": null,
      "outputs": [
        {
          "output_type": "error",
          "ename": "RuntimeError",
          "evalue": "ignored",
          "traceback": [
            "\u001b[0;31m---------------------------------------------------------------------------\u001b[0m",
            "\u001b[0;31mRuntimeError\u001b[0m                              Traceback (most recent call last)",
            "\u001b[0;32m<ipython-input-46-cef4b7956b00>\u001b[0m in \u001b[0;36m<module>\u001b[0;34m()\u001b[0m\n\u001b[0;32m----> 1\u001b[0;31m \u001b[0mprint\u001b[0m\u001b[0;34m(\u001b[0m\u001b[0mx2\u001b[0m \u001b[0;34m+\u001b[0m \u001b[0my2\u001b[0m\u001b[0;34m)\u001b[0m\u001b[0;34m\u001b[0m\u001b[0;34m\u001b[0m\u001b[0m\n\u001b[0m",
            "\u001b[0;31mRuntimeError\u001b[0m: The size of tensor a (2) must match the size of tensor b (3) at non-singleton dimension 0"
          ]
        }
      ]
    },
    {
      "cell_type": "markdown",
      "metadata": {
        "id": "zvbgAzSz5kz7",
        "colab_type": "text"
      },
      "source": [
        "###行列の足し算引き算\n"
      ]
    },
    {
      "cell_type": "markdown",
      "metadata": {
        "id": "HnOSfj6B6Bdi",
        "colab_type": "text"
      },
      "source": [
        "スカラー、行列"
      ]
    },
    {
      "cell_type": "code",
      "metadata": {
        "id": "dIugs1AN4j4Q",
        "colab_type": "code",
        "colab": {
          "base_uri": "https://localhost:8080/",
          "height": 68
        },
        "outputId": "3c850f35-da9e-401e-831e-59ee7b736aea"
      },
      "source": [
        "x3 = 1\n",
        "y3 = torch.tensor([[1,2,3],\n",
        "                    [4,5,6]])\n",
        "\n",
        "print(x3)\n",
        "print(y3)"
      ],
      "execution_count": null,
      "outputs": [
        {
          "output_type": "stream",
          "text": [
            "1\n",
            "tensor([[1, 2, 3],\n",
            "        [4, 5, 6]])\n"
          ],
          "name": "stdout"
        }
      ]
    },
    {
      "cell_type": "code",
      "metadata": {
        "id": "8qw9IdX158bd",
        "colab_type": "code",
        "colab": {
          "base_uri": "https://localhost:8080/",
          "height": 51
        },
        "outputId": "70ffc2fe-9ccc-420a-f32c-1be7d7c5821d"
      },
      "source": [
        "print(x3 + y3)"
      ],
      "execution_count": null,
      "outputs": [
        {
          "output_type": "stream",
          "text": [
            "tensor([[2, 3, 4],\n",
            "        [5, 6, 7]])\n"
          ],
          "name": "stdout"
        }
      ]
    },
    {
      "cell_type": "markdown",
      "metadata": {
        "id": "3DnH-Btm6Eha",
        "colab_type": "text"
      },
      "source": [
        "ベクトル、行列\n",
        "行、または列が同じ"
      ]
    },
    {
      "cell_type": "code",
      "metadata": {
        "id": "mOXm92uq5-mc",
        "colab_type": "code",
        "colab": {
          "base_uri": "https://localhost:8080/",
          "height": 51
        },
        "outputId": "3a70bead-3339-4963-e9df-c48da3e4f5cd"
      },
      "source": [
        "x4 = torch.tensor([1,2,3])\n",
        "y4 = torch.tensor([[1,2,3],\n",
        "                    [4,5,6]])\n",
        "\n",
        "print(x4 + y4)"
      ],
      "execution_count": null,
      "outputs": [
        {
          "output_type": "stream",
          "text": [
            "tensor([[2, 4, 6],\n",
            "        [5, 7, 9]])\n"
          ],
          "name": "stdout"
        }
      ]
    },
    {
      "cell_type": "code",
      "metadata": {
        "id": "u2PPgtWj6U89",
        "colab_type": "code",
        "colab": {
          "base_uri": "https://localhost:8080/",
          "height": 51
        },
        "outputId": "059cee2e-842a-4a15-e1f2-f6a59dc16060"
      },
      "source": [
        "x5 = torch.tensor([[1],\n",
        "                    [2]])\n",
        "y5 = torch.tensor([[1,2,3],\n",
        "                    [4,5,6]])\n",
        "\n",
        "print(x5 + y5)"
      ],
      "execution_count": null,
      "outputs": [
        {
          "output_type": "stream",
          "text": [
            "tensor([[2, 3, 4],\n",
            "        [6, 7, 8]])\n"
          ],
          "name": "stdout"
        }
      ]
    },
    {
      "cell_type": "markdown",
      "metadata": {
        "id": "qwxVv5Th60yB",
        "colab_type": "text"
      },
      "source": [
        "###行列と行列"
      ]
    },
    {
      "cell_type": "code",
      "metadata": {
        "id": "pML8czm66x_M",
        "colab_type": "code",
        "colab": {
          "base_uri": "https://localhost:8080/",
          "height": 51
        },
        "outputId": "139222d1-6806-4bc6-ee6f-64132b8be3e6"
      },
      "source": [
        "x6 = torch.tensor([[1,2,3],\n",
        "                    [3,2,1]])\n",
        "y6 = torch.tensor([[1,2,3],\n",
        "                    [3,2,1]])\n",
        "\n",
        "print(x6 + y6)"
      ],
      "execution_count": null,
      "outputs": [
        {
          "output_type": "stream",
          "text": [
            "tensor([[2, 4, 6],\n",
            "        [6, 4, 2]])\n"
          ],
          "name": "stdout"
        }
      ]
    },
    {
      "cell_type": "markdown",
      "metadata": {
        "id": "zbvhMYMZ7z9_",
        "colab_type": "text"
      },
      "source": [
        "上書きして足し合わせる場合、次のような表記方法も可能です。\n",
        "\n",
        "add_メソッド"
      ]
    },
    {
      "cell_type": "code",
      "metadata": {
        "id": "MsOB7kXM7QMM",
        "colab_type": "code",
        "colab": {
          "base_uri": "https://localhost:8080/",
          "height": 51
        },
        "outputId": "3e116b0b-8945-4f62-aef0-06bc537340ea"
      },
      "source": [
        "y6.add_(x6)\n",
        "print(y6)"
      ],
      "execution_count": null,
      "outputs": [
        {
          "output_type": "stream",
          "text": [
            "tensor([[2, 4, 6],\n",
            "        [6, 4, 2]])\n"
          ],
          "name": "stdout"
        }
      ]
    },
    {
      "cell_type": "markdown",
      "metadata": {
        "id": "yvvFLYNX79nn",
        "colab_type": "text"
      },
      "source": [
        "y6に、x6とy6を足した結果が代入されました。"
      ]
    },
    {
      "cell_type": "markdown",
      "metadata": {
        "id": "bApjrm098Obe",
        "colab_type": "text"
      },
      "source": [
        "numpyのスライス表記のようにテンソルの要素を取り出すことができます。"
      ]
    },
    {
      "cell_type": "code",
      "metadata": {
        "id": "rDYwYxVF78c5",
        "colab_type": "code",
        "colab": {
          "base_uri": "https://localhost:8080/",
          "height": 34
        },
        "outputId": "91a4d611-e72f-4534-8b40-48789dc27cbe"
      },
      "source": [
        "print(y6[:,0])"
      ],
      "execution_count": null,
      "outputs": [
        {
          "output_type": "stream",
          "text": [
            "tensor([2, 6])\n"
          ],
          "name": "stdout"
        }
      ]
    },
    {
      "cell_type": "markdown",
      "metadata": {
        "id": "WaI1Rhcp8l1d",
        "colab_type": "text"
      },
      "source": [
        "y6から、1列目の全ての行を取り出しました。"
      ]
    },
    {
      "cell_type": "markdown",
      "metadata": {
        "id": "44bGTai29EPN",
        "colab_type": "text"
      },
      "source": [
        "##テンソルのサイズ変更"
      ]
    },
    {
      "cell_type": "code",
      "metadata": {
        "id": "u6oqxUzS8foo",
        "colab_type": "code",
        "colab": {
          "base_uri": "https://localhost:8080/",
          "height": 34
        },
        "outputId": "f43af08f-2ccd-4a9c-95f9-83e7c4156f74"
      },
      "source": [
        "x = torch.randn(4, 4)\n",
        "y = x.view(16)\n",
        "z = x.view(-1, 8)  # the size -1 is inferred from other dimensions\n",
        "print(x.size(), y.size(), z.size())"
      ],
      "execution_count": null,
      "outputs": [
        {
          "output_type": "stream",
          "text": [
            "torch.Size([4, 4]) torch.Size([16]) torch.Size([2, 8])\n"
          ],
          "name": "stdout"
        }
      ]
    },
    {
      "cell_type": "markdown",
      "metadata": {
        "id": "bjRn8fk09Na8",
        "colab_type": "text"
      },
      "source": [
        "zに指定した-1は、他の要素から推定されるという意味です。例えば、列が8になると、もともとxには16個のデータ（4×4）しかないので、２行になるので、　-1は自動的に2を入れることになります。\n",
        "\n",
        "次のように、要素数に矛盾が生じる場合、エラーになります。"
      ]
    },
    {
      "cell_type": "code",
      "metadata": {
        "id": "Fy-3LJjI9K9o",
        "colab_type": "code",
        "colab": {
          "base_uri": "https://localhost:8080/",
          "height": 168
        },
        "outputId": "25988845-3e12-473f-e6ca-3e85eb99e933"
      },
      "source": [
        "y = x.view(15)"
      ],
      "execution_count": null,
      "outputs": [
        {
          "output_type": "error",
          "ename": "RuntimeError",
          "evalue": "ignored",
          "traceback": [
            "\u001b[0;31m---------------------------------------------------------------------------\u001b[0m",
            "\u001b[0;31mRuntimeError\u001b[0m                              Traceback (most recent call last)",
            "\u001b[0;32m<ipython-input-66-cb34f672ef4f>\u001b[0m in \u001b[0;36m<module>\u001b[0;34m()\u001b[0m\n\u001b[0;32m----> 1\u001b[0;31m \u001b[0my\u001b[0m \u001b[0;34m=\u001b[0m \u001b[0mx\u001b[0m\u001b[0;34m.\u001b[0m\u001b[0mview\u001b[0m\u001b[0;34m(\u001b[0m\u001b[0;36m15\u001b[0m\u001b[0;34m)\u001b[0m\u001b[0;34m\u001b[0m\u001b[0;34m\u001b[0m\u001b[0m\n\u001b[0m",
            "\u001b[0;31mRuntimeError\u001b[0m: shape '[15]' is invalid for input of size 16"
          ]
        }
      ]
    },
    {
      "cell_type": "markdown",
      "metadata": {
        "id": "79C8GMNF-AGz",
        "colab_type": "text"
      },
      "source": [
        "1要素のみのテンソルをitemメソッドでPythonの数値として取り出すことができるそうです。"
      ]
    },
    {
      "cell_type": "code",
      "metadata": {
        "id": "AW5vyTpC9joG",
        "colab_type": "code",
        "colab": {
          "base_uri": "https://localhost:8080/",
          "height": 51
        },
        "outputId": "f2bdae8a-227c-43ee-c24c-39ca67c2889b"
      },
      "source": [
        "x = torch.randn(1)\n",
        "print(x)\n",
        "print(x.item())"
      ],
      "execution_count": null,
      "outputs": [
        {
          "output_type": "stream",
          "text": [
            "tensor([-0.9216])\n",
            "-0.9215939044952393\n"
          ],
          "name": "stdout"
        }
      ]
    },
    {
      "cell_type": "markdown",
      "metadata": {
        "id": "uXLL5l0--Vza",
        "colab_type": "text"
      },
      "source": [
        "使い所が不明だったので、少し調べたところ、平均を取り出す時に使いそうです。\n",
        "ちなみに、meanを利用することで、テンソルの平均値が取り出せるそうです。"
      ]
    },
    {
      "cell_type": "code",
      "metadata": {
        "id": "RKm4eXqY9xXF",
        "colab_type": "code",
        "colab": {
          "base_uri": "https://localhost:8080/",
          "height": 51
        },
        "outputId": "d2a2cb22-3844-47e9-ddd3-424f353e5165"
      },
      "source": [
        "x = torch.tensor([5.0, 4.0, 3.0])\n",
        "average = x.mean()\n",
        "print(average)\n",
        "\n",
        "print(average.item())"
      ],
      "execution_count": null,
      "outputs": [
        {
          "output_type": "stream",
          "text": [
            "tensor(4.)\n",
            "4.0\n"
          ],
          "name": "stdout"
        }
      ]
    },
    {
      "cell_type": "markdown",
      "metadata": {
        "id": "Zwj1zHM2-IVq",
        "colab_type": "text"
      },
      "source": [
        "他にも、たくさんの構文があるので、こちらで確認してね、というチュートリアルになっています・・・"
      ]
    },
    {
      "cell_type": "markdown",
      "metadata": {
        "id": "wTtsVxX-_WFB",
        "colab_type": "text"
      },
      "source": [
        "#NumPy←→PyTorch\n",
        "###PyTorchのtensor型をnumpy配列に変換"
      ]
    },
    {
      "cell_type": "code",
      "metadata": {
        "id": "RHzDgbvm_nWZ",
        "colab_type": "code",
        "colab": {
          "base_uri": "https://localhost:8080/",
          "height": 34
        },
        "outputId": "64da95de-fee4-4950-f703-a08de247c7b1"
      },
      "source": [
        "a = torch.ones(5)\n",
        "print(a)"
      ],
      "execution_count": null,
      "outputs": [
        {
          "output_type": "stream",
          "text": [
            "tensor([1., 1., 1., 1., 1.])\n"
          ],
          "name": "stdout"
        }
      ]
    },
    {
      "cell_type": "code",
      "metadata": {
        "id": "3g_o0GYW_ph6",
        "colab_type": "code",
        "colab": {
          "base_uri": "https://localhost:8080/",
          "height": 34
        },
        "outputId": "fd717438-882d-48d6-c186-cce632e79fff"
      },
      "source": [
        "b = a.numpy()\n",
        "print(b)"
      ],
      "execution_count": null,
      "outputs": [
        {
          "output_type": "stream",
          "text": [
            "[1. 1. 1. 1. 1.]\n"
          ],
          "name": "stdout"
        }
      ]
    },
    {
      "cell_type": "markdown",
      "metadata": {
        "id": "5jJAlpsl_xxM",
        "colab_type": "text"
      },
      "source": [
        "tensorからnumpyに変換したものは、連動しているみたいです。"
      ]
    },
    {
      "cell_type": "code",
      "metadata": {
        "id": "0UsCEhMe_wQP",
        "colab_type": "code",
        "colab": {
          "base_uri": "https://localhost:8080/",
          "height": 51
        },
        "outputId": "b53bc839-a33c-4fcf-9869-1c6cd6916aea"
      },
      "source": [
        "a.add_(1)\n",
        "print(a)\n",
        "print(b)"
      ],
      "execution_count": null,
      "outputs": [
        {
          "output_type": "stream",
          "text": [
            "tensor([2., 2., 2., 2., 2.])\n",
            "[2. 2. 2. 2. 2.]\n"
          ],
          "name": "stdout"
        }
      ]
    },
    {
      "cell_type": "markdown",
      "metadata": {
        "id": "Ef9NAZtY_6L3",
        "colab_type": "text"
      },
      "source": [
        "###Numpy配列をPyTorchのtensor型に変換"
      ]
    },
    {
      "cell_type": "code",
      "metadata": {
        "id": "3NTOxfusAF7M",
        "colab_type": "code",
        "colab": {
          "base_uri": "https://localhost:8080/",
          "height": 51
        },
        "outputId": "638ed52f-dc4b-4f53-cace-af9411e559ec"
      },
      "source": [
        "import numpy as np\n",
        "a = np.ones(5)\n",
        "b = torch.from_numpy(a)\n",
        "np.add(a, 1, out=a)\n",
        "print(a)\n",
        "print(b)"
      ],
      "execution_count": null,
      "outputs": [
        {
          "output_type": "stream",
          "text": [
            "[2. 2. 2. 2. 2.]\n",
            "tensor([2., 2., 2., 2., 2.], dtype=torch.float64)\n"
          ],
          "name": "stdout"
        }
      ]
    },
    {
      "cell_type": "markdown",
      "metadata": {
        "id": "_md2g5bG-Tka",
        "colab_type": "text"
      },
      "source": [
        ""
      ]
    },
    {
      "cell_type": "code",
      "metadata": {
        "id": "Bfzw9fzOoVKA",
        "colab_type": "code",
        "colab": {}
      },
      "source": [
        ""
      ],
      "execution_count": null,
      "outputs": []
    },
    {
      "cell_type": "markdown",
      "metadata": {
        "id": "KfZ7V96nAjCq",
        "colab_type": "text"
      },
      "source": [
        "CUDAというNVIDIAのGPU並列処理する仕組みを利用して、CUDAで処理できるようなメソッドが「.to」とのことです。CUDA環境ではないので、実行できませんでしたが、簡単にGPUでテンソルを処理するのか、CPUで処理するのかが記載できます。"
      ]
    },
    {
      "cell_type": "code",
      "metadata": {
        "id": "pUf7pF1HA1rt",
        "colab_type": "code",
        "colab": {}
      },
      "source": [
        "if torch.cuda.is_available():\n",
        "    device = torch.device(\"cuda\")          # a CUDA device object\n",
        "    y = torch.ones_like(x, device=device)  # directly create a tensor on GPU\n",
        "    x = x.to(device)                       # or just use strings ``.to(\"cuda\")``\n",
        "    z = x + y\n",
        "    print(z)\n",
        "    print(z.to(\"cpu\", torch.double))       # ``.to`` can also change dtype together!"
      ],
      "execution_count": null,
      "outputs": []
    },
    {
      "cell_type": "code",
      "metadata": {
        "id": "oNlYg8XNA1-w",
        "colab_type": "code",
        "colab": {}
      },
      "source": [
        ""
      ],
      "execution_count": null,
      "outputs": []
    }
  ]
}