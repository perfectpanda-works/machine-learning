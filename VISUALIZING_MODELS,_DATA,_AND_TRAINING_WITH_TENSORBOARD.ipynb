{
  "nbformat": 4,
  "nbformat_minor": 0,
  "metadata": {
    "colab": {
      "name": "VISUALIZING MODELS, DATA, AND TRAINING WITH TENSORBOARD.ipynb",
      "provenance": [],
      "collapsed_sections": [],
      "authorship_tag": "ABX9TyPzIUmf977NJBYeUl6qcUqf",
      "include_colab_link": true
    },
    "kernelspec": {
      "name": "python3",
      "display_name": "Python 3"
    },
    "accelerator": "GPU"
  },
  "cells": [
    {
      "cell_type": "markdown",
      "metadata": {
        "id": "view-in-github",
        "colab_type": "text"
      },
      "source": [
        "<a href=\"https://colab.research.google.com/github/perfectpanda-works/machine-learning/blob/master/VISUALIZING_MODELS%2C_DATA%2C_AND_TRAINING_WITH_TENSORBOARD.ipynb\" target=\"_parent\"><img src=\"https://colab.research.google.com/assets/colab-badge.svg\" alt=\"Open In Colab\"/></a>"
      ]
    },
    {
      "cell_type": "markdown",
      "metadata": {
        "id": "ecR6oNhVG_tK",
        "colab_type": "text"
      },
      "source": [
        "#Anaconda環境、JupyterNotebook実行用"
      ]
    },
    {
      "cell_type": "code",
      "metadata": {
        "id": "Bv_Qg7KpGVK7",
        "colab_type": "code",
        "colab": {}
      },
      "source": [
        "# imports\n",
        "import matplotlib.pyplot as plt\n",
        "import numpy as np\n",
        "\n",
        "import torch\n",
        "import torchvision\n",
        "import torchvision.transforms as transforms\n",
        "\n",
        "#functionalはas F とするのが一般的\n",
        "import torch.nn as nn\n",
        "import torch.nn.functional as F\n",
        "import torch.optim as optim\n",
        "\n",
        "#データを-1~1の範囲にノーマライズ（MNISTのため１チャンネル画像）\n",
        "transform = transforms.Compose(\n",
        "    [transforms.ToTensor(),\n",
        "    transforms.Normalize((0.5,), (0.5,))])\n",
        "\n",
        "#FashionMNISTデータセット\n",
        "trainset = torchvision.datasets.FashionMNIST('./data',\n",
        "    download=True,\n",
        "    train=True,\n",
        "    transform=transform)\n",
        "testset = torchvision.datasets.FashionMNIST('./data',\n",
        "    download=True,\n",
        "    train=False,\n",
        "    transform=transform)\n",
        "\n",
        "#データローダー、バッチサイズは４とする。\n",
        "trainloader = torch.utils.data.DataLoader(trainset, batch_size=4,\n",
        "                                        shuffle=True, num_workers=2)\n",
        "\n",
        "\n",
        "testloader = torch.utils.data.DataLoader(testset, batch_size=4,\n",
        "                                        shuffle=False, num_workers=2)\n",
        "\n",
        "#答え（ラベル）の定義\n",
        "classes = ('T-shirt/top', 'Trouser', 'Pullover', 'Dress', 'Coat',\n",
        "        'Sandal', 'Shirt', 'Sneaker', 'Bag', 'Ankle Boot')"
      ],
      "execution_count": null,
      "outputs": []
    },
    {
      "cell_type": "code",
      "metadata": {
        "id": "iCyka6hNGxsL",
        "colab_type": "code",
        "colab": {
          "base_uri": "https://localhost:8080/",
          "height": 34
        },
        "outputId": "33700195-5fe3-424a-f97f-80f7eda2e2bc"
      },
      "source": [
        "# FashionMNISTの画像確認用関数\n",
        "def matplotlib_imshow(img, one_channel=False):\n",
        "    if one_channel:\n",
        "        img = img.mean(dim=0)\n",
        "    img = img / 2 + 0.5     # unnormalize\n",
        "    npimg = img.numpy()\n",
        "    if one_channel:\n",
        "        plt.imshow(npimg, cmap=\"Greys\")\n",
        "    else:\n",
        "        plt.imshow(np.transpose(npimg, (1, 2, 0)))\n",
        "\n",
        "class Net(nn.Module):\n",
        "    def __init__(self):\n",
        "        super(Net, self).__init__()\n",
        "        #一番最初の畳み込み層の入力チャンネルが１になっている。\n",
        "        self.conv1 = nn.Conv2d(1, 6, 5)\n",
        "        self.pool = nn.MaxPool2d(2, 2)\n",
        "        self.conv2 = nn.Conv2d(6, 16, 5)\n",
        "        #全結合層の入力時には、画像が16チャンネルの4×4画像となっているので「4×4」に変更しています。\n",
        "        #（画像サイズはforwardメソッドに記載）\n",
        "        self.fc1 = nn.Linear(16 * 4 * 4, 120)\n",
        "        self.fc2 = nn.Linear(120, 84)\n",
        "        self.fc3 = nn.Linear(84, 10)\n",
        "\n",
        "    def forward(self, x):\n",
        "        #Conv①：6チャンネルの24×24画像→MaxPool：12×12画像\n",
        "        x = self.pool(F.relu(self.conv1(x)))\n",
        "        #Conv②：16チャンネルの8×8画像に→MaxPool：4×4画像\n",
        "        x = self.pool(F.relu(self.conv2(x)))\n",
        "        #全結合層に入力するためには、１画像のデータを全て横並びにする。\n",
        "        #行が画像枚数、列が4×4の16チャンネルの画像ピクセルデータが横並びになったデータ\n",
        "        x = x.view(-1, 16 * 4 * 4)\n",
        "        x = F.relu(self.fc1(x))\n",
        "        x = F.relu(self.fc2(x))\n",
        "        x = self.fc3(x)\n",
        "        return x\n",
        "\n",
        "net = Net()"
      ],
      "execution_count": null,
      "outputs": [
        {
          "output_type": "stream",
          "text": [
            "\n"
          ],
          "name": "stdout"
        }
      ]
    },
    {
      "cell_type": "code",
      "metadata": {
        "id": "JKTvGpoTP580",
        "colab_type": "code",
        "colab": {}
      },
      "source": [
        "criterion = nn.CrossEntropyLoss()\n",
        "optimizer = optim.SGD(net.parameters(), lr=0.001, momentum=0.9)"
      ],
      "execution_count": null,
      "outputs": []
    },
    {
      "cell_type": "markdown",
      "metadata": {
        "id": "uiHOo0LSIXZf",
        "colab_type": "text"
      },
      "source": [
        "#１．TensorBoardのセットアップ"
      ]
    },
    {
      "cell_type": "code",
      "metadata": {
        "id": "ySfvWRC2I4ul",
        "colab_type": "code",
        "colab": {
          "base_uri": "https://localhost:8080/",
          "height": 51
        },
        "outputId": "02aa8b79-10cc-444f-efe7-82b3c0f38633"
      },
      "source": [
        "from torch.utils.tensorboard import SummaryWriter\n",
        "\n",
        "# default `log_dir` is \"runs\" - we'll be more specific here\n",
        "writer = SummaryWriter('runs/fashion_mnist_experiment_1')"
      ],
      "execution_count": null,
      "outputs": [
        {
          "output_type": "stream",
          "text": [
            "\n",
            "\n"
          ],
          "name": "stdout"
        }
      ]
    },
    {
      "cell_type": "markdown",
      "metadata": {
        "id": "JCiXaUF4MYBn",
        "colab_type": "text"
      },
      "source": [
        "#２．TensorBoardへの書き込み"
      ]
    },
    {
      "cell_type": "code",
      "metadata": {
        "id": "odXw9IlZJLrA",
        "colab_type": "code",
        "colab": {
          "base_uri": "https://localhost:8080/",
          "height": 138
        },
        "outputId": "f10366f8-4532-4f64-c2e2-a6b18ebc1e2d"
      },
      "source": [
        "#trainloaderのイテレータを取得\n",
        "dataiter = iter(trainloader)\n",
        "#イテレータでミニバッチ（画像４枚）を取得\n",
        "images, labels = dataiter.next()\n",
        "\n",
        "#make_grid関数で画像を書き込み、並べて表示できる\n",
        "img_grid = torchvision.utils.make_grid(images)\n",
        "\n",
        "#matplotlibで先ほどmake_gridで並べた画像を表示する。\n",
        "matplotlib_imshow(img_grid, one_channel=True)\n",
        "\n",
        "#tensorboardに並べた４枚の画像を書き込む。\n",
        "writer.add_image('four_fashion_mnist_images', img_grid)"
      ],
      "execution_count": null,
      "outputs": [
        {
          "output_type": "display_data",
          "data": {
            "image/png": "[encoded data removed]",
            "text/plain": [
              "<Figure size 432x288 with 1 Axes>"
            ]
          },
          "metadata": {
            "tags": [],
            "needs_background": "light"
          }
        }
      ]
    },
    {
      "cell_type": "markdown",
      "metadata": {
        "id": "-vZgPmDCUJ7O",
        "colab_type": "text"
      },
      "source": [
        "\n",
        "#３．TensorBoardを使用してモデルを検査する"
      ]
    },
    {
      "cell_type": "code",
      "metadata": {
        "id": "022VWwrudgMX",
        "colab_type": "code",
        "colab": {}
      },
      "source": [
        "writer.add_graph(net, images)\n",
        "writer.close()"
      ],
      "execution_count": null,
      "outputs": []
    },
    {
      "cell_type": "markdown",
      "metadata": {
        "id": "cRazX4Rlk6Vh",
        "colab_type": "text"
      },
      "source": [
        "#４．「Projector」を追加する"
      ]
    },
    {
      "cell_type": "code",
      "metadata": {
        "id": "QXZhK1AiNW5z",
        "colab_type": "code",
        "colab": {}
      },
      "source": [
        "#①追加のプログラム=============================\n",
        "#TensorFlowパッケージが存在してしまっている場合は\n",
        "#以下プログラムで一時しのぎが可能\n",
        "#import tensorflow as tf\n",
        "#import tensorboard as tb\n",
        "#tf.io.gfile = tb.compat.tensorflow_stub.io.gfile\n",
        "#===============================================\n",
        "\n",
        "#ヘルパー関数\n",
        "def select_n_random(data, labels, n=100):\n",
        "    '''\n",
        "    Selects n random datapoints and their corresponding labels from a dataset\n",
        "    '''\n",
        "    assert len(data) == len(labels)\n",
        "\n",
        "    perm = torch.randperm(len(data))\n",
        "    return data[perm][:n], labels[perm][:n]\n",
        "\n",
        "# select random images and their target indices\n",
        "images, labels = select_n_random(trainset.data, trainset.targets)\n",
        "\n",
        "# get the class labels for each image\n",
        "class_labels = [classes[lab] for lab in labels]\n",
        "\n",
        "# log embeddings\n",
        "features = images.view(-1, 28 * 28)\n",
        "writer.add_embedding(features,\n",
        "                    metadata=class_labels,\n",
        "                    label_img=images.unsqueeze(1))\n",
        "writer.close()"
      ],
      "execution_count": null,
      "outputs": []
    },
    {
      "cell_type": "markdown",
      "metadata": {
        "id": "jVEVY8m2PURp",
        "colab_type": "text"
      },
      "source": [
        "ここで出るエラーについては以下を参考にしました。\n",
        "\n",
        "https://github.com/pytorch/pytorch/issues/30966"
      ]
    },
    {
      "cell_type": "markdown",
      "metadata": {
        "id": "9rLVhHyvG5eV",
        "colab_type": "text"
      },
      "source": [
        "##macでの階層指定\n",
        "ターミナルでtensorboardを起動します。私のmac環境では、「/Python」の階層にJupyterノートを配置しています。そのため、コマンドのlogdirを次のように指定したらうまく動作しました。\n",
        "\n",
        "tensorboard --logdir=/Python/runs\n",
        "\n",
        "##windowsでの階層指定\n",
        "AnacondaPromptでTensorBoardを起動します。私のwindows環境では、「C:\\Users\\ユーザー名（任意）\\Python」階層にJupyterノートブックのPythonプログラムを保存しています。そのため、以下のようにlogdirを指定するとうまくいきました。\n",
        "\n",
        "tensorboard --logdir=C:\\Users\\ユーザー名（任意）\\Python\\runs\n",
        "\n",
        "##TensorBoardへのアクセス\n",
        "\n",
        "ブラウザにて、\n",
        "\n",
        "http://localhost:6006/\n",
        "\n",
        "を入力してTensorBoardにアクセス。"
      ]
    },
    {
      "cell_type": "markdown",
      "metadata": {
        "id": "8YWu3ZxhlbJh",
        "colab_type": "text"
      },
      "source": [
        "#５. 訓練のトラッキングをする"
      ]
    },
    {
      "cell_type": "code",
      "metadata": {
        "id": "oF3XlKV1lTsT",
        "colab_type": "code",
        "colab": {}
      },
      "source": [
        "#ヘルパー関数\n",
        "def images_to_probs(net, images):\n",
        "    '''\n",
        "    ニューラルネットに画像を入れて、予測を行い、出力である確率を取得します。\n",
        "    '''\n",
        "    output = net(images)\n",
        "    #ニューラルネットの出力で最大の値の確率値を取得\n",
        "    _, preds_tensor = torch.max(output, 1)\n",
        "    preds = np.squeeze(preds_tensor.numpy())#tensorからnumpyに\n",
        "    return preds, [F.softmax(el, dim=0)[i].item() for i, el in zip(preds, output)]\n",
        "\n",
        "\n",
        "def plot_classes_preds(net, images, labels):\n",
        "    '''\n",
        "    「images_to_probs」関数の予測値に、matplotlibの図を生成し加えます。\n",
        "    '''\n",
        "    preds, probs = images_to_probs(net, images)\n",
        "    #予測と正解を一緒にしてミニバッチのデータをプロットします。\n",
        "    fig = plt.figure(figsize=(12, 48))\n",
        "    for idx in np.arange(4):\n",
        "        ax = fig.add_subplot(1, 4, idx+1, xticks=[], yticks=[])\n",
        "        matplotlib_imshow(images[idx], one_channel=True)\n",
        "        ax.set_title(\"{0}, {1:.1f}%\\n(label: {2})\".format(\n",
        "            classes[preds[idx]],\n",
        "            probs[idx] * 100.0,\n",
        "            classes[labels[idx]]),\n",
        "                    color=(\"green\" if preds[idx]==labels[idx].item() else \"red\"))\n",
        "    return fig"
      ],
      "execution_count": null,
      "outputs": []
    },
    {
      "cell_type": "code",
      "metadata": {
        "id": "YG3djVYI9ioj",
        "colab_type": "code",
        "colab": {}
      },
      "source": [
        "device = torch.device(\"cuda:0\" if torch.cuda.is_available() else \"cpu\")\n",
        "net.to(device)\n",
        "#net.cpu()#CPU利用\n",
        "\n",
        "criterion = nn.CrossEntropyLoss()\n",
        "optimizer = optim.SGD(net.parameters(), lr=0.001, momentum=0.9)"
      ],
      "execution_count": null,
      "outputs": []
    },
    {
      "cell_type": "markdown",
      "metadata": {
        "id": "0burVtBTkX5W",
        "colab_type": "text"
      },
      "source": [
        "最後に、前のチュートリアルと同じモデルトレーニングコードを使用してモデルをトレーニングしますが、コンソールに出力するのではなく、1000バッチごとに結果をTensorBoardに書き込みます。これは、add_scalar関数を使用して行われます。\n",
        "\n",
        "さらに、トレーニング中に、モデルの予測と、そのバッチに含まれる4つの画像の実際の結果を示す画像を生成します。"
      ]
    },
    {
      "cell_type": "code",
      "metadata": {
        "id": "-v7-UucOljA9",
        "colab_type": "code",
        "colab": {}
      },
      "source": [
        "running_loss = 0.0\n",
        "\n",
        "#訓練ループ\n",
        "for epoch in range(1):\n",
        "\n",
        "    #ミニバッチループ\n",
        "    for i, data in enumerate(trainloader, 0):\n",
        "\n",
        "        #入力データ。「data」は [inputs, labels]のリスト。\n",
        "        #【GPU】\n",
        "        #inputs, labels = data[0].to(device) , data[1].to(device)\n",
        "        #【CPU】\n",
        "        inputs, labels = data#CPU\n",
        "\n",
        "        #勾配の初期化\n",
        "        optimizer.zero_grad()\n",
        "\n",
        "        #順伝播、誤差計算、逆伝播、最適化を行います。\n",
        "        outputs = net(inputs)\n",
        "        loss = criterion(outputs, labels)\n",
        "        loss.backward()\n",
        "        optimizer.step()\n",
        "\n",
        "        #損失の計算を行い、変数「runnning_loss」に累積\n",
        "        running_loss += loss.item()\n",
        "        if i % 1000 == 999:    #1000ミニバッチ毎に処理(画像4000枚ごと)\n",
        "\n",
        "            #TensorBoardに1000ミニバッチの損失平均を書き込みます\n",
        "            #add_scalarには、「データ名」「Y軸データの値」「X軸データ」で与えています。\n",
        "            #X軸のデータとして、ミニバッチ数を計算しています。\n",
        "            writer.add_scalar('training loss',\n",
        "                            running_loss / 1000,\n",
        "                            epoch * len(trainloader) + i)\n",
        "\n",
        "            #「predictions vs. actuals」を作成します。\n",
        "            #1000ミニバッチ毎にひとつのミニバッチの正解を視覚的に表示します。\n",
        "            writer.add_figure('predictions vs. actuals',\n",
        "                            #【GPU】\n",
        "                            #plot_classes_preds(net.cpu(), inputs.cpu(), labels.cpu()),#GPU利用時ここではCPUで処理\n",
        "                            #【CPU】\n",
        "                            plot_classes_preds(net, inputs, labels),\n",
        "                            global_step=epoch * len(trainloader) + i)\n",
        "            \n",
        "            #【GPU】\n",
        "            #net.cuda(), inputs.cuda(), labels.cuda()\n",
        "            print(\"チェックポイント\")\n",
        "            #「running_loss」変数の初期化\n",
        "            running_loss = 0.0\n",
        "print('Finished Training')"
      ],
      "execution_count": null,
      "outputs": []
    },
    {
      "cell_type": "markdown",
      "metadata": {
        "id": "KMQ-lbl_kbn5",
        "colab_type": "text"
      },
      "source": [
        "これで、スカラータブを見て、トレーニングの15,000回の反復にわたってプロットされたランニングロスを確認できます。\n",
        "\n",
        "さらに、学習を通じてモデルが任意のバッチで行った予測を確認できます。これを確認するには、「画像」タブを表示し、「予測vs実績」ビジュアライゼーションの下にスクロールしてください。これは、たとえば、わずか3000回のトレーニングを繰り返しただけで、モデルはシャツ、スニーカー、コートなどの視覚的に区別できるクラスをすでに区別できたことを示していますが、トレーニングの後半ほどは確信が持てません。\n",
        "\n",
        "前のチュートリアルでは、モデルがトレーニングされた後、クラスごとの精度を調べました。ここでは、TensorBoardを使用して、各クラスの精度-再現率曲線（ここで適切な説明）をプロットします。"
      ]
    },
    {
      "cell_type": "markdown",
      "metadata": {
        "id": "B8MhB1_nkiz0",
        "colab_type": "text"
      },
      "source": [
        "#６．TensorBoardでモデルを評価する"
      ]
    },
    {
      "cell_type": "code",
      "metadata": {
        "id": "wnQS6Rnekb93",
        "colab_type": "code",
        "colab": {}
      },
      "source": [
        "# 1. gets the probability predictions in a test_size x num_classes Tensor\n",
        "# 2. gets the preds in a test_size Tensor\n",
        "# takes ~10 seconds to run\n",
        "class_probs = []\n",
        "class_preds = []\n",
        "with torch.no_grad():\n",
        "    for data in testloader:\n",
        "        images, labels = data\n",
        "        output = net(images)\n",
        "        class_probs_batch = [F.softmax(el, dim=0) for el in output]\n",
        "        _, class_preds_batch = torch.max(output, 1)\n",
        "\n",
        "        class_probs.append(class_probs_batch)\n",
        "        class_preds.append(class_preds_batch)\n",
        "\n",
        "test_probs = torch.cat([torch.stack(batch) for batch in class_probs])\n",
        "test_preds = torch.cat(class_preds)\n",
        "\n",
        "# helper function\n",
        "def add_pr_curve_tensorboard(class_index, test_probs, test_preds, global_step=0):\n",
        "    '''\n",
        "    Takes in a \"class_index\" from 0 to 9 and plots the corresponding\n",
        "    precision-recall curve\n",
        "    '''\n",
        "    tensorboard_preds = test_preds == class_index\n",
        "    tensorboard_probs = test_probs[:, class_index]\n",
        "\n",
        "    writer.add_pr_curve(classes[class_index],\n",
        "                        tensorboard_preds,\n",
        "                        tensorboard_probs,\n",
        "                        global_step=global_step)\n",
        "    writer.close()\n",
        "\n",
        "# plot all the pr curves\n",
        "for i in range(len(classes)):\n",
        "    add_pr_curve_tensorboard(i, test_probs, test_preds)"
      ],
      "execution_count": null,
      "outputs": []
    }
  ]
}