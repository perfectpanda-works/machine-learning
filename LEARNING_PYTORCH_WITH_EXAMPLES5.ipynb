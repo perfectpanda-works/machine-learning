{
  "nbformat": 4,
  "nbformat_minor": 0,
  "metadata": {
    "colab": {
      "name": "LEARNING PYTORCH WITH EXAMPLES5.ipynb",
      "provenance": [],
      "collapsed_sections": [],
      "authorship_tag": "ABX9TyNQ9kc43C05KUon0rE3nlHv",
      "include_colab_link": true
    },
    "kernelspec": {
      "name": "python3",
      "display_name": "Python 3"
    },
    "accelerator": "GPU"
  },
  "cells": [
    {
      "cell_type": "markdown",
      "metadata": {
        "id": "view-in-github",
        "colab_type": "text"
      },
      "source": [
        "<a href=\"https://colab.research.google.com/github/perfectpanda-works/machine-learning/blob/master/LEARNING_PYTORCH_WITH_EXAMPLES5.ipynb\" target=\"_parent\"><img src=\"https://colab.research.google.com/assets/colab-badge.svg\" alt=\"Open In Colab\"/></a>"
      ]
    },
    {
      "cell_type": "markdown",
      "metadata": {
        "id": "gW2LA15k-atB",
        "colab_type": "text"
      },
      "source": [
        "#optimパッケージ"
      ]
    },
    {
      "cell_type": "markdown",
      "metadata": {
        "id": "HlaqAxoGZ9eP",
        "colab_type": "text"
      },
      "source": [
        "これまで、チュートリアルでは、学習可能なパラメーターを保持するテンソルを手動で変更することにより、モデルの重みを更新しました。\n",
        "\n",
        "（autogradで履歴の追跡を回避するためにtorch.no_grad（）または.dataを使用）。\n",
        "\n",
        "これは、確率的勾配降下法などの単純な最適化アルゴリズムにとって大きな負担ではありませんが、実際には、AdaGrad、RMSProp、Adamなどのより高度な最適化手法を使用してニューラルネットワークをトレーニングすることがよくあります。特に、Adamは使われているところをよくみます。\n",
        "\n",
        "PyTorchのoptimパッケージで、最適化アルゴリズムの概念を抽象化し、一般的に使用される最適化アルゴリズムを利用することができます。\n",
        "\n",
        "この例では、以前のようにnnパッケージを使用してモデルを定義しますが、optimパッケージによって提供されるAdamアルゴリズムを使用してモデルを最適化します。"
      ]
    },
    {
      "cell_type": "code",
      "metadata": {
        "id": "_jy5fh2l_o7y",
        "colab_type": "code",
        "colab": {}
      },
      "source": [
        "# -*- coding: utf-8 -*-\n",
        "import torch\n",
        "\n",
        "# N  　：バッチサイズ\n",
        "# D_in ：入力次元数\n",
        "# H　　：隠れ層の次元数\n",
        "# D_out：出力次元数\n",
        "N, D_in, H, D_out = 64, 1000, 100, 10\n",
        "\n",
        "# ランダムな入力データと出力データの作成\n",
        "x = torch.randn(N, D_in)\n",
        "y = torch.randn(N, D_out)\n",
        "\n",
        "# ニューラルネットワークと損失関数の定義\n",
        "model = torch.nn.Sequential(\n",
        "    torch.nn.Linear(D_in, H),\n",
        "    torch.nn.ReLU(),\n",
        "    torch.nn.Linear(H, D_out),\n",
        ")\n",
        "loss_fn = torch.nn.MSELoss(reduction='sum')"
      ],
      "execution_count": null,
      "outputs": []
    },
    {
      "cell_type": "markdown",
      "metadata": {
        "id": "hfVFh6hs_-xp",
        "colab_type": "text"
      },
      "source": [
        "次のプログラムで、最適化手法として、Adamオプティマイザーを設定します。optimizerの設定では、引数として、モデルのパラメータを渡します。この様にして、更新する重みを渡しています。"
      ]
    },
    {
      "cell_type": "code",
      "metadata": {
        "id": "e3JekU57aGId",
        "colab_type": "code",
        "colab": {
          "base_uri": "https://localhost:8080/",
          "height": 102
        },
        "outputId": "c6e19200-6318-4d65-c742-48e6a0f3d174"
      },
      "source": [
        "learning_rate = 1e-4\n",
        "#最適化手法をAdamで設定して「optimizer」というインスタンスに\n",
        "optimizer = torch.optim.Adam(model.parameters(), lr=learning_rate)\n",
        "for t in range(500):\n",
        "    # 順伝播\n",
        "    y_pred = model(x)\n",
        "\n",
        "    # 損失の計算\n",
        "    loss = loss_fn(y_pred, y)\n",
        "    if t % 100 == 99:\n",
        "        print(t, loss.item())\n",
        "\n",
        "    # 「optimizer」のメソッドで勾配の初期化\n",
        "    optimizer.zero_grad()\n",
        "\n",
        "    # 逆伝播\n",
        "    loss.backward()\n",
        "\n",
        "    # 「optimizer」のメソッドで重みの更新\n",
        "    optimizer.step()"
      ],
      "execution_count": null,
      "outputs": [
        {
          "output_type": "stream",
          "text": [
            "99 51.76252746582031\n",
            "199 0.915617823600769\n",
            "299 0.009181630797684193\n",
            "399 3.8431022403528914e-05\n",
            "499 3.298908168858361e-08\n"
          ],
          "name": "stdout"
        }
      ]
    },
    {
      "cell_type": "code",
      "metadata": {
        "id": "-bLRSn7CnzUi",
        "colab_type": "code",
        "colab": {}
      },
      "source": [
        ""
      ],
      "execution_count": null,
      "outputs": []
    }
  ]
}